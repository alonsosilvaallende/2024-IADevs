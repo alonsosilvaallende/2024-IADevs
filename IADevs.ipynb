{
 "cells": [
  {
   "cell_type": "raw",
   "id": "09b39ae7-808b-4f1e-95bd-afdce4deb17d",
   "metadata": {},
   "source": [
    "---\n",
    "title: Potenciando la generación aumentada usando recuperación con grafos de conocimiento\n",
    "author: 'Alonso Silva (Github: alonsosilvaallende)'\n",
    "format:\n",
    "  revealjs:\n",
    "    theme: default\n",
    "    scrollable: true\n",
    "    toc: true\n",
    "    toc-depth: 1\n",
    "    slide-level: 3\n",
    "    slide-number: true\n",
    "---"
   ]
  },
  {
   "cell_type": "markdown",
   "id": "048f7d04-4b19-41d6-a28b-16bf31932d1b",
   "metadata": {},
   "source": [
    "### hi 👋, I'm Alonso {.smaller}\n",
    "\n",
    "- Researcher on Generative AI at Nokia Bell Labs\n",
    "- AI Consultant/Trainer\n",
    "- PhD at Inria, post-doc at UC Berkeley\n",
    "- Based in Paris, France\n",
    "- [https://alonsosilvaallende.github.io/](https://alonsosilvaallende.github.io/)\n",
    "    - Github: [https://github.com/alonsosilvaallende/](https://github.com/alonsosilvaallende/)\n",
    "    - Twitter: [@alonsosilva](https://twitter.com/alonsosilva)\n",
    "    - Bluesky: [https://bsky.app/profile/alonsosilva.bsky.social](https://bsky.app/profile/alonsosilva.bsky.social)\n",
    "    - Mastodon: [https://sigmoid.social/@alonsosilva](https://sigmoid.social/@alonsosilva)\n",
    "    - Linkedin: [https://www.linkedin.com/in/alonsosilvaallende/](https://www.linkedin.com/in/alonsosilvaallende/)\n",
    "\n",
    "###\n",
    "\n",
    "- Slides: [https://alonsosilvaallende.github.io/2024-IADevs/](https://alonsosilvaallende.github.io/2024-IADevs/)\n",
    "- This presentation: [https://github.com/alonsosilvaallende/2024-IADevs/blob/main/IADevs.ipynb](https://github.com/alonsosilvaallende/2024-IADevs/blob/main/IADevs.ipynb)"
   ]
  },
  {
   "cell_type": "code",
   "execution_count": 1,
   "id": "14509aed-3eb3-44f3-ab8a-ff4f831b7027",
   "metadata": {
    "execution": {
     "iopub.execute_input": "2024-12-08T09:24:58.522598Z",
     "iopub.status.busy": "2024-12-08T09:24:58.522111Z",
     "iopub.status.idle": "2024-12-08T09:24:58.528531Z",
     "shell.execute_reply": "2024-12-08T09:24:58.527374Z",
     "shell.execute_reply.started": "2024-12-08T09:24:58.522548Z"
    }
   },
   "outputs": [],
   "source": [
    "from IPython.display import IFrame"
   ]
  },
  {
   "cell_type": "markdown",
   "id": "6b784a8d-dd96-4b4b-b942-dfa138bc2841",
   "metadata": {},
   "source": [
    "# Introduction\n",
    "\n",
    "### Data"
   ]
  },
  {
   "cell_type": "code",
   "execution_count": 2,
   "id": "0c683dc0-9642-41f3-9309-0f653db224f2",
   "metadata": {
    "execution": {
     "iopub.execute_input": "2024-12-08T09:24:58.530291Z",
     "iopub.status.busy": "2024-12-08T09:24:58.529737Z",
     "iopub.status.idle": "2024-12-08T09:25:01.592457Z",
     "shell.execute_reply": "2024-12-08T09:25:01.591268Z",
     "shell.execute_reply.started": "2024-12-08T09:24:58.530246Z"
    }
   },
   "outputs": [
    {
     "data": {
      "text/html": [
       "<div><style>\n",
       ".dataframe > thead > tr,\n",
       ".dataframe > tbody > tr {\n",
       "  text-align: right;\n",
       "  white-space: pre-wrap;\n",
       "}\n",
       "</style>\n",
       "<small>shape: (5, 4)</small><table border=\"1\" class=\"dataframe\"><thead><tr><th>Song</th><th>Lyrics</th><th>Album</th><th>Artist</th></tr><tr><td>str</td><td>str</td><td>str</td><td>str</td></tr></thead><tbody><tr><td>&quot;Don&#x27;t Tread On Me&quot;</td><td>&quot;Liberty or death\n",
       "what we so pr…</td><td>&quot;The Black Album&quot;</td><td>&quot;Metallica&quot;</td></tr><tr><td>&quot;Nothing Else Matters&quot;</td><td>&quot;So close no matter how far\n",
       "cou…</td><td>&quot;The Black Album&quot;</td><td>&quot;Metallica&quot;</td></tr><tr><td>&quot;Through The Never&quot;</td><td>&quot;All that is\n",
       "was and will be\n",
       "un…</td><td>&quot;The Black Album&quot;</td><td>&quot;Metallica&quot;</td></tr><tr><td>&quot;My Friend Of Misery&quot;</td><td>&quot;You just stood there screaming…</td><td>&quot;The Black Album&quot;</td><td>&quot;Metallica&quot;</td></tr><tr><td>&quot;Wherever I May Roam&quot;</td><td>&quot;...and the road becomes my bri…</td><td>&quot;The Black Album&quot;</td><td>&quot;Metallica&quot;</td></tr></tbody></table></div>"
      ],
      "text/plain": [
       "shape: (5, 4)\n",
       "┌──────────────────────┬─────────────────────────────────┬─────────────────┬───────────┐\n",
       "│ Song                 ┆ Lyrics                          ┆ Album           ┆ Artist    │\n",
       "│ ---                  ┆ ---                             ┆ ---             ┆ ---       │\n",
       "│ str                  ┆ str                             ┆ str             ┆ str       │\n",
       "╞══════════════════════╪═════════════════════════════════╪═════════════════╪═══════════╡\n",
       "│ Don't Tread On Me    ┆ Liberty or death                ┆ The Black Album ┆ Metallica │\n",
       "│                      ┆ what we so pr…                  ┆                 ┆           │\n",
       "│ Nothing Else Matters ┆ So close no matter how far      ┆ The Black Album ┆ Metallica │\n",
       "│                      ┆ cou…                            ┆                 ┆           │\n",
       "│ Through The Never    ┆ All that is                     ┆ The Black Album ┆ Metallica │\n",
       "│                      ┆ was and will be                 ┆                 ┆           │\n",
       "│                      ┆ un…                             ┆                 ┆           │\n",
       "│ My Friend Of Misery  ┆ You just stood there screaming… ┆ The Black Album ┆ Metallica │\n",
       "│ Wherever I May Roam  ┆ ...and the road becomes my bri… ┆ The Black Album ┆ Metallica │\n",
       "└──────────────────────┴─────────────────────────────────┴─────────────────┴───────────┘"
      ]
     },
     "execution_count": 2,
     "metadata": {},
     "output_type": "execute_result"
    }
   ],
   "source": [
    "#| echo: true\n",
    "import polars as pl\n",
    "import string\n",
    "\n",
    "df = pl.read_csv(\n",
    "    \"https://drive.google.com/uc?export=download&id=1uD3h7xYxr9EoZ0Ggoh99JtQXa3AxtxyU\"\n",
    ")\n",
    "df = df.with_columns(\n",
    "    pl.Series(\"Album\", [string.capwords(album) for album in df[\"Album\"]])\n",
    ")\n",
    "df = df.with_columns(\n",
    "    pl.Series(\"Song\", [string.capwords(song) for song in df[\"Song\"]])\n",
    ")\n",
    "df = df.with_columns(pl.col(\"Lyrics\").fill_null(\"None\"))\n",
    "df.head()"
   ]
  },
  {
   "cell_type": "code",
   "execution_count": 3,
   "id": "004792e2-ca5c-43be-8869-ab35c17bdc4a",
   "metadata": {
    "execution": {
     "iopub.execute_input": "2024-12-08T09:25:01.594029Z",
     "iopub.status.busy": "2024-12-08T09:25:01.593535Z",
     "iopub.status.idle": "2024-12-08T09:25:01.598602Z",
     "shell.execute_reply": "2024-12-08T09:25:01.597709Z",
     "shell.execute_reply.started": "2024-12-08T09:25:01.593996Z"
    }
   },
   "outputs": [],
   "source": [
    "# #| echo: true\n",
    "# import string\n",
    "\n",
    "# df = df.with_columns(\n",
    "#     pl.Series(\"Album\", [string.capwords(album) for album in df[\"Album\"]])\n",
    "# )\n",
    "# df = df.with_columns(\n",
    "#     pl.Series(\"Song\", [string.capwords(song) for song in df[\"Song\"]])\n",
    "# )\n",
    "# df = df.with_columns(pl.col(\"Lyrics\").fill_null(\"None\"))\n",
    "# df.head()"
   ]
  },
  {
   "cell_type": "markdown",
   "id": "33935f54-5f48-4524-a3c4-57d5211ad50b",
   "metadata": {},
   "source": [
    "### Potential kind of queries"
   ]
  },
  {
   "cell_type": "code",
   "execution_count": 4,
   "id": "64162c3c-84f3-42cf-b576-0eee0490df78",
   "metadata": {
    "execution": {
     "iopub.execute_input": "2024-12-08T09:25:01.600154Z",
     "iopub.status.busy": "2024-12-08T09:25:01.599582Z",
     "iopub.status.idle": "2024-12-08T09:25:01.619027Z",
     "shell.execute_reply": "2024-12-08T09:25:01.617756Z",
     "shell.execute_reply.started": "2024-12-08T09:25:01.600122Z"
    }
   },
   "outputs": [],
   "source": [
    "#| echo: true\n",
    "queries = [\n",
    "    \"Which song is about a boy who is having nightmares?\",\n",
    "    \"\"\"Which song is about a guy who is so badly wounded in war \n",
    "    so he no longer has any senses?\"\"\",\n",
    "    \"How many songs does the reload album have?\",\n",
    "    \"Which songs does the black album have?\"\n",
    "]"
   ]
  },
  {
   "cell_type": "markdown",
   "id": "a13346f7-726b-436a-80ca-480b123045e3",
   "metadata": {},
   "source": [
    "# Vector-only retrieval"
   ]
  },
  {
   "cell_type": "markdown",
   "id": "3f8f8849-382d-4973-b785-47f450f78321",
   "metadata": {},
   "source": [
    "### {.nostretch}\n",
    "\n",
    "![](./assets/lancedb-logo.svg \"LanceDB logo\"){width=\"40%\"}\n",
    "\n",
    "Vector database: [https://lancedb.com/](https://lancedb.com/)"
   ]
  },
  {
   "cell_type": "markdown",
   "id": "6aef41e0-306a-41ca-86d9-9d8546ce3e90",
   "metadata": {},
   "source": [
    "### Vector-only retrieval"
   ]
  },
  {
   "cell_type": "code",
   "execution_count": 5,
   "id": "57f27cbd-a17b-4e67-98ce-46349cc60552",
   "metadata": {
    "execution": {
     "iopub.execute_input": "2024-12-08T09:25:01.620810Z",
     "iopub.status.busy": "2024-12-08T09:25:01.620256Z",
     "iopub.status.idle": "2024-12-08T09:25:01.631459Z",
     "shell.execute_reply": "2024-12-08T09:25:01.630181Z",
     "shell.execute_reply.started": "2024-12-08T09:25:01.620768Z"
    }
   },
   "outputs": [],
   "source": [
    "# #| echo: true\n",
    "# df = df.with_columns(\n",
    "#     text=pl.lit(\"Album: \")\n",
    "#     + pl.col(\"Album\")\n",
    "#     + pl.lit(\"\\nSong: \")\n",
    "#     + pl.col(\"Song\")\n",
    "#     + pl.lit(\"\\n\\n\")\n",
    "#     + pl.col(\"Lyrics\")\n",
    "# )\n",
    "\n",
    "# df.head()"
   ]
  },
  {
   "cell_type": "code",
   "execution_count": 6,
   "id": "ce5545b6-db09-4533-8097-224cf8745e64",
   "metadata": {
    "execution": {
     "iopub.execute_input": "2024-12-08T09:25:01.635983Z",
     "iopub.status.busy": "2024-12-08T09:25:01.635001Z",
     "iopub.status.idle": "2024-12-08T09:25:01.648114Z",
     "shell.execute_reply": "2024-12-08T09:25:01.646909Z",
     "shell.execute_reply.started": "2024-12-08T09:25:01.635940Z"
    }
   },
   "outputs": [
    {
     "data": {
      "text/html": [
       "<div><style>\n",
       ".dataframe > thead > tr,\n",
       ".dataframe > tbody > tr {\n",
       "  text-align: right;\n",
       "  white-space: pre-wrap;\n",
       "}\n",
       "</style>\n",
       "<small>shape: (5, 5)</small><table border=\"1\" class=\"dataframe\"><thead><tr><th>Song</th><th>Lyrics</th><th>Album</th><th>Artist</th><th>text</th></tr><tr><td>str</td><td>str</td><td>str</td><td>str</td><td>str</td></tr></thead><tbody><tr><td>&quot;Don&#x27;t Tread On Me&quot;</td><td>&quot;Liberty or death\n",
       "what we so pr…</td><td>&quot;The Black Album&quot;</td><td>&quot;Metallica&quot;</td><td>&quot;# The Black Album: Don&#x27;t Tread…</td></tr><tr><td>&quot;Nothing Else Matters&quot;</td><td>&quot;So close no matter how far\n",
       "cou…</td><td>&quot;The Black Album&quot;</td><td>&quot;Metallica&quot;</td><td>&quot;# The Black Album: Nothing Els…</td></tr><tr><td>&quot;Through The Never&quot;</td><td>&quot;All that is\n",
       "was and will be\n",
       "un…</td><td>&quot;The Black Album&quot;</td><td>&quot;Metallica&quot;</td><td>&quot;# The Black Album: Through The…</td></tr><tr><td>&quot;My Friend Of Misery&quot;</td><td>&quot;You just stood there screaming…</td><td>&quot;The Black Album&quot;</td><td>&quot;Metallica&quot;</td><td>&quot;# The Black Album: My Friend O…</td></tr><tr><td>&quot;Wherever I May Roam&quot;</td><td>&quot;...and the road becomes my bri…</td><td>&quot;The Black Album&quot;</td><td>&quot;Metallica&quot;</td><td>&quot;# The Black Album: Wherever I …</td></tr></tbody></table></div>"
      ],
      "text/plain": [
       "shape: (5, 5)\n",
       "┌──────────────────────┬──────────────────────┬─────────────────┬───────────┬──────────────────────┐\n",
       "│ Song                 ┆ Lyrics               ┆ Album           ┆ Artist    ┆ text                 │\n",
       "│ ---                  ┆ ---                  ┆ ---             ┆ ---       ┆ ---                  │\n",
       "│ str                  ┆ str                  ┆ str             ┆ str       ┆ str                  │\n",
       "╞══════════════════════╪══════════════════════╪═════════════════╪═══════════╪══════════════════════╡\n",
       "│ Don't Tread On Me    ┆ Liberty or death     ┆ The Black Album ┆ Metallica ┆ # The Black Album:   │\n",
       "│                      ┆ what we so pr…       ┆                 ┆           ┆ Don't Tread…         │\n",
       "│ Nothing Else Matters ┆ So close no matter   ┆ The Black Album ┆ Metallica ┆ # The Black Album:   │\n",
       "│                      ┆ how far              ┆                 ┆           ┆ Nothing Els…         │\n",
       "│                      ┆ cou…                 ┆                 ┆           ┆                      │\n",
       "│ Through The Never    ┆ All that is          ┆ The Black Album ┆ Metallica ┆ # The Black Album:   │\n",
       "│                      ┆ was and will be      ┆                 ┆           ┆ Through The…         │\n",
       "│                      ┆ un…                  ┆                 ┆           ┆                      │\n",
       "│ My Friend Of Misery  ┆ You just stood there ┆ The Black Album ┆ Metallica ┆ # The Black Album:   │\n",
       "│                      ┆ screaming…           ┆                 ┆           ┆ My Friend O…         │\n",
       "│ Wherever I May Roam  ┆ ...and the road      ┆ The Black Album ┆ Metallica ┆ # The Black Album:   │\n",
       "│                      ┆ becomes my bri…      ┆                 ┆           ┆ Wherever I …         │\n",
       "└──────────────────────┴──────────────────────┴─────────────────┴───────────┴──────────────────────┘"
      ]
     },
     "execution_count": 6,
     "metadata": {},
     "output_type": "execute_result"
    }
   ],
   "source": [
    "#| echo: true\n",
    "df = df.with_columns(\n",
    "    text=pl.lit(\"# \")\n",
    "    + pl.col(\"Album\")\n",
    "    + pl.lit(\": \")\n",
    "    + pl.col(\"Song\")\n",
    "    + pl.lit(\"\\n\\n\")\n",
    "    + pl.col(\"Lyrics\")\n",
    ")\n",
    "\n",
    "df.head()"
   ]
  },
  {
   "cell_type": "markdown",
   "id": "8111c419-d801-4815-bf50-cba55ebebc6d",
   "metadata": {},
   "source": [
    "### Vector-only retrieval"
   ]
  },
  {
   "cell_type": "code",
   "execution_count": 7,
   "id": "d23c41c4-ebe2-4af9-a7a5-0b1a088b4d0f",
   "metadata": {
    "execution": {
     "iopub.execute_input": "2024-12-08T09:25:01.649884Z",
     "iopub.status.busy": "2024-12-08T09:25:01.649223Z",
     "iopub.status.idle": "2024-12-08T09:25:01.662037Z",
     "shell.execute_reply": "2024-12-08T09:25:01.660741Z",
     "shell.execute_reply.started": "2024-12-08T09:25:01.649844Z"
    }
   },
   "outputs": [
    {
     "name": "stdout",
     "output_type": "stream",
     "text": [
      "# The Black Album: Nothing Else Matters\n",
      "\n",
      "So close no matter how far\n",
      "couldn't be much more from the heart\n",
      "forever trusting who we are\n",
      "and nothing else matters\n",
      "never opened myself this way\n",
      "life is ours\n",
      "we live it our way\n",
      "all these words I don't just say\n",
      "and nothing else matters\n",
      "trust I seek and I find\n",
      "...\n"
     ]
    }
   ],
   "source": [
    "#| echo: true\n",
    "print(df.select(\"text\")[1].item()[:300])\n",
    "print(\"...\")"
   ]
  },
  {
   "cell_type": "markdown",
   "id": "02a21144-48d5-4757-a9c5-1ffd47efe1e5",
   "metadata": {},
   "source": [
    "### Vector-only retrieval"
   ]
  },
  {
   "cell_type": "code",
   "execution_count": 103,
   "id": "77714984-e16b-4498-860f-7fee655a9df4",
   "metadata": {
    "execution": {
     "iopub.execute_input": "2024-12-08T09:54:52.667202Z",
     "iopub.status.busy": "2024-12-08T09:54:52.666088Z",
     "iopub.status.idle": "2024-12-08T09:54:52.676565Z",
     "shell.execute_reply": "2024-12-08T09:54:52.675071Z",
     "shell.execute_reply.started": "2024-12-08T09:54:52.667155Z"
    }
   },
   "outputs": [],
   "source": [
    "#| echo: true\n",
    "# Initialize vector database\n",
    "import shutil\n",
    "import lancedb\n",
    "\n",
    "shutil.rmtree(\"lancedb_explorer\", ignore_errors=True)\n",
    "db = lancedb.connect(\"lancedb_explorer\")"
   ]
  },
  {
   "cell_type": "markdown",
   "id": "2b32db62-8eed-49a1-8664-22d68aac780c",
   "metadata": {},
   "source": [
    "### Vector-only retrieval"
   ]
  },
  {
   "cell_type": "code",
   "execution_count": 104,
   "id": "c20058dd-85e6-429c-aeab-f3e20a6fe4b5",
   "metadata": {
    "execution": {
     "iopub.execute_input": "2024-12-08T09:54:53.738041Z",
     "iopub.status.busy": "2024-12-08T09:54:53.737427Z",
     "iopub.status.idle": "2024-12-08T09:54:53.744751Z",
     "shell.execute_reply": "2024-12-08T09:54:53.743301Z",
     "shell.execute_reply.started": "2024-12-08T09:54:53.737994Z"
    }
   },
   "outputs": [],
   "source": [
    "#| echo: true\n",
    "from lancedb.embeddings import get_registry\n",
    "\n",
    "embeddings = (\n",
    "    get_registry()\n",
    "    .get(\"sentence-transformers\")\n",
    "    .create(name=\"TaylorAI/gte-tiny\", device=\"cuda\")\n",
    ")"
   ]
  },
  {
   "cell_type": "markdown",
   "id": "d7b337cf-a7d1-4d57-b479-6e6beb1d9754",
   "metadata": {},
   "source": [
    "### Vector-only retrieval"
   ]
  },
  {
   "cell_type": "code",
   "execution_count": 105,
   "id": "edd4be7f-59d0-43c1-a0eb-d72f8b99768b",
   "metadata": {
    "execution": {
     "iopub.execute_input": "2024-12-08T09:54:54.926474Z",
     "iopub.status.busy": "2024-12-08T09:54:54.926024Z",
     "iopub.status.idle": "2024-12-08T09:54:54.956611Z",
     "shell.execute_reply": "2024-12-08T09:54:54.955319Z",
     "shell.execute_reply.started": "2024-12-08T09:54:54.926432Z"
    }
   },
   "outputs": [],
   "source": [
    "#| echo: true\n",
    "from lancedb.pydantic import LanceModel, Vector\n",
    "\n",
    "class Songs(LanceModel):\n",
    "    Song: str\n",
    "    Lyrics: str\n",
    "    Album: str\n",
    "    Artist: str\n",
    "    text: str = embeddings.SourceField()\n",
    "    vector: Vector(embeddings.ndims()) = embeddings.VectorField()"
   ]
  },
  {
   "cell_type": "markdown",
   "id": "a5fa5ac6-a9fc-44eb-ba22-dd7279192fc9",
   "metadata": {},
   "source": [
    "### Vector-only retrieval"
   ]
  },
  {
   "cell_type": "code",
   "execution_count": 106,
   "id": "16ddf216-1f98-4a87-85c5-94af61ecd17b",
   "metadata": {
    "execution": {
     "iopub.execute_input": "2024-12-08T09:54:56.182532Z",
     "iopub.status.busy": "2024-12-08T09:54:56.182073Z",
     "iopub.status.idle": "2024-12-08T09:54:56.488255Z",
     "shell.execute_reply": "2024-12-08T09:54:56.486905Z",
     "shell.execute_reply.started": "2024-12-08T09:54:56.182488Z"
    }
   },
   "outputs": [],
   "source": [
    "#| echo: true\n",
    "# Add dataframe to the vector database\n",
    "table = db.create_table(\"Songs\", schema=Songs)\n",
    "table.add(data=df)"
   ]
  },
  {
   "cell_type": "code",
   "execution_count": 107,
   "id": "e30e6920-f43e-4b30-9ffd-9cf9cc4b7643",
   "metadata": {
    "execution": {
     "iopub.execute_input": "2024-12-08T09:54:59.912421Z",
     "iopub.status.busy": "2024-12-08T09:54:59.911879Z",
     "iopub.status.idle": "2024-12-08T09:54:59.918807Z",
     "shell.execute_reply": "2024-12-08T09:54:59.917642Z",
     "shell.execute_reply.started": "2024-12-08T09:54:59.912374Z"
    }
   },
   "outputs": [],
   "source": [
    "# define reranker if you want different weigths than the defaults \n",
    "# and to return all scores\n",
    "from lancedb.rerankers import LinearCombinationReranker\n",
    "\n",
    "reranker = LinearCombinationReranker(\n",
    "    weight=0.9, return_score=\"all\"\n",
    ")  # Use 0.9 as the weight for semantic search"
   ]
  },
  {
   "cell_type": "markdown",
   "id": "fb1f4467-2d2d-4b2e-97b0-68c8256beade",
   "metadata": {},
   "source": [
    "### Vector-only retrieval"
   ]
  },
  {
   "cell_type": "code",
   "execution_count": 109,
   "id": "52db9637-79fc-4a79-9eac-5dd2d7b3f801",
   "metadata": {
    "execution": {
     "iopub.execute_input": "2024-12-08T09:57:18.385334Z",
     "iopub.status.busy": "2024-12-08T09:57:18.384815Z",
     "iopub.status.idle": "2024-12-08T09:57:27.316743Z",
     "shell.execute_reply": "2024-12-08T09:57:27.315862Z",
     "shell.execute_reply.started": "2024-12-08T09:57:18.385289Z"
    }
   },
   "outputs": [
    {
     "data": {
      "text/html": [
       "<div><style>\n",
       ".dataframe > thead > tr,\n",
       ".dataframe > tbody > tr {\n",
       "  text-align: right;\n",
       "  white-space: pre-wrap;\n",
       "}\n",
       "</style>\n",
       "<small>shape: (10, 5)</small><table border=\"1\" class=\"dataframe\"><thead><tr><th>Song</th><th>Album</th><th>Lyrics</th><th>_distance</th><th>vector</th></tr><tr><td>str</td><td>str</td><td>str</td><td>f32</td><td>array[f32, 384]</td></tr></thead><tbody><tr><td>&quot;Enter Sandman&quot;</td><td>&quot;The Black Album&quot;</td><td>&quot;Say your prayers little one\n",
       "do…</td><td>0.228461</td><td>[-0.019242, 0.004355, … 0.019346]</td></tr><tr><td>&quot;The Thing That Should Not Be&quot;</td><td>&quot;S&amp;m&quot;</td><td>&quot;Messenger of fear in sight\n",
       "Dar…</td><td>0.229785</td><td>[-0.0343, -0.004135, … 0.017745]</td></tr><tr><td>&quot;Hero Of The Day&quot;</td><td>&quot;S&amp;m&quot;</td><td>&quot;Mama they try and break me\n",
       "The…</td><td>0.233728</td><td>[-0.06035, 0.001112, … 0.052594]</td></tr><tr><td>&quot;The Thing That Should Not Be&quot;</td><td>&quot;Master Of Puppets&quot;</td><td>&quot;Messenger of fear in sight\n",
       "Dar…</td><td>0.241206</td><td>[-0.039418, 0.001882, … 0.016381]</td></tr><tr><td>&quot;Hero Of The Day&quot;</td><td>&quot;Load&quot;</td><td>&quot;Mama they try and break me\n",
       "The…</td><td>0.245303</td><td>[-0.07442, -0.000922, … 0.047706]</td></tr><tr><td>&quot;Invisible Kid&quot;</td><td>&quot;St. Anger&quot;</td><td>&quot;Invisible Kid\n",
       "Never see what h…</td><td>0.2473</td><td>[-0.033447, -0.034929, … 0.047731]</td></tr><tr><td>&quot;Enter Sandman&quot;</td><td>&quot;S&amp;m&quot;</td><td>&quot;Let loose man!\n",
       "Say your prayer…</td><td>0.250452</td><td>[-0.024093, 0.032401, … 0.021124]</td></tr><tr><td>&quot;Sad But True&quot;</td><td>&quot;S&amp;m&quot;</td><td>&quot;Hey, hey, hey, hey, hey, hey, …</td><td>0.250919</td><td>[-0.046668, -0.00912, … 0.024796]</td></tr><tr><td>&quot;My Friend Of Misery&quot;</td><td>&quot;The Black Album&quot;</td><td>&quot;You just stood there screaming…</td><td>0.253463</td><td>[-0.0754, -0.001582, … 0.026701]</td></tr><tr><td>&quot;One&quot;</td><td>&quot;S&amp;m&quot;</td><td>&quot;I can&#x27;t remember anything\n",
       "Can&#x27;…</td><td>0.253472</td><td>[-0.055845, -0.000173, … 0.016305]</td></tr></tbody></table></div>"
      ],
      "text/plain": [
       "shape: (10, 5)\n",
       "┌──────────────────────┬───────────────────┬─────────────────────┬───────────┬─────────────────────┐\n",
       "│ Song                 ┆ Album             ┆ Lyrics              ┆ _distance ┆ vector              │\n",
       "│ ---                  ┆ ---               ┆ ---                 ┆ ---       ┆ ---                 │\n",
       "│ str                  ┆ str               ┆ str                 ┆ f32       ┆ array[f32, 384]     │\n",
       "╞══════════════════════╪═══════════════════╪═════════════════════╪═══════════╪═════════════════════╡\n",
       "│ Enter Sandman        ┆ The Black Album   ┆ Say your prayers    ┆ 0.228461  ┆ [-0.019242,         │\n",
       "│                      ┆                   ┆ little one          ┆           ┆ 0.004355, … 0.0193… │\n",
       "│                      ┆                   ┆ do…                 ┆           ┆                     │\n",
       "│ The Thing That       ┆ S&m               ┆ Messenger of fear   ┆ 0.229785  ┆ [-0.0343,           │\n",
       "│ Should Not Be        ┆                   ┆ in sight            ┆           ┆ -0.004135, …        │\n",
       "│                      ┆                   ┆ Dar…                ┆           ┆ 0.01774…            │\n",
       "│ Hero Of The Day      ┆ S&m               ┆ Mama they try and   ┆ 0.233728  ┆ [-0.06035,          │\n",
       "│                      ┆                   ┆ break me            ┆           ┆ 0.001112, …         │\n",
       "│                      ┆                   ┆ The…                ┆           ┆ 0.05259…            │\n",
       "│ The Thing That       ┆ Master Of Puppets ┆ Messenger of fear   ┆ 0.241206  ┆ [-0.039418,         │\n",
       "│ Should Not Be        ┆                   ┆ in sight            ┆           ┆ 0.001882, … 0.0163… │\n",
       "│                      ┆                   ┆ Dar…                ┆           ┆                     │\n",
       "│ Hero Of The Day      ┆ Load              ┆ Mama they try and   ┆ 0.245303  ┆ [-0.07442,          │\n",
       "│                      ┆                   ┆ break me            ┆           ┆ -0.000922, …        │\n",
       "│                      ┆                   ┆ The…                ┆           ┆ 0.0477…             │\n",
       "│ Invisible Kid        ┆ St. Anger         ┆ Invisible Kid       ┆ 0.2473    ┆ [-0.033447,         │\n",
       "│                      ┆                   ┆ Never see what h…   ┆           ┆ -0.034929, … 0.047… │\n",
       "│ Enter Sandman        ┆ S&m               ┆ Let loose man!      ┆ 0.250452  ┆ [-0.024093,         │\n",
       "│                      ┆                   ┆ Say your prayer…    ┆           ┆ 0.032401, … 0.0211… │\n",
       "│ Sad But True         ┆ S&m               ┆ Hey, hey, hey, hey, ┆ 0.250919  ┆ [-0.046668,         │\n",
       "│                      ┆                   ┆ hey, hey, …         ┆           ┆ -0.00912, … 0.0247… │\n",
       "│ My Friend Of Misery  ┆ The Black Album   ┆ You just stood      ┆ 0.253463  ┆ [-0.0754,           │\n",
       "│                      ┆                   ┆ there screaming…    ┆           ┆ -0.001582, …        │\n",
       "│                      ┆                   ┆                     ┆           ┆ 0.02670…            │\n",
       "│ One                  ┆ S&m               ┆ I can't remember    ┆ 0.253472  ┆ [-0.055845,         │\n",
       "│                      ┆                   ┆ anything            ┆           ┆ -0.000173, … 0.016… │\n",
       "│                      ┆                   ┆ Can'…               ┆           ┆                     │\n",
       "└──────────────────────┴───────────────────┴─────────────────────┴───────────┴─────────────────────┘"
      ]
     },
     "execution_count": 109,
     "metadata": {},
     "output_type": "execute_result"
    }
   ],
   "source": [
    "#| echo: true\n",
    "query = \"Which song is about a boy who is having nightmares?\"\n",
    "results = table.search(query).limit(10).to_polars()\n",
    "results.select([\"Song\",\"Album\", \"Lyrics\", \"_distance\", \"vector\"])"
   ]
  },
  {
   "cell_type": "markdown",
   "id": "95631242-7b95-45af-b77f-36eb53127d81",
   "metadata": {},
   "source": [
    "### Vector-only retrieval"
   ]
  },
  {
   "cell_type": "code",
   "execution_count": 13,
   "id": "3d8276d5-5c46-4dc9-b151-064ab2947169",
   "metadata": {
    "execution": {
     "iopub.execute_input": "2024-12-08T09:25:09.611848Z",
     "iopub.status.busy": "2024-12-08T09:25:09.611044Z",
     "iopub.status.idle": "2024-12-08T09:25:09.659045Z",
     "shell.execute_reply": "2024-12-08T09:25:09.658204Z",
     "shell.execute_reply.started": "2024-12-08T09:25:09.611808Z"
    }
   },
   "outputs": [
    {
     "data": {
      "text/plain": [
       "['Enter Sandman',\n",
       " 'The Thing That Should Not Be',\n",
       " 'Hero Of The Day',\n",
       " 'The Thing That Should Not Be',\n",
       " 'Hero Of The Day',\n",
       " 'Invisible Kid',\n",
       " 'Enter Sandman',\n",
       " 'Sad But True',\n",
       " 'My Friend Of Misery',\n",
       " 'One']"
      ]
     },
     "execution_count": 13,
     "metadata": {},
     "output_type": "execute_result"
    }
   ],
   "source": [
    "#| echo: true\n",
    "query = \"Which song is about a boy who is having nightmares?\"\n",
    "results = table.search(query).limit(10).to_polars()\n",
    "results[\"Song\"].to_list()"
   ]
  },
  {
   "cell_type": "markdown",
   "id": "13c7cf35-ba66-4260-9857-2edc1966ef07",
   "metadata": {},
   "source": [
    "### Vector-only retrieval"
   ]
  },
  {
   "cell_type": "code",
   "execution_count": 14,
   "id": "44acbc4b-6ca3-4428-934a-8340ad1fffef",
   "metadata": {
    "execution": {
     "iopub.execute_input": "2024-12-08T09:25:09.660151Z",
     "iopub.status.busy": "2024-12-08T09:25:09.659801Z",
     "iopub.status.idle": "2024-12-08T09:25:09.686654Z",
     "shell.execute_reply": "2024-12-08T09:25:09.685547Z",
     "shell.execute_reply.started": "2024-12-08T09:25:09.660127Z"
    }
   },
   "outputs": [
    {
     "data": {
      "text/plain": [
       "['Phantom Lord',\n",
       " 'One',\n",
       " 'No Remorse',\n",
       " 'One',\n",
       " 'My Friend Of Misery',\n",
       " \"Low Man's Lyric\",\n",
       " 'The Unforgiven',\n",
       " 'Sad But True',\n",
       " \"Don't Tread On Me\",\n",
       " '2x4']"
      ]
     },
     "execution_count": 14,
     "metadata": {},
     "output_type": "execute_result"
    }
   ],
   "source": [
    "#| echo: true\n",
    "query = \"\"\"Which song is about a guy who is so badly wounded in war\n",
    "so he no longer has any senses?\"\"\"\n",
    "results = table.search(query).limit(10).to_polars()\n",
    "results[\"Song\"].to_list()"
   ]
  },
  {
   "cell_type": "markdown",
   "id": "89b0577f-2835-4dd3-9227-132559d7377f",
   "metadata": {},
   "source": [
    "## Vector-only retrieval\n",
    "\n",
    "[https://alonsosilva-song-finder.hf.space](https://alonsosilva-song-finder.hf.space)"
   ]
  },
  {
   "cell_type": "code",
   "execution_count": 15,
   "id": "96be5f5c-f3a0-491f-9189-cba6e4824091",
   "metadata": {
    "execution": {
     "iopub.execute_input": "2024-12-08T09:25:09.688167Z",
     "iopub.status.busy": "2024-12-08T09:25:09.687682Z",
     "iopub.status.idle": "2024-12-08T09:25:09.694404Z",
     "shell.execute_reply": "2024-12-08T09:25:09.693570Z",
     "shell.execute_reply.started": "2024-12-08T09:25:09.688129Z"
    }
   },
   "outputs": [
    {
     "data": {
      "text/html": [
       "\n",
       "        <iframe\n",
       "            width=\"850\"\n",
       "            height=\"450\"\n",
       "            src=\"https://alonsosilva-song-finder.hf.space\"\n",
       "            frameborder=\"0\"\n",
       "            allowfullscreen\n",
       "            \n",
       "        ></iframe>\n",
       "        "
      ],
      "text/plain": [
       "<IPython.lib.display.IFrame at 0x722f6c8f8a70>"
      ]
     },
     "execution_count": 15,
     "metadata": {},
     "output_type": "execute_result"
    }
   ],
   "source": [
    "IFrame(\"https://alonsosilva-song-finder.hf.space\", width=850, height=450)"
   ]
  },
  {
   "cell_type": "markdown",
   "id": "de52d550-a5bf-4b73-8d29-6153514edc79",
   "metadata": {},
   "source": [
    "###\n",
    "::: {style=\"margin-top: 200px; font-size: 2em; color: black;\"}\n",
    "Retrieval Augmented Generation (RAG)\n",
    ":::"
   ]
  },
  {
   "cell_type": "code",
   "execution_count": 16,
   "id": "396623b9-7597-44dc-97f8-cb695d3ef6ba",
   "metadata": {
    "execution": {
     "iopub.execute_input": "2024-12-08T09:25:09.695903Z",
     "iopub.status.busy": "2024-12-08T09:25:09.695357Z",
     "iopub.status.idle": "2024-12-08T09:25:09.705389Z",
     "shell.execute_reply": "2024-12-08T09:25:09.704223Z",
     "shell.execute_reply.started": "2024-12-08T09:25:09.695869Z"
    }
   },
   "outputs": [],
   "source": [
    "# #| echo: true\n",
    "# import llama_cpp\n",
    "\n",
    "# llm = llama_cpp.Llama(\n",
    "#     \"/big_storage/llms/models/Hermes-3-Llama-3.1-8B.Q6_K.gguf\",\n",
    "#     tokenizer=llama_cpp.llama_tokenizer.LlamaHFTokenizer.from_pretrained(\n",
    "#         \"NousResearch/Hermes-3-Llama-3.1-8B\"\n",
    "#     ),\n",
    "#     n_gpu_layers=-1,\n",
    "#     flash_attn=True,\n",
    "#     n_ctx=8192,\n",
    "#     verbose=False,\n",
    "# )"
   ]
  },
  {
   "cell_type": "markdown",
   "id": "fd57d71f-56b1-4606-bf0d-118fd584b74d",
   "metadata": {},
   "source": [
    "###"
   ]
  },
  {
   "attachments": {},
   "cell_type": "markdown",
   "id": "7562ce14-9775-49d5-a3d9-8fa2e197efde",
   "metadata": {},
   "source": [
    "::: {.column width=\"25%\"}\n",
    "![](./assets/llama-cpp-logo.png \"llama.cpp logo\"){width=\"50%\"}\n",
    ":::\n",
    "\n",
    "::: {.column width=\"25%\"}\n",
    "![](./assets/llama-cpp-python-logo.svg \"llama-cpp-python logo\"){width=\"30%\"}\n",
    ":::\n",
    "\n",
    "::: {.column width=\"25%\"}\n",
    "![](./assets/NousResearch2.jpg \"NousResearch logo\"){width=\"50%\"}\n",
    ":::\n",
    "\n",
    "::: {.column width=\"20%\"}\n",
    "![](./assets/hf.png \"HuggingFace logo\"){width=\"100%\"}\n",
    ":::\n",
    "\n",
    "- [https://github.com/ggerganov/llama.cpp](https://github.com/ggerganov/llama.cpp)\n",
    "- [https://llama-cpp-python.readthedocs.io/](https://llama-cpp-python.readthedocs.io/)\n",
    "- [https://nousresearch.com/](https://nousresearch.com/)\n",
    "- [https://huggingface.co/](https://huggingface.co/)"
   ]
  },
  {
   "cell_type": "markdown",
   "id": "5b5d56de-d2b7-47cb-89ee-84a084c17666",
   "metadata": {},
   "source": [
    "### Retrieval Augmented Generation (RAG)"
   ]
  },
  {
   "cell_type": "code",
   "execution_count": 17,
   "id": "b38cdd1b-27c9-42e6-a881-1a2d39deda78",
   "metadata": {
    "execution": {
     "iopub.execute_input": "2024-12-08T09:25:09.706979Z",
     "iopub.status.busy": "2024-12-08T09:25:09.706469Z",
     "iopub.status.idle": "2024-12-08T09:25:11.900291Z",
     "shell.execute_reply": "2024-12-08T09:25:11.899521Z",
     "shell.execute_reply.started": "2024-12-08T09:25:09.706941Z"
    }
   },
   "outputs": [
    {
     "name": "stderr",
     "output_type": "stream",
     "text": [
      "llama_new_context_with_model: n_ctx_per_seq (8192) < n_ctx_train (131072) -- the full capacity of the model will not be utilized\n"
     ]
    }
   ],
   "source": [
    "#| echo: true\n",
    "import llama_cpp  \n",
    "\n",
    "model_id = \"NousResearch/Hermes-3-Llama-3.1-8B\" # <1>\n",
    "llm = llama_cpp.Llama(  # <2>\n",
    "    \"/big_storage/llms/models/Hermes-3-Llama-3.1-8B.Q6_K.gguf\",\n",
    "    tokenizer=llama_cpp.llama_tokenizer.LlamaHFTokenizer.from_pretrained(\n",
    "        model_id\n",
    "    ),\n",
    "    n_gpu_layers=-1,\n",
    "    flash_attn=True,\n",
    "    n_ctx=8192,\n",
    "    verbose=False,\n",
    "    chat_format=\"chatml-function-calling\"\n",
    ")"
   ]
  },
  {
   "cell_type": "markdown",
   "id": "389288db-61ac-499b-9ae6-89a61f121d1b",
   "metadata": {},
   "source": [
    "1. [Hermes 3](https://nousresearch.com/hermes3/) by [NousResearch](https://nousresearch.com/)\n",
    "2. [llama-cpp-python](https://llama-cpp-python.readthedocs.io/) python bindings for [llama.cpp](https://github.com/ggerganov/llama.cpp)"
   ]
  },
  {
   "cell_type": "markdown",
   "id": "d6d56669-987d-4ee6-94e5-5760032f5ecd",
   "metadata": {},
   "source": [
    "### Retrieval Augmented Generation (RAG)"
   ]
  },
  {
   "cell_type": "code",
   "execution_count": 18,
   "id": "1baa8b46-0277-4807-8bb2-815941830a3a",
   "metadata": {
    "execution": {
     "iopub.execute_input": "2024-12-08T09:25:11.901419Z",
     "iopub.status.busy": "2024-12-08T09:25:11.901039Z",
     "iopub.status.idle": "2024-12-08T09:25:11.919640Z",
     "shell.execute_reply": "2024-12-08T09:25:11.918776Z",
     "shell.execute_reply.started": "2024-12-08T09:25:11.901393Z"
    },
    "scrolled": true
   },
   "outputs": [
    {
     "name": "stdout",
     "output_type": "stream",
     "text": [
      "# Kill 'em All: Phantom Lord\n",
      "\n",
      "Sound is ripping through your ears\n",
      "The deafening sound of metal nears\n",
      "Your bodies waiting for his whips\n",
      "The taste of leather on your lips\n",
      "Hear the cry of war\n",
      "Louder than before\n",
      "With his sword in hand\n",
      "To control the land\n",
      "Crushing metal strikes\n",
      "On this frightening night\n",
      "Fall onto your knees\n",
      "For the phantom lord\n",
      "Victims falling under chains\n",
      "You hear them crying dying pains\n",
      "The fist of terrors breaking through\n",
      "Now there's nothing you can do\n",
      "Hear the cry of war\n",
      "Louder than before\n",
      "With his sword in hand\n",
      "To control the land\n",
      "Crushing metal strikes\n",
      "On this frightening night\n",
      "Fall onto your knees\n",
      "For the phantom lord\n",
      "The leather armies have prevailed\n",
      "The phantom lord has never failed\n",
      "Smoke is lifting from the ground\n",
      "The rising volume metal sound\n",
      "Hear the cry of war\n",
      "Louder than before\n",
      "With his sword in hand\n",
      "To control the land\n",
      "Crushing metal strikes\n",
      "On this frightening night\n",
      "Fall onto your knees\n",
      "For the phantom lord\n",
      "Fall to your knees\n",
      "And bow to the phantom lord\n",
      "\n",
      "---\n",
      "\n",
      " # And Justice For All..: One\n",
      "\n",
      "I Can't Remember Anything\n",
      "Can't Tell If this Is True or Dream\n",
      "Deep down Inside I Feel to Scream\n",
      "this Terrible Silence Stops Me\n",
      "Now That the War Is Through with Me\n",
      "I'm Waking up I Can Not See\n",
      "That There Is Not Much Left of Me\n",
      "Nothing Is Real but Pain Now\n",
      "Hold My Breath as I Wish for Death\n",
      "Oh Please God,wake Me\n",
      "Back in the Womb its Much Too Real\n",
      "in Pumps Life That I must Feel\n",
      "but Can't Look Forward to Reveal\n",
      "Look to the Time When I'll Live\n",
      "Fed Through the Tube That Sticks in Me\n",
      "Just like a Wartime Novelty\n",
      "Tied to Machines That Make Me Be\n",
      "Cut this Life off from Me\n",
      "Hold My Breath as I Wish for Death\n",
      "Oh Please God,wake Me\n",
      "Now the World Is Gone I'm Just One\n",
      "Oh God,help Me Hold My Breath as I Wish for Death\n",
      "Oh Please God Help Me\n",
      "Darkness\n",
      "Imprisoning Me\n",
      "All That I See\n",
      "Absolute Horror\n",
      "I Cannot Live\n",
      "I Cannot Die\n",
      "Trapped in Myself\n",
      "Body My Holding Cell\n",
      "Landmine\n",
      "Has Taken My Sight\n",
      "Taken My Speech\n",
      "Taken My Hearing\n",
      "Taken My Arms\n",
      "Taken My Legs\n",
      "Taken My Soul\n",
      "Left Me with Life in Hell\n",
      "\n",
      "---\n",
      "\n",
      " # Kill 'em All: No Remorse\n",
      "\n",
      "No mercy for what we are doing\n",
      "No thought to even what we have done\n",
      "We don't need to feel the sorrow\n",
      "No remorse for the helpless one\n",
      "War without end\n",
      "No remorse no repent\n",
      "We don't care what it meant\n",
      "Another day another death\n",
      "Another sorrow another breath\n",
      "No remorse no repent\n",
      "We don't care what it meant\n",
      "Another day another death\n",
      "Another sorrow another breath\n",
      "Blood feeds the war machine\n",
      "As it eats its way across the land\n",
      "We don't need to feel the sorrow\n",
      "No remorse is the one command\n",
      "War without end\n",
      "No remorse no repent\n",
      "We don't care what it meant\n",
      "Another day another death\n",
      "Another sorrow another breath\n",
      "No remorse no repent\n",
      "We don't care what it meant\n",
      "Another day another death\n",
      "Another sorrow another breath\n",
      "Only the strong survive\n",
      "No one to save the weaker race\n",
      "We are ready to kill all comers\n",
      "Like a loaded gun right at your face\n",
      "War without end\n",
      "No remorse no repent\n",
      "We don't care what it meant\n",
      "Another day another death\n",
      "Another sorrow another breath\n",
      "No remorse no repent\n",
      "We don't care what it meant\n",
      "Another day another death\n",
      "Another sorrow another breath\n",
      "Attack\n",
      "Bullets are flying\n",
      "People are dying\n",
      "With madness surrounding all hell's breaking loose\n",
      "Soldiers are hounding\n",
      "Bodies are mounting\n",
      "Cannons are shouting to take their abuse\n",
      "With war machines going\n",
      "Blood starts to flowing\n",
      "No mercy given to anyone hear\n",
      "The furious fighting\n",
      "Swords are like lighting\n",
      "It all becomes frightening to you\n",
      "Know death is near\n",
      "No remorse\n",
      "\n",
      "---\n",
      "\n",
      " # S&m: One\n",
      "\n",
      "I can't remember anything\n",
      "Can't tell if this is true or dream\n",
      "Deep down\n",
      "inside I feel to scream\n",
      "This terrible silence stops me\n",
      "Now that the war is through with me\n",
      "I'm waking up, I cannot see\n",
      "That\n",
      "there's not much left of me\n",
      "Nothing is real but pain now\n",
      "Hold my breath as I wish for death\n",
      "Oh please God, wake me\n",
      "Back in the womb it's much to real\n",
      "In pumps life that I must feel\n",
      "But\n",
      "can't look forward to reveal\n",
      "Look to the time when I lived\n",
      "Fed through the tube that sticks in me\n",
      "Just like a wartime novelty\n",
      "Tied\n",
      "to machines that make me be\n",
      "Cut this shit out from me\n",
      "Hold my breath as I wish for death\n",
      "Oh please God, wake me\n",
      "Please God\n",
      "wake me!\n",
      "Now the world is gone I'm just one\n",
      "Oh God, help me\n",
      "Hold my breath as I\n",
      "wish for death\n",
      "Oh please God, help me, help me!!\n",
      "Darkness\n",
      "Imprisoning me\n",
      "All that I see\n",
      "Absolute horror\n",
      "I cannot\n",
      "live\n",
      "I cannot die\n",
      "Trapped in myself\n",
      "Body my holding cell\n",
      "Landmine\n",
      "Has taken my sight\n",
      "Taken my speech\n",
      "Taken my\n",
      "hearing\n",
      "Taken my arms\n",
      "Taken my legs\n",
      "Taken my soul\n",
      "Left me with life\n",
      "in hell \n",
      "no, NO, NO NO NO NO NO!!!\n",
      "\n",
      "---\n",
      "\n",
      " # The Black Album: My Friend Of Misery\n",
      "\n",
      "You just stood there screaming\n",
      "fearing no one was listening to you\n",
      "they say the empty can rattles the most\n",
      "the sound of your voice must soothe you\n",
      "hearing only what you want to hear\n",
      "and knowing only what you've heard\n",
      "you you're smothered in tragedy\n",
      "you're out to save the world\n",
      "misery\n",
      "you insist that the weight of the world\n",
      "should be on your shoulders\n",
      "misery\n",
      "there's much more to life than what you see\n",
      "my friend of misery\n",
      "you still stood there screaming\n",
      "no one caring about these words you tell\n",
      "my friend before your voice is gone\n",
      "one man's fun is another's hell\n",
      "these times are sent to try men's souls\n",
      "but something's wrong with all you see\n",
      "you you'll take it on all yourself\n",
      "remember\n",
      "misery loves company\n",
      "misery\n",
      "you insist that the weight of the world\n",
      "should be on your shoulders\n",
      "misery\n",
      "there's much more to life than what you see\n",
      "my friend of misery\n",
      "you just stood there creaming\n",
      "my friend of misery\n",
      "\n",
      "---\n",
      "\n",
      "\n"
     ]
    }
   ],
   "source": [
    "#| echo: true\n",
    "#| code-line-numbers: 1|3-5|7|1-9\n",
    "def get_relevant_texts(query):\n",
    "    results = (\n",
    "        table.search(query)\n",
    "             .limit(5)\n",
    "             .to_polars()\n",
    "    )\n",
    "    return \" \".join([results[\"text\"][i] + \"\\n\\n---\\n\\n\" for i in range(5)])\n",
    "\n",
    "print(get_relevant_texts(query))"
   ]
  },
  {
   "cell_type": "markdown",
   "id": "c53891cd-c890-4f65-b93b-488445ada5d7",
   "metadata": {},
   "source": [
    "### Retrieval Augmented Generation (RAG)"
   ]
  },
  {
   "cell_type": "code",
   "execution_count": 19,
   "id": "f4d2f277-f6d9-42df-8bcf-ebad8e157149",
   "metadata": {
    "execution": {
     "iopub.execute_input": "2024-12-08T09:25:11.920717Z",
     "iopub.status.busy": "2024-12-08T09:25:11.920471Z",
     "iopub.status.idle": "2024-12-08T09:25:11.939110Z",
     "shell.execute_reply": "2024-12-08T09:25:11.938040Z",
     "shell.execute_reply.started": "2024-12-08T09:25:11.920700Z"
    },
    "scrolled": true
   },
   "outputs": [
    {
     "name": "stdout",
     "output_type": "stream",
     "text": [
      "Answer the question based only on the following context:\n",
      "\n",
      "# Kill 'em All: Phantom Lord\n",
      "\n",
      "Sound is ripping through your ears\n",
      "The deafening sound of metal nears\n",
      "Your bodies waiting for his whips\n",
      "The taste of leather on your lips\n",
      "Hear the cry of war\n",
      "Louder than before\n",
      "With his sword in hand\n",
      "To control the land\n",
      "Crushing metal strikes\n",
      "On this frightening night\n",
      "Fall onto your knees\n",
      "For the phantom lord\n",
      "Victims falling under chains\n",
      "You hear them crying dying pains\n",
      "The fist of terrors breaking through\n",
      "Now there's nothing you can do\n",
      "Hear the cry of war\n",
      "Louder than before\n",
      "With his sword in hand\n",
      "To control the land\n",
      "Crushing metal strikes\n",
      "On this frightening night\n",
      "Fall onto your knees\n",
      "For the phantom lord\n",
      "The leather armies have prevailed\n",
      "The phantom lord has never failed\n",
      "Smoke is lifting from the ground\n",
      "The rising volume metal sound\n",
      "Hear the cry of war\n",
      "Louder than before\n",
      "With his sword in hand\n",
      "To control the land\n",
      "Crushing metal strikes\n",
      "On this frightening night\n",
      "Fall onto your knees\n",
      "For the phantom lord\n",
      "Fall to your knees\n",
      "And bow to the phantom lord\n",
      "\n",
      "---\n",
      "\n",
      " # And Justice For All..: One\n",
      "\n",
      "I Can't Remember Anything\n",
      "Can't Tell If this Is True or Dream\n",
      "Deep down Inside I Feel to Scream\n",
      "this Terrible Silence Stops Me\n",
      "Now That the War Is Through with Me\n",
      "I'm Waking up I Can Not See\n",
      "That There Is Not Much Left of Me\n",
      "Nothing Is Real but Pain Now\n",
      "Hold My Breath as I Wish for Death\n",
      "Oh Please God,wake Me\n",
      "Back in the Womb its Much Too Real\n",
      "in Pumps Life That I must Feel\n",
      "but Can't Look Forward to Reveal\n",
      "Look to the Time When I'll Live\n",
      "Fed Through the Tube That Sticks in Me\n",
      "Just like a Wartime Novelty\n",
      "Tied to Machines That Make Me Be\n",
      "Cut this Life off from Me\n",
      "Hold My Breath as I Wish for Death\n",
      "Oh Please God,wake Me\n",
      "Now the World Is Gone I'm Just One\n",
      "Oh God,help Me Hold My Breath as I Wish for Death\n",
      "Oh Please God Help Me\n",
      "Darkness\n",
      "Imprisoning Me\n",
      "All That I See\n",
      "Absolute Horror\n",
      "I Cannot Live\n",
      "I Cannot Die\n",
      "Trapped in Myself\n",
      "Body My Holding Cell\n",
      "Landmine\n",
      "Has Taken My Sight\n",
      "Taken My Speech\n",
      "Taken My Hearing\n",
      "Taken My Arms\n",
      "Taken My Legs\n",
      "Taken My Soul\n",
      "Left Me with Life in Hell\n",
      "\n",
      "---\n",
      "\n",
      " # Kill 'em All: No Remorse\n",
      "\n",
      "No mercy for what we are doing\n",
      "No thought to even what we have done\n",
      "We don't need to feel the sorrow\n",
      "No remorse for the helpless one\n",
      "War without end\n",
      "No remorse no repent\n",
      "We don't care what it meant\n",
      "Another day another death\n",
      "Another sorrow another breath\n",
      "No remorse no repent\n",
      "We don't care what it meant\n",
      "Another day another death\n",
      "Another sorrow another breath\n",
      "Blood feeds the war machine\n",
      "As it eats its way across the land\n",
      "We don't need to feel the sorrow\n",
      "No remorse is the one command\n",
      "War without end\n",
      "No remorse no repent\n",
      "We don't care what it meant\n",
      "Another day another death\n",
      "Another sorrow another breath\n",
      "No remorse no repent\n",
      "We don't care what it meant\n",
      "Another day another death\n",
      "Another sorrow another breath\n",
      "Only the strong survive\n",
      "No one to save the weaker race\n",
      "We are ready to kill all comers\n",
      "Like a loaded gun right at your face\n",
      "War without end\n",
      "No remorse no repent\n",
      "We don't care what it meant\n",
      "Another day another death\n",
      "Another sorrow another breath\n",
      "No remorse no repent\n",
      "We don't care what it meant\n",
      "Another day another death\n",
      "Another sorrow another breath\n",
      "Attack\n",
      "Bullets are flying\n",
      "People are dying\n",
      "With madness surrounding all hell's breaking loose\n",
      "Soldiers are hounding\n",
      "Bodies are mounting\n",
      "Cannons are shouting to take their abuse\n",
      "With war machines going\n",
      "Blood starts to flowing\n",
      "No mercy given to anyone hear\n",
      "The furious fighting\n",
      "Swords are like lighting\n",
      "It all becomes frightening to you\n",
      "Know death is near\n",
      "No remorse\n",
      "\n",
      "---\n",
      "\n",
      " # S&m: One\n",
      "\n",
      "I can't remember anything\n",
      "Can't tell if this is true or dream\n",
      "Deep down\n",
      "inside I feel to scream\n",
      "This terrible silence stops me\n",
      "Now that the war is through with me\n",
      "I'm waking up, I cannot see\n",
      "That\n",
      "there's not much left of me\n",
      "Nothing is real but pain now\n",
      "Hold my breath as I wish for death\n",
      "Oh please God, wake me\n",
      "Back in the womb it's much to real\n",
      "In pumps life that I must feel\n",
      "But\n",
      "can't look forward to reveal\n",
      "Look to the time when I lived\n",
      "Fed through the tube that sticks in me\n",
      "Just like a wartime novelty\n",
      "Tied\n",
      "to machines that make me be\n",
      "Cut this shit out from me\n",
      "Hold my breath as I wish for death\n",
      "Oh please God, wake me\n",
      "Please God\n",
      "wake me!\n",
      "Now the world is gone I'm just one\n",
      "Oh God, help me\n",
      "Hold my breath as I\n",
      "wish for death\n",
      "Oh please God, help me, help me!!\n",
      "Darkness\n",
      "Imprisoning me\n",
      "All that I see\n",
      "Absolute horror\n",
      "I cannot\n",
      "live\n",
      "I cannot die\n",
      "Trapped in myself\n",
      "Body my holding cell\n",
      "Landmine\n",
      "Has taken my sight\n",
      "Taken my speech\n",
      "Taken my\n",
      "hearing\n",
      "Taken my arms\n",
      "Taken my legs\n",
      "Taken my soul\n",
      "Left me with life\n",
      "in hell \n",
      "no, NO, NO NO NO NO NO!!!\n",
      "\n",
      "---\n",
      "\n",
      " # The Black Album: My Friend Of Misery\n",
      "\n",
      "You just stood there screaming\n",
      "fearing no one was listening to you\n",
      "they say the empty can rattles the most\n",
      "the sound of your voice must soothe you\n",
      "hearing only what you want to hear\n",
      "and knowing only what you've heard\n",
      "you you're smothered in tragedy\n",
      "you're out to save the world\n",
      "misery\n",
      "you insist that the weight of the world\n",
      "should be on your shoulders\n",
      "misery\n",
      "there's much more to life than what you see\n",
      "my friend of misery\n",
      "you still stood there screaming\n",
      "no one caring about these words you tell\n",
      "my friend before your voice is gone\n",
      "one man's fun is another's hell\n",
      "these times are sent to try men's souls\n",
      "but something's wrong with all you see\n",
      "you you'll take it on all yourself\n",
      "remember\n",
      "misery loves company\n",
      "misery\n",
      "you insist that the weight of the world\n",
      "should be on your shoulders\n",
      "misery\n",
      "there's much more to life than what you see\n",
      "my friend of misery\n",
      "you just stood there creaming\n",
      "my friend of misery\n",
      "\n",
      "---\n",
      "\n",
      "\n",
      "\n",
      "Question: Which song is about a guy who is so badly wounded in war\n",
      "so he no longer has any senses?\n"
     ]
    }
   ],
   "source": [
    "#| echo: true\n",
    "#| code-line-numbers: 1|3-4|5-6|1-9\n",
    "def build_prompt(query):\n",
    "    return (\n",
    "        \"Answer the question based only on the following context:\\n\\n\"\n",
    "        + get_relevant_texts(query)\n",
    "        + \"\\n\\nQuestion: \"\n",
    "        + query\n",
    "    )\n",
    "\n",
    "print(build_prompt(query))"
   ]
  },
  {
   "cell_type": "markdown",
   "id": "2e924e0a-db77-4db9-b954-d1735aaf4235",
   "metadata": {},
   "source": [
    "### Retrieval Augmented Generation (RAG)"
   ]
  },
  {
   "cell_type": "code",
   "execution_count": 20,
   "id": "d55e213f-4a17-480b-af86-232a05e52aca",
   "metadata": {
    "execution": {
     "iopub.execute_input": "2024-12-08T09:25:11.940712Z",
     "iopub.status.busy": "2024-12-08T09:25:11.940209Z",
     "iopub.status.idle": "2024-12-08T09:25:11.946509Z",
     "shell.execute_reply": "2024-12-08T09:25:11.945377Z",
     "shell.execute_reply.started": "2024-12-08T09:25:11.940672Z"
    }
   },
   "outputs": [],
   "source": [
    "#| echo: true\n",
    "#| code-line-numbers: '1|2|3-7|8|1-8'\n",
    "def generate_response(query):\n",
    "    prompt = build_prompt(query)\n",
    "    response = llm.create_chat_completion(\n",
    "        messages=[{\"role\": \"user\", \"content\": prompt}], \n",
    "        temperature=0,\n",
    "        seed=42\n",
    "    )\n",
    "    return response[\"choices\"][0][\"message\"][\"content\"]"
   ]
  },
  {
   "cell_type": "markdown",
   "id": "df26685f-053d-4a9d-8df3-97853fec09ba",
   "metadata": {},
   "source": [
    "### Retrieval Augmented Generation (RAG)"
   ]
  },
  {
   "cell_type": "code",
   "execution_count": 21,
   "id": "6a18ff4d-ce70-4998-aa94-63730b494ef5",
   "metadata": {
    "execution": {
     "iopub.execute_input": "2024-12-08T09:25:11.954988Z",
     "iopub.status.busy": "2024-12-08T09:25:11.954382Z",
     "iopub.status.idle": "2024-12-08T09:25:14.677221Z",
     "shell.execute_reply": "2024-12-08T09:25:14.676442Z",
     "shell.execute_reply.started": "2024-12-08T09:25:11.954948Z"
    }
   },
   "outputs": [
    {
     "name": "stderr",
     "output_type": "stream",
     "text": [
      "/home/asilva/quarto/2024-IADevs/.venv/lib/python3.12/site-packages/llama_cpp/llama.py:1237: RuntimeWarning: Detected duplicate leading \"<|begin_of_text|>\" in prompt, this will likely reduce response quality, consider removing it...\n",
      "  warnings.warn(\n"
     ]
    },
    {
     "name": "stdout",
     "output_type": "stream",
     "text": [
      "Based on the context provided, the song that is about a guy who is so badly wounded in war that he no longer has any senses is \"And Justice For All..: One\". The lyrics mention losing sight, speech, hearing, arms, legs, and soul, being trapped in his body, and being left with life in hell.\n"
     ]
    }
   ],
   "source": [
    "#| echo: true\n",
    "query = \"\"\"Which song is about a guy who is so badly wounded in war\n",
    "so he no longer has any senses?\"\"\"\n",
    "print(generate_response(query))"
   ]
  },
  {
   "cell_type": "markdown",
   "id": "b231d869-53a6-4a40-967e-a55a4422d840",
   "metadata": {},
   "source": [
    "### Retrieval Augmented Generation (RAG)"
   ]
  },
  {
   "cell_type": "code",
   "execution_count": 22,
   "id": "18babdf4-80b5-4b91-b854-c4cf37c86a10",
   "metadata": {
    "execution": {
     "iopub.execute_input": "2024-12-08T09:25:14.678701Z",
     "iopub.status.busy": "2024-12-08T09:25:14.678188Z",
     "iopub.status.idle": "2024-12-08T09:25:18.744255Z",
     "shell.execute_reply": "2024-12-08T09:25:18.743528Z",
     "shell.execute_reply.started": "2024-12-08T09:25:14.678661Z"
    }
   },
   "outputs": [
    {
     "name": "stdout",
     "output_type": "stream",
     "text": [
      "The song that is about a boy who is having nightmares is \"The Black Album: Enter Sandman\". The lyrics mention \"Say your prayers little one / don't forget / my son / to include everyone / tuck you in / warm within / keep you free from sin / till the sandman he comes\", suggesting a child being comforted before going to sleep and having nightmares. The lyrics also mention \"dreams of war / dreams of liars / dreams of dragon's fire / and of things that will bite\", which further supports the theme of nightmares.\n"
     ]
    }
   ],
   "source": [
    "#| echo: true\n",
    "query = \"Which song is about a boy who is having nightmares?\"\n",
    "print(generate_response(query))"
   ]
  },
  {
   "cell_type": "markdown",
   "id": "091b37a8",
   "metadata": {},
   "source": [
    "### Retrieval Augmented Generation (RAG)\n",
    "\n",
    "[https://alonsosilva-song-finder-bot.hf.space](https://alonsosilva-song-finder-bot.hf.space)"
   ]
  },
  {
   "cell_type": "code",
   "execution_count": 23,
   "id": "123ed860-eb3c-4ee8-9fd0-a3a33b2dcf7a",
   "metadata": {
    "execution": {
     "iopub.execute_input": "2024-12-08T09:25:18.745017Z",
     "iopub.status.busy": "2024-12-08T09:25:18.744865Z",
     "iopub.status.idle": "2024-12-08T09:25:18.749215Z",
     "shell.execute_reply": "2024-12-08T09:25:18.748606Z",
     "shell.execute_reply.started": "2024-12-08T09:25:18.745003Z"
    }
   },
   "outputs": [
    {
     "data": {
      "text/html": [
       "\n",
       "        <iframe\n",
       "            width=\"850\"\n",
       "            height=\"450\"\n",
       "            src=\"https://alonsosilva-song-finder-bot.hf.space\"\n",
       "            frameborder=\"0\"\n",
       "            allowfullscreen\n",
       "            \n",
       "        ></iframe>\n",
       "        "
      ],
      "text/plain": [
       "<IPython.lib.display.IFrame at 0x722f66f4c800>"
      ]
     },
     "execution_count": 23,
     "metadata": {},
     "output_type": "execute_result"
    }
   ],
   "source": [
    "IFrame(\"https://alonsosilva-song-finder-bot.hf.space\", width=850, height=450)"
   ]
  },
  {
   "cell_type": "markdown",
   "id": "cc151191-2042-48e8-ab7e-a9aa3327eb16",
   "metadata": {},
   "source": [
    "### Retrieval Augmented Generation (RAG)"
   ]
  },
  {
   "cell_type": "code",
   "execution_count": 24,
   "id": "74cfe012-9eaa-426f-89ed-ce35c058714b",
   "metadata": {
    "execution": {
     "iopub.execute_input": "2024-12-08T09:25:18.749781Z",
     "iopub.status.busy": "2024-12-08T09:25:18.749661Z",
     "iopub.status.idle": "2024-12-08T09:25:21.072240Z",
     "shell.execute_reply": "2024-12-08T09:25:21.071125Z",
     "shell.execute_reply.started": "2024-12-08T09:25:18.749770Z"
    }
   },
   "outputs": [
    {
     "name": "stdout",
     "output_type": "stream",
     "text": [
      "Based on the provided context, the Black Album appears to have 5 songs. The songs are:\n",
      "\n",
      "1. My Friend Of Misery\n",
      "2. Nothing Else Matters \n",
      "3. Don't Tread On Me\n",
      "4. Sad But True\n",
      "5. Holier Than Thou\n"
     ]
    }
   ],
   "source": [
    "#| echo: true\n",
    "query = \"How many songs does the black album have?\"\n",
    "print(generate_response(query))"
   ]
  },
  {
   "cell_type": "markdown",
   "id": "f24a6ac4-a2e5-4dcd-8515-d7c483344f1a",
   "metadata": {},
   "source": [
    "### Retrieval Augmented Generation (RAG)"
   ]
  },
  {
   "cell_type": "code",
   "execution_count": 25,
   "id": "e379b242-402d-4698-b111-8b941b7ceb45",
   "metadata": {
    "execution": {
     "iopub.execute_input": "2024-12-08T09:25:21.073969Z",
     "iopub.status.busy": "2024-12-08T09:25:21.073443Z",
     "iopub.status.idle": "2024-12-08T09:25:21.082178Z",
     "shell.execute_reply": "2024-12-08T09:25:21.081272Z",
     "shell.execute_reply.started": "2024-12-08T09:25:21.073926Z"
    }
   },
   "outputs": [
    {
     "data": {
      "text/plain": [
       "[\"Don't Tread On Me\",\n",
       " 'Nothing Else Matters',\n",
       " 'Through The Never',\n",
       " 'My Friend Of Misery',\n",
       " 'Wherever I May Roam',\n",
       " 'The Unforgiven',\n",
       " 'The Struggle Within',\n",
       " 'Of Wolf And Man',\n",
       " 'The God That Failed',\n",
       " 'Enter Sandman',\n",
       " 'Sad But True',\n",
       " 'Holier Than Thou']"
      ]
     },
     "execution_count": 25,
     "metadata": {},
     "output_type": "execute_result"
    }
   ],
   "source": [
    "#| echo: true\n",
    "df.filter(pl.col(\"Album\") == \"The Black Album\")[\"Song\"].to_list()"
   ]
  },
  {
   "cell_type": "markdown",
   "id": "fd2bf982-bef8-4a1d-8826-47e948656a74",
   "metadata": {},
   "source": [
    "# Graph-only retrieval"
   ]
  },
  {
   "cell_type": "markdown",
   "id": "a7bc85e2-68ac-4b40-a242-b690f7c9ee4d",
   "metadata": {},
   "source": [
    "### {.nostretch}\n",
    "\n",
    "![](./assets/kuzu-logo.png \"Kùzu logo\"){width=\"40%\"}\n",
    "\n",
    "Graph database: [https://kuzudb.com/](https://kuzudb.com/)"
   ]
  },
  {
   "cell_type": "markdown",
   "id": "3e5f78ab-365c-45f7-8a5e-73d2b41d9829",
   "metadata": {},
   "source": [
    "### Graph-only retrieval"
   ]
  },
  {
   "cell_type": "code",
   "execution_count": 101,
   "id": "5d4378cb-df11-4c71-8ab3-c315cf10ae13",
   "metadata": {
    "execution": {
     "iopub.execute_input": "2024-12-08T09:33:13.543179Z",
     "iopub.status.busy": "2024-12-08T09:33:13.542627Z",
     "iopub.status.idle": "2024-12-08T09:33:13.703508Z",
     "shell.execute_reply": "2024-12-08T09:33:13.702967Z",
     "shell.execute_reply.started": "2024-12-08T09:33:13.543134Z"
    }
   },
   "outputs": [],
   "source": [
    "#| echo: true\n",
    "# Initialize graph database\n",
    "import shutil\n",
    "import kuzu\n",
    "\n",
    "shutil.rmtree(\"kuzudb_explorer\", ignore_errors=True)\n",
    "db = kuzu.Database(\"kuzudb_explorer\")\n",
    "conn = kuzu.Connection(db)"
   ]
  },
  {
   "cell_type": "markdown",
   "id": "aca7798a-b70d-4d57-941f-1e7b77d7ac1b",
   "metadata": {},
   "source": [
    "### Graph-only retrieval"
   ]
  },
  {
   "cell_type": "code",
   "execution_count": 102,
   "id": "ccffbbae-952e-442a-9474-738fabf01f6b",
   "metadata": {
    "execution": {
     "iopub.execute_input": "2024-12-08T09:33:14.527422Z",
     "iopub.status.busy": "2024-12-08T09:33:14.526383Z",
     "iopub.status.idle": "2024-12-08T09:33:14.591779Z",
     "shell.execute_reply": "2024-12-08T09:33:14.590360Z",
     "shell.execute_reply.started": "2024-12-08T09:33:14.527369Z"
    }
   },
   "outputs": [],
   "source": [
    "#| echo: true\n",
    "# Create nodes schema\n",
    "conn.execute(\"CREATE NODE TABLE ARTIST(name STRING, PRIMARY KEY (name))\")\n",
    "conn.execute(\"CREATE NODE TABLE ALBUM(name STRING, PRIMARY KEY (name))\")\n",
    "conn.execute(\n",
    "\"CREATE NODE TABLE SONG(ID SERIAL,name STRING,lyrics STRING,PRIMARY KEY(ID))\"\n",
    ")\n",
    "# Create edges schema\n",
    "conn.execute(\"CREATE REL TABLE IN_ALBUM(FROM SONG TO ALBUM)\")\n",
    "conn.execute(\"CREATE REL TABLE FROM_ARTIST(FROM ALBUM TO ARTIST)\");"
   ]
  },
  {
   "cell_type": "markdown",
   "id": "b992f71a-70e5-4363-b317-b041f41c0817",
   "metadata": {},
   "source": [
    "### Graph-only retrieval"
   ]
  },
  {
   "cell_type": "code",
   "execution_count": 28,
   "id": "475cdbaf-1a22-4c76-ae12-7887e8befeb5",
   "metadata": {
    "execution": {
     "iopub.execute_input": "2024-12-08T09:25:21.296699Z",
     "iopub.status.busy": "2024-12-08T09:25:21.295881Z",
     "iopub.status.idle": "2024-12-08T09:25:22.482612Z",
     "shell.execute_reply": "2024-12-08T09:25:22.481139Z",
     "shell.execute_reply.started": "2024-12-08T09:25:21.296651Z"
    }
   },
   "outputs": [],
   "source": [
    "#| echo: true\n",
    "# Insert nodes\n",
    "for artist in df[\"Artist\"].unique():\n",
    "    conn.execute(f\"CREATE (artist:ARTIST {{name: '{artist}'}})\")\n",
    "\n",
    "for album in df[\"Album\"].unique():\n",
    "    conn.execute(f\"\"\"CREATE (album:ALBUM {{name: \"{album}\"}})\"\"\")\n",
    "\n",
    "for song, lyrics in df.select([\"Song\", \"text\"]).unique().rows():\n",
    "    replaced_lyrics = lyrics.replace('\"', \"'\")\n",
    "    conn.execute(\n",
    "        f\"\"\"CREATE (song:SONG {{name: \"{song}\", lyrics: \"{replaced_lyrics}\"}})\"\"\"\n",
    "    )"
   ]
  },
  {
   "cell_type": "markdown",
   "id": "785e67b7-4f75-423c-916c-1a554bf4a2ec",
   "metadata": {},
   "source": [
    "### Graph-only retrieval"
   ]
  },
  {
   "cell_type": "code",
   "execution_count": 29,
   "id": "caea1e10-54da-4dc3-86a7-47e518712b91",
   "metadata": {
    "execution": {
     "iopub.execute_input": "2024-12-08T09:25:22.484567Z",
     "iopub.status.busy": "2024-12-08T09:25:22.484055Z",
     "iopub.status.idle": "2024-12-08T09:25:24.120559Z",
     "shell.execute_reply": "2024-12-08T09:25:24.118803Z",
     "shell.execute_reply.started": "2024-12-08T09:25:22.484519Z"
    }
   },
   "outputs": [],
   "source": [
    "#| echo: true\n",
    "# Insert edges\n",
    "for song, album, lyrics in df.select([\"Song\", \"Album\", \"text\"]).rows():\n",
    "    replaced_lyrics = lyrics.replace('\"', \"'\")\n",
    "    conn.execute(\n",
    "        f\"\"\"\n",
    "        MATCH (song:SONG), (album:ALBUM) \n",
    "        WHERE song.name = \"{song}\" AND song.lyrics = \"{replaced_lyrics}\" AND album.name = \"{album}\"\n",
    "        CREATE (song)-[:IN_ALBUM]->(album)\n",
    "        \"\"\"\n",
    "    )\n",
    "for album, artist in df.select([\"Album\", \"Artist\"]).unique().rows():\n",
    "  conn.execute(\n",
    "    f\"\"\"\n",
    "    MATCH (album:ALBUM), (artist:ARTIST) WHERE album.name = \"{album}\" AND artist.name = \"{artist}\"\n",
    "    CREATE (album)-[:FROM_ARTIST]->(artist)\n",
    "    \"\"\"\n",
    "  )"
   ]
  },
  {
   "cell_type": "markdown",
   "id": "d09cd327-c4ff-4325-8484-53ef5893e07c",
   "metadata": {},
   "source": [
    "### Graph-only retrieval"
   ]
  },
  {
   "cell_type": "code",
   "execution_count": 30,
   "id": "84e62bb3-2d7b-4604-8d8a-299f321a71e4",
   "metadata": {
    "execution": {
     "iopub.execute_input": "2024-12-08T09:25:24.122591Z",
     "iopub.status.busy": "2024-12-08T09:25:24.122095Z",
     "iopub.status.idle": "2024-12-08T09:25:24.142617Z",
     "shell.execute_reply": "2024-12-08T09:25:24.141412Z",
     "shell.execute_reply.started": "2024-12-08T09:25:24.122542Z"
    }
   },
   "outputs": [
    {
     "data": {
      "text/plain": [
       "[\"Don't Tread On Me\",\n",
       " 'The Unforgiven',\n",
       " 'The God That Failed',\n",
       " 'My Friend Of Misery',\n",
       " 'Enter Sandman',\n",
       " 'Sad But True',\n",
       " 'Holier Than Thou',\n",
       " 'Nothing Else Matters',\n",
       " 'Of Wolf And Man',\n",
       " 'Wherever I May Roam',\n",
       " 'The Struggle Within',\n",
       " 'Through The Never']"
      ]
     },
     "execution_count": 30,
     "metadata": {},
     "output_type": "execute_result"
    }
   ],
   "source": [
    "#| echo: true\n",
    "response = conn.execute(\n",
    "    \"\"\"\n",
    "    MATCH (a:ALBUM {name: 'The Black Album'})<-[:IN_ALBUM]-(s:SONG) \n",
    "    RETURN s.name\n",
    "    \"\"\"\n",
    ")\n",
    "\n",
    "df_response = response.get_as_pl()\n",
    "\n",
    "df_response[\"s.name\"].to_list()"
   ]
  },
  {
   "cell_type": "markdown",
   "id": "61924b58-36b6-483c-8040-cc19fbfdbbc7",
   "metadata": {},
   "source": [
    "### Graph-only retrieval"
   ]
  },
  {
   "cell_type": "code",
   "execution_count": 31,
   "id": "aded8647-e597-4a59-bb53-6cb21acd7104",
   "metadata": {
    "execution": {
     "iopub.execute_input": "2024-12-08T09:25:24.144092Z",
     "iopub.status.busy": "2024-12-08T09:25:24.143640Z",
     "iopub.status.idle": "2024-12-08T09:25:24.174469Z",
     "shell.execute_reply": "2024-12-08T09:25:24.173139Z",
     "shell.execute_reply.started": "2024-12-08T09:25:24.144062Z"
    }
   },
   "outputs": [
    {
     "name": "stdout",
     "output_type": "stream",
     "text": [
      "Node properties: [{'properties': [('name', 'STRING')], 'label': 'ARTIST'}, {'properties': [('name', 'STRING')], 'label': 'ALBUM'}, {'properties': [('ID', 'SERIAL'), ('name', 'STRING'), ('lyrics', 'STRING')], 'label': 'SONG'}]\n",
      "Relationships properties: [{'properties': [], 'label': 'FROM_ARTIST'}, {'properties': [], 'label': 'IN_ALBUM'}]\n",
      "Relationships: ['(:ALBUM)-[:FROM_ARTIST]->(:ARTIST)', '(:SONG)-[:IN_ALBUM]->(:ALBUM)']\n",
      "\n"
     ]
    }
   ],
   "source": [
    "#| echo: true\n",
    "from langchain_community.graphs import KuzuGraph\n",
    "\n",
    "graph = KuzuGraph(db)\n",
    "print(graph.get_schema)"
   ]
  },
  {
   "cell_type": "markdown",
   "id": "ee9a7983-05a0-419b-be66-381b4613c56b",
   "metadata": {},
   "source": [
    "### Graph-only retrieval"
   ]
  },
  {
   "cell_type": "code",
   "execution_count": 32,
   "id": "b2aa0ca5-447c-45c1-b3f6-40237e4bf95d",
   "metadata": {
    "execution": {
     "iopub.execute_input": "2024-12-08T09:25:24.176257Z",
     "iopub.status.busy": "2024-12-08T09:25:24.175695Z",
     "iopub.status.idle": "2024-12-08T09:25:24.182493Z",
     "shell.execute_reply": "2024-12-08T09:25:24.181435Z",
     "shell.execute_reply.started": "2024-12-08T09:25:24.176215Z"
    }
   },
   "outputs": [],
   "source": [
    "#| echo: true\n",
    "def generate_kuzu_prompt(user_query):\n",
    "    return \"\"\"Task: Generate Kùzu Cypher statement to query a graph database.\n",
    "\n",
    "Instructions:\n",
    "Generate the Kùzu dialect of Cypher with the following rules in mind:\n",
    "1. Do not omit the relationship pattern. Always use `()-[]->()` instead of `()->()`.\n",
    "2. Do not include triple backticks ``` in your response. Return only Cypher.\n",
    "3. Do not return any notes or comments in your response.\n",
    "\n",
    "\n",
    "Use only the provided relationship types and properties in the schema.\n",
    "Do not use any other relationship types or properties that are not provided.\n",
    "Schema:\\n\"\"\" + graph.get_schema + \"\"\"\\nExample:\n",
    "The question is:\\n\"Which songs does the load album have?\"\n",
    "MATCH (a:ALBUM {name: 'Load'})<-[:IN_ALBUM]-(s:SONG) RETURN s.name\n",
    "\n",
    "Note: Do not include any explanations or apologies in your responses.\n",
    "Do not respond to any questions that might ask anything else than for you to construct a Cypher statement.\n",
    "Do not include any text except the generated Cypher statement.\n",
    "\n",
    "The question is:\\n\"\"\" + user_query"
   ]
  },
  {
   "cell_type": "markdown",
   "id": "bf32a0ce-6bcd-494b-997d-c8c5a5e82bcc",
   "metadata": {},
   "source": [
    "### Graph-only retrieval"
   ]
  },
  {
   "cell_type": "code",
   "execution_count": 33,
   "id": "43620885-f376-4fd2-aaa5-03daf91e0c67",
   "metadata": {
    "execution": {
     "iopub.execute_input": "2024-12-08T09:25:24.184246Z",
     "iopub.status.busy": "2024-12-08T09:25:24.183772Z",
     "iopub.status.idle": "2024-12-08T09:25:24.200740Z",
     "shell.execute_reply": "2024-12-08T09:25:24.199603Z",
     "shell.execute_reply.started": "2024-12-08T09:25:24.184201Z"
    }
   },
   "outputs": [],
   "source": [
    "#| echo: true\n",
    "def generate_final_prompt(query,cypher_query,col_name,_values):\n",
    "    return f\"\"\"You are an assistant that helps to form nice and human understandable answers.\n",
    "The information part contains the provided information that you must use to construct an answer.\n",
    "The provided information is authoritative, you must never doubt it or try to use your internal knowledge to correct it.\n",
    "Make the answer sound as a response to the question. Do not mention that you based the result on the given information.\n",
    "Here is an example:\n",
    "\n",
    "Question: Which managers own Neo4j stocks?\n",
    "Context:[manager:CTL LLC, manager:JANE STREET GROUP LLC]\n",
    "Helpful Answer: CTL LLC, JANE STREET GROUP LLC owns Neo4j stocks.\n",
    "\n",
    "Follow this example when generating answers.\n",
    "If the provided information is empty, say that you don't know the answer.\n",
    "Query:\\n{cypher_query}\n",
    "Information:\n",
    "[{col_name}: {_values}]\n",
    "\n",
    "Question: {query}\n",
    "Helpful Answer:\n",
    "\"\"\""
   ]
  },
  {
   "cell_type": "markdown",
   "id": "c5cb35ed-0c05-4ef0-a0c4-f73261cd8202",
   "metadata": {},
   "source": [
    "### Graph-only retrieval"
   ]
  },
  {
   "cell_type": "code",
   "execution_count": 34,
   "id": "e5e686ff-979a-438a-bdce-b2b34079adeb",
   "metadata": {
    "execution": {
     "iopub.execute_input": "2024-12-08T09:25:24.202513Z",
     "iopub.status.busy": "2024-12-08T09:25:24.202061Z",
     "iopub.status.idle": "2024-12-08T09:25:24.214957Z",
     "shell.execute_reply": "2024-12-08T09:25:24.213583Z",
     "shell.execute_reply.started": "2024-12-08T09:25:24.202468Z"
    }
   },
   "outputs": [],
   "source": [
    "#| echo: true\n",
    "def generate_kg_response(query):\n",
    "    prompt = generate_kuzu_prompt(query)\n",
    "    cypher_query_response = llm.create_chat_completion(\n",
    "        messages=[{\"role\": \"user\", \"content\": prompt}], \n",
    "        temperature=0,\n",
    "        seed=42\n",
    "    )\n",
    "    cypher_query = cypher_query_response[\"choices\"][0][\"message\"][\"content\"]\n",
    "    response = conn.execute(\n",
    "        f\"\"\"\n",
    "        {cypher_query}\n",
    "        \"\"\"\n",
    "    )\n",
    "    df = response.get_as_pl()\n",
    "    col_name = df.columns[0]\n",
    "    _values = df[col_name].to_list()\n",
    "    final_prompt = generate_final_prompt(query,cypher_query,col_name,_values)\n",
    "    final_response = llm.create_chat_completion(\n",
    "        messages=[{\"role\": \"user\", \"content\": final_prompt}], \n",
    "        temperature=0,\n",
    "        seed=42\n",
    "    )\n",
    "    return final_response[\"choices\"][0][\"message\"][\"content\"]"
   ]
  },
  {
   "cell_type": "markdown",
   "id": "71dbb681-1744-4cbe-a227-5086b9c133f4",
   "metadata": {},
   "source": [
    "### Graph-only retrieval"
   ]
  },
  {
   "cell_type": "code",
   "execution_count": 35,
   "id": "f3cb2ad1-9a50-4ce0-beff-8aa872593480",
   "metadata": {
    "execution": {
     "iopub.execute_input": "2024-12-08T09:25:24.216865Z",
     "iopub.status.busy": "2024-12-08T09:25:24.216269Z",
     "iopub.status.idle": "2024-12-08T09:25:25.473640Z",
     "shell.execute_reply": "2024-12-08T09:25:25.473228Z",
     "shell.execute_reply.started": "2024-12-08T09:25:24.216820Z"
    }
   },
   "outputs": [
    {
     "name": "stdout",
     "output_type": "stream",
     "text": [
      "The Black Album has 12 songs.\n"
     ]
    }
   ],
   "source": [
    "#| echo: true\n",
    "query = \"How many songs does the black album have?\"\n",
    "print(generate_kg_response(query))"
   ]
  },
  {
   "cell_type": "markdown",
   "id": "1c2e643c-94e0-41fd-88a2-3ca96e8c59b0",
   "metadata": {},
   "source": [
    "### Graph-only retrieval"
   ]
  },
  {
   "cell_type": "code",
   "execution_count": 36,
   "id": "cc15fa19-985a-4f11-876d-941f58b03e87",
   "metadata": {
    "execution": {
     "iopub.execute_input": "2024-12-08T09:25:25.474271Z",
     "iopub.status.busy": "2024-12-08T09:25:25.474119Z",
     "iopub.status.idle": "2024-12-08T09:25:28.383488Z",
     "shell.execute_reply": "2024-12-08T09:25:28.383062Z",
     "shell.execute_reply.started": "2024-12-08T09:25:25.474257Z"
    }
   },
   "outputs": [
    {
     "name": "stdout",
     "output_type": "stream",
     "text": [
      "The Black Album has the following songs: \"Don't Tread On Me\", \"The Unforgiven\", \"The God That Failed\", \"My Friend Of Misery\", \"Enter Sandman\", \"Sad But True\", \"Holier Than Thou\", \"Nothing Else Matters\", \"Of Wolf And Man\", \"Wherever I May Roam\", \"The Struggle Within\", and \"Through The Never\".\n"
     ]
    }
   ],
   "source": [
    "#| echo: true\n",
    "query = \"Which songs does the black album have?\"\n",
    "print(generate_kg_response(query))"
   ]
  },
  {
   "cell_type": "markdown",
   "id": "77e456cd-9326-4071-8f31-ab0f88c6767f",
   "metadata": {},
   "source": [
    "### Graph-only retrieval\n",
    "\n",
    "[https://alonsosilva-song-finder-graph.hf.space](https://alonsosilva-song-finder-graph.hf.space)"
   ]
  },
  {
   "cell_type": "code",
   "execution_count": 37,
   "id": "cc688384-b9b7-45ca-8e9c-663e114ec317",
   "metadata": {
    "execution": {
     "iopub.execute_input": "2024-12-08T09:25:28.384146Z",
     "iopub.status.busy": "2024-12-08T09:25:28.383991Z",
     "iopub.status.idle": "2024-12-08T09:25:28.387408Z",
     "shell.execute_reply": "2024-12-08T09:25:28.387023Z",
     "shell.execute_reply.started": "2024-12-08T09:25:28.384132Z"
    }
   },
   "outputs": [
    {
     "data": {
      "text/html": [
       "\n",
       "        <iframe\n",
       "            width=\"850\"\n",
       "            height=\"450\"\n",
       "            src=\"https://alonsosilva-song-finder-graph.hf.space\"\n",
       "            frameborder=\"0\"\n",
       "            allowfullscreen\n",
       "            \n",
       "        ></iframe>\n",
       "        "
      ],
      "text/plain": [
       "<IPython.lib.display.IFrame at 0x722f671bbf80>"
      ]
     },
     "execution_count": 37,
     "metadata": {},
     "output_type": "execute_result"
    }
   ],
   "source": [
    "IFrame(\"https://alonsosilva-song-finder-graph.hf.space\", width=850, height=450)"
   ]
  },
  {
   "cell_type": "markdown",
   "id": "d3badea1-a4ca-4f10-b42b-429f0c33af3a",
   "metadata": {},
   "source": [
    "# Combining graph and vector retrieval\n",
    "\n",
    "### Classification"
   ]
  },
  {
   "cell_type": "code",
   "execution_count": 38,
   "id": "6ab96c2d-8a5f-4d63-a5c5-fe0f7c8241a0",
   "metadata": {
    "execution": {
     "iopub.execute_input": "2024-12-08T09:25:28.387980Z",
     "iopub.status.busy": "2024-12-08T09:25:28.387843Z",
     "iopub.status.idle": "2024-12-08T09:25:28.406285Z",
     "shell.execute_reply": "2024-12-08T09:25:28.405701Z",
     "shell.execute_reply.started": "2024-12-08T09:25:28.387966Z"
    }
   },
   "outputs": [],
   "source": [
    "#| echo: true\n",
    "def generate_hermes_prompt(user_prompt):\n",
    "    return (\n",
    "        \"<|im_start|>system\\n\"\n",
    "        \"You are a world class AI model classifier\"\n",
    "        \"<|im_end|>\\n\"\n",
    "        \"<|im_start|>user\\n\"\n",
    "        + user_prompt\n",
    "        + \"<|im_end|>\"\n",
    "        + \"\\n<|im_start|>assistant\\n\"\n",
    "    )"
   ]
  },
  {
   "cell_type": "markdown",
   "id": "793d4cfe-d5e7-4088-bb2c-bf6f74eb3ce9",
   "metadata": {},
   "source": [
    "### Classification"
   ]
  },
  {
   "cell_type": "code",
   "execution_count": 39,
   "id": "89ff3d51-9309-44a5-a065-cd0741134b6f",
   "metadata": {
    "execution": {
     "iopub.execute_input": "2024-12-08T09:25:28.407172Z",
     "iopub.status.busy": "2024-12-08T09:25:28.406948Z",
     "iopub.status.idle": "2024-12-08T09:25:28.897401Z",
     "shell.execute_reply": "2024-12-08T09:25:28.896925Z",
     "shell.execute_reply.started": "2024-12-08T09:25:28.407150Z"
    }
   },
   "outputs": [],
   "source": [
    "#| echo: true\n",
    "from outlines import generate, models\n",
    "from outlines.samplers import greedy\n",
    "\n",
    "def get_classification(query):\n",
    "    model = models.LlamaCpp(llm)\n",
    "    generator = generate.choice(model, [\"YES\", \"NO\"], sampler=greedy())\n",
    "    prompt = \"Answer only YES or NO. Is the question '\" + query + \\\n",
    "             \"' related to the content of a song?\"\n",
    "    prompt = generate_hermes_prompt(prompt)\n",
    "    response = generator(prompt, max_tokens=1024, temperature=0, seed=42)\n",
    "    return response"
   ]
  },
  {
   "cell_type": "markdown",
   "id": "714d9034-86db-4060-b9a5-0b7c3a010535",
   "metadata": {},
   "source": [
    "### Classification"
   ]
  },
  {
   "cell_type": "code",
   "execution_count": 40,
   "id": "c835c593-03b4-493c-ad08-a341aa944098",
   "metadata": {
    "execution": {
     "iopub.execute_input": "2024-12-08T09:25:28.898065Z",
     "iopub.status.busy": "2024-12-08T09:25:28.897900Z",
     "iopub.status.idle": "2024-12-08T09:25:29.758856Z",
     "shell.execute_reply": "2024-12-08T09:25:29.757978Z",
     "shell.execute_reply.started": "2024-12-08T09:25:28.898051Z"
    }
   },
   "outputs": [
    {
     "name": "stdout",
     "output_type": "stream",
     "text": [
      "**Which song is about a boy who is having nightmares?**\n",
      "YES\n",
      "\n",
      "**Which song is about a guy who is so badly wounded in war so he no longer has any senses?**\n",
      "YES\n",
      "\n",
      "**How many songs does the black album have?**\n",
      "NO\n",
      "\n",
      "**Which songs does the black album have?**\n",
      "NO\n",
      "\n"
     ]
    }
   ],
   "source": [
    "#| echo: true\n",
    "queries = [\n",
    "    \"Which song is about a boy who is having nightmares?\",\n",
    "    \"Which song is about a guy who is so badly wounded in war so he no longer has any senses?\",\n",
    "    \"How many songs does the black album have?\",\n",
    "    \"Which songs does the black album have?\"\n",
    "]\n",
    "for query in queries:\n",
    "    print(f\"**{query}**\")\n",
    "    print(get_classification(query))\n",
    "    print()"
   ]
  },
  {
   "cell_type": "code",
   "execution_count": 41,
   "id": "97bb4acb-63c4-4504-8a38-535a4e6e7b37",
   "metadata": {
    "execution": {
     "iopub.execute_input": "2024-12-08T09:25:29.760562Z",
     "iopub.status.busy": "2024-12-08T09:25:29.759969Z",
     "iopub.status.idle": "2024-12-08T09:25:29.764297Z",
     "shell.execute_reply": "2024-12-08T09:25:29.763555Z",
     "shell.execute_reply.started": "2024-12-08T09:25:29.760518Z"
    }
   },
   "outputs": [],
   "source": [
    "# #| echo: true\n",
    "# def get_classification(query):\n",
    "#     prompt = \"Answer only YES or NO. Is the question '\" + query + \"' related to the content of a song?\"\n",
    "#     response = llm.create_chat_completion(\n",
    "#         messages=[{\"role\": \"user\", \"content\": prompt}], \n",
    "#         temperature=0,\n",
    "#         seed=42\n",
    "#     )\n",
    "#     return response[\"choices\"][0][\"message\"][\"content\"]"
   ]
  },
  {
   "cell_type": "code",
   "execution_count": 42,
   "id": "b4348402-1f46-4d53-9f90-ef44e8fe2b83",
   "metadata": {
    "execution": {
     "iopub.execute_input": "2024-12-08T09:25:29.765771Z",
     "iopub.status.busy": "2024-12-08T09:25:29.765302Z",
     "iopub.status.idle": "2024-12-08T09:25:29.784326Z",
     "shell.execute_reply": "2024-12-08T09:25:29.783400Z",
     "shell.execute_reply.started": "2024-12-08T09:25:29.765742Z"
    }
   },
   "outputs": [],
   "source": [
    "# #| echo: true\n",
    "# print(get_classification(\"Which song is about a boy who is having nightmares?\"))\n",
    "# print(get_classification((\n",
    "#     \"Which song is about a guy who is so badly wounded in war \"\n",
    "#     \"so he no longer has any senses\"\n",
    "# )))\n",
    "# print(get_classification(\"How many songs does the black album have?\"))\n",
    "# print(get_classification(\"Which songs does the black album have?\"))"
   ]
  },
  {
   "cell_type": "markdown",
   "id": "c8284da0-0dbf-442d-b26b-a3dd847d5481",
   "metadata": {},
   "source": [
    "### Combining graph and vector retrieval"
   ]
  },
  {
   "cell_type": "code",
   "execution_count": 43,
   "id": "58887490-7ae4-4620-ad43-a497c1587b34",
   "metadata": {
    "execution": {
     "iopub.execute_input": "2024-12-08T09:25:29.785905Z",
     "iopub.status.busy": "2024-12-08T09:25:29.785305Z",
     "iopub.status.idle": "2024-12-08T09:25:29.796651Z",
     "shell.execute_reply": "2024-12-08T09:25:29.795714Z",
     "shell.execute_reply.started": "2024-12-08T09:25:29.785867Z"
    }
   },
   "outputs": [],
   "source": [
    "#| echo: true\n",
    "def get_final_response(query):\n",
    "    query_class = get_classification(query)\n",
    "    if query_class == 'YES':\n",
    "        response = generate_response(query)\n",
    "    else:\n",
    "        response = generate_kg_response(query)\n",
    "    return response"
   ]
  },
  {
   "cell_type": "markdown",
   "id": "974aee4a-fa00-4b2e-884a-a22d2697eb05",
   "metadata": {},
   "source": [
    "### Combining graph and vector retrieval"
   ]
  },
  {
   "cell_type": "code",
   "execution_count": 44,
   "id": "2803f581-06e1-44c2-9369-4ff506ce090a",
   "metadata": {
    "execution": {
     "iopub.execute_input": "2024-12-08T09:25:29.798540Z",
     "iopub.status.busy": "2024-12-08T09:25:29.797725Z",
     "iopub.status.idle": "2024-12-08T09:25:41.830221Z",
     "shell.execute_reply": "2024-12-08T09:25:41.829767Z",
     "shell.execute_reply.started": "2024-12-08T09:25:29.798501Z"
    }
   },
   "outputs": [
    {
     "name": "stdout",
     "output_type": "stream",
     "text": [
      "**Which song is about a boy who is having nightmares?**\n",
      "The song that is about a boy who is having nightmares is \"The Black Album: Enter Sandman\". The lyrics mention \"Say your prayers little one / don't forget / my son / to include everyone / tuck you in / warm within / keep you free from sin / till the sandman he comes\", suggesting a child being comforted before going to sleep and having nightmares. The lyrics also mention \"dreams of war / dreams of liars / dreams of dragon's fire / and of things that will bite\", which further supports the theme of nightmares.\n",
      "\n",
      "**Which song is about a guy who is so badly wounded in war so he no longer has any senses**\n",
      "Based on the context provided, the song that is about a guy who is so badly wounded in war that he no longer has any senses is \"And Justice For All..: One\". The lyrics describe a person who has lost their sight, speech, hearing, arms, legs, and soul due to a landmine explosion, and is trapped in their body, experiencing absolute horror and unable to live or die.\n",
      "\n",
      "**How many songs does the black album have?**\n",
      "The Black Album has 12 songs.\n",
      "\n",
      "**Which songs does the black album have?**\n",
      "The Black Album has the following songs: \"Don't Tread On Me\", \"The Unforgiven\", \"The God That Failed\", \"My Friend Of Misery\", \"Enter Sandman\", \"Sad But True\", \"Holier Than Thou\", \"Nothing Else Matters\", \"Of Wolf And Man\", \"Wherever I May Roam\", \"The Struggle Within\", and \"Through The Never\".\n",
      "\n"
     ]
    }
   ],
   "source": [
    "#| echo: true\n",
    "queries = [\n",
    "    \"Which song is about a boy who is having nightmares?\",\n",
    "    \"Which song is about a guy who is so badly wounded in war so he no longer has any senses\",\n",
    "    \"How many songs does the black album have?\",\n",
    "    \"Which songs does the black album have?\"\n",
    "]\n",
    "for query in queries:\n",
    "    print(f\"**{query}**\")\n",
    "    print(get_final_response(query))\n",
    "    print()"
   ]
  },
  {
   "cell_type": "markdown",
   "id": "3767c8d1-f6a4-424c-99eb-010b9598c769",
   "metadata": {},
   "source": [
    "### Combining graph and vectorial retrieval\n",
    "\n",
    "[https://alonsosilva-song-finder-graphrag.hf.space](https://alonsosilva-song-finder-graphrag.hf.space)"
   ]
  },
  {
   "cell_type": "code",
   "execution_count": 45,
   "id": "2420c8f9-2a51-459c-8304-7bf9f9481ccd",
   "metadata": {
    "execution": {
     "iopub.execute_input": "2024-12-08T09:25:41.830942Z",
     "iopub.status.busy": "2024-12-08T09:25:41.830749Z",
     "iopub.status.idle": "2024-12-08T09:25:41.835278Z",
     "shell.execute_reply": "2024-12-08T09:25:41.834549Z",
     "shell.execute_reply.started": "2024-12-08T09:25:41.830926Z"
    }
   },
   "outputs": [
    {
     "data": {
      "text/html": [
       "\n",
       "        <iframe\n",
       "            width=\"850\"\n",
       "            height=\"450\"\n",
       "            src=\"https://alonsosilva-song-finder-graphrag.hf.space\"\n",
       "            frameborder=\"0\"\n",
       "            allowfullscreen\n",
       "            \n",
       "        ></iframe>\n",
       "        "
      ],
      "text/plain": [
       "<IPython.lib.display.IFrame at 0x722e004b4cb0>"
      ]
     },
     "execution_count": 45,
     "metadata": {},
     "output_type": "execute_result"
    }
   ],
   "source": [
    "IFrame(\"https://alonsosilva-song-finder-graphrag.hf.space\", width=850, height=450)"
   ]
  },
  {
   "cell_type": "markdown",
   "id": "de35925c-c678-4d85-96a4-e6e30925edf4",
   "metadata": {},
   "source": [
    "# What is Structured Generation?\n",
    "\n",
    "##\n",
    "::: {style=\"margin-top: 100px; font-size: 2em; color: black;\"}\n",
    "The problem\n",
    ":::\n",
    "\n",
    "##\n",
    "\n",
    "![scikit-llm: [https://skllm.beastbyte.ai/](https://skllm.beastbyte.ai/)](./assets/scikit-llm.jpg \"scikit-llm Homepage\"){ width=50% }\n",
    "\n",
    "### Show me the prompt!\n",
    "\n",
    "![scikit-llm prompts: [https://github.com/iryna-kondr/scikit-llm/blob/main/skllm/prompts/templates.py](https://github.com/iryna-kondr/scikit-llm/blob/main/skllm/prompts/templates.py)](./assets/scikit-llm-prompt.jpg \"scikit-llm prompt\"){ width=25% }\n",
    "\n",
    "###\n",
    "\n",
    "![](./assets/we-can-do-better.jpg \"We can do better!\"){ width=50% }\n",
    "\n",
    "###\n",
    "::: {style=\"margin-top: 200px; font-size: 2em; color: black;\"}\n",
    "What is NOT Structured Generation?\n",
    ":::\n",
    "\n",
    "### Structured Outputs (in the style of Instructor/Marvin libraries)\n",
    "\n",
    "- Instructor: [https://python.useinstructor.com/](https://python.useinstructor.com/)\n",
    "- Marvin: [https://www.askmarvin.ai/](https://www.askmarvin.ai/)\n",
    "\n",
    "\n",
    "### Structured Outputs in Code"
   ]
  },
  {
   "cell_type": "code",
   "execution_count": 46,
   "id": "d0884357-5b48-441b-8da5-102f201a46f6",
   "metadata": {
    "execution": {
     "iopub.execute_input": "2024-12-08T09:25:41.835885Z",
     "iopub.status.busy": "2024-12-08T09:25:41.835764Z",
     "iopub.status.idle": "2024-12-08T09:25:41.854525Z",
     "shell.execute_reply": "2024-12-08T09:25:41.853427Z",
     "shell.execute_reply.started": "2024-12-08T09:25:41.835874Z"
    }
   },
   "outputs": [],
   "source": [
    "#| echo: true\n",
    "from typing import Literal\n",
    "\n",
    "from pydantic import BaseModel, Field\n",
    "\n",
    "\n",
    "class Sentiment(BaseModel):\n",
    "    \"\"\"Correctly inferred `Sentiment` with all the required parameters\n",
    "    with correct types.\"\"\"\n",
    "\n",
    "    label: Literal[\"Positive\", \"Negative\"] = Field(\n",
    "        ..., description=\"Sentiment of the text\"\n",
    "    )"
   ]
  },
  {
   "cell_type": "markdown",
   "id": "ce180c10-467e-45e2-9617-92971af61ec6",
   "metadata": {},
   "source": [
    "### Structured Outputs in Code"
   ]
  },
  {
   "cell_type": "code",
   "execution_count": 47,
   "id": "2af4f0b6-969b-4c07-9b88-dbddf61d7cd3",
   "metadata": {
    "execution": {
     "iopub.execute_input": "2024-12-08T09:25:41.856081Z",
     "iopub.status.busy": "2024-12-08T09:25:41.855558Z",
     "iopub.status.idle": "2024-12-08T09:25:42.349791Z",
     "shell.execute_reply": "2024-12-08T09:25:42.348993Z",
     "shell.execute_reply.started": "2024-12-08T09:25:41.856042Z"
    }
   },
   "outputs": [
    {
     "data": {
      "text/plain": [
       "[{'type': 'function',\n",
       "  'function': {'name': 'Sentiment',\n",
       "   'description': 'Correctly inferred `Sentiment` with all the required parameters\\nwith correct types.',\n",
       "   'parameters': {'properties': {'label': {'description': 'Sentiment of the text',\n",
       "      'enum': ['Positive', 'Negative'],\n",
       "      'type': 'string'}},\n",
       "    'required': ['label'],\n",
       "    'type': 'object'}}}]"
      ]
     },
     "execution_count": 47,
     "metadata": {},
     "output_type": "execute_result"
    }
   ],
   "source": [
    "#| echo: true\n",
    "from langchain_core.utils.function_calling import convert_to_openai_tool\n",
    "\n",
    "tools = [convert_to_openai_tool(Sentiment)]\n",
    "tools"
   ]
  },
  {
   "cell_type": "code",
   "execution_count": 48,
   "id": "3f122a17-b33c-4424-bf4e-02bcb0cb06e8",
   "metadata": {
    "execution": {
     "iopub.execute_input": "2024-12-08T09:25:42.351503Z",
     "iopub.status.busy": "2024-12-08T09:25:42.350827Z",
     "iopub.status.idle": "2024-12-08T09:25:42.355949Z",
     "shell.execute_reply": "2024-12-08T09:25:42.354995Z",
     "shell.execute_reply.started": "2024-12-08T09:25:42.351459Z"
    }
   },
   "outputs": [],
   "source": [
    "import warnings\n",
    "warnings.filterwarnings(\"ignore\", category=RuntimeWarning)"
   ]
  },
  {
   "cell_type": "markdown",
   "id": "ad3e857d-3e4b-47d9-a609-bce5eb4b5018",
   "metadata": {},
   "source": [
    "### Structured Outputs in Code"
   ]
  },
  {
   "cell_type": "code",
   "execution_count": 49,
   "id": "97c17363-4e29-4e55-a99d-0f07a00081b9",
   "metadata": {
    "execution": {
     "iopub.execute_input": "2024-12-08T09:25:42.358036Z",
     "iopub.status.busy": "2024-12-08T09:25:42.357132Z",
     "iopub.status.idle": "2024-12-08T09:25:42.688977Z",
     "shell.execute_reply": "2024-12-08T09:25:42.688281Z",
     "shell.execute_reply.started": "2024-12-08T09:25:42.357994Z"
    }
   },
   "outputs": [
    {
     "data": {
      "text/plain": [
       "'{ \"label\": \"Positive\"}'"
      ]
     },
     "execution_count": 49,
     "metadata": {},
     "output_type": "execute_result"
    }
   ],
   "source": [
    "#| echo: true\n",
    "#| code-line-numbers: '1-17|1|1,8-9|1,8-9,13-14'\n",
    "user_input = \"You are great\"\n",
    "\n",
    "output = llm.create_chat_completion(\n",
    "    messages=[\n",
    "        {\n",
    "            \"role\": \"user\",\n",
    "            \"content\": (\n",
    "                \"What is the sentiment conveyed in the following text: \"\n",
    "                f\"{user_input}.\"\n",
    "            ),\n",
    "        },\n",
    "    ],\n",
    "    tools=tools,\n",
    "    tool_choice={\"type\": \"function\", \"function\": {\"name\": \"Sentiment\"}},\n",
    ")\n",
    "\n",
    "output[\"choices\"][0][\"message\"][\"tool_calls\"][0][\"function\"][\"arguments\"]"
   ]
  },
  {
   "cell_type": "markdown",
   "id": "7de9f927-c38f-4452-9a12-538d1bf8525c",
   "metadata": {
    "execution": {
     "iopub.execute_input": "2024-12-03T09:10:39.409363Z",
     "iopub.status.busy": "2024-12-03T09:10:39.408753Z",
     "iopub.status.idle": "2024-12-03T09:10:39.606112Z",
     "shell.execute_reply": "2024-12-03T09:10:39.604360Z",
     "shell.execute_reply.started": "2024-12-03T09:10:39.409318Z"
    }
   },
   "source": [
    "##\n",
    "\n",
    "![](./assets/we-can-do-better.jpg \"We can do better!\"){ width=50% }\n",
    "\n",
    "###\n",
    "::: {style=\"margin-top: 200px; font-size: 2em; color: black;\"}\n",
    "What is Structured Generation?\n",
    ":::\n",
    "\n",
    "### {.nostretch}\n",
    "\n",
    "![](./assets/outlines-logo.webp \"Outlines logo\"){width=\"40%\"}\n",
    "\n",
    "[https://dottxt-ai.github.io/outlines/](https://dottxt-ai.github.io/outlines/)\n",
    "\n",
    "### Observation: LLMs are samplers\n",
    "\n",
    "[https://alonsosilva-nexttokenprediction.hf.space](https://alonsosilva-nexttokenprediction.hf.space)"
   ]
  },
  {
   "cell_type": "code",
   "execution_count": 50,
   "id": "12fba708-bb3f-4c4a-b092-c946523335a8",
   "metadata": {
    "execution": {
     "iopub.execute_input": "2024-12-08T09:25:42.689677Z",
     "iopub.status.busy": "2024-12-08T09:25:42.689527Z",
     "iopub.status.idle": "2024-12-08T09:25:42.693879Z",
     "shell.execute_reply": "2024-12-08T09:25:42.693278Z",
     "shell.execute_reply.started": "2024-12-08T09:25:42.689663Z"
    }
   },
   "outputs": [
    {
     "data": {
      "text/html": [
       "\n",
       "        <iframe\n",
       "            width=\"950\"\n",
       "            height=\"450\"\n",
       "            src=\"https://alonsosilva-nexttokenprediction.hf.space\"\n",
       "            frameborder=\"0\"\n",
       "            allowfullscreen\n",
       "            \n",
       "        ></iframe>\n",
       "        "
      ],
      "text/plain": [
       "<IPython.lib.display.IFrame at 0x722efc3f24b0>"
      ]
     },
     "execution_count": 50,
     "metadata": {},
     "output_type": "execute_result"
    }
   ],
   "source": [
    "IFrame(\"https://alonsosilva-nexttokenprediction.hf.space\", width=950, height=450)"
   ]
  },
  {
   "cell_type": "markdown",
   "id": "48c4c094-3804-41a7-aab5-7e040e906787",
   "metadata": {},
   "source": [
    "###  We need to talk about Regular Expressions (regex)\n",
    "\n",
    "![](./assets/torture-regex.jpg \"Let the torture commence meme\"){ width=50% }\n",
    "\n",
    "### Regular Expression (regex)\n",
    "\n",
    "![](./assets/regex_chatgpt.jpg \"ChatGPT explaining the regex a*b*\"){ width=25% }\n",
    "\n",
    "### Deterministic Finite Automata (DFA) {.nostretch}\n",
    "\n",
    "![](./assets/Structured-Generation-1.jpg \"Diagrams explaining\"){fig-align=\"center\" width=\"50%\"}\n",
    "\n",
    "[Fast, High-Fidelity LLM Decoding with Regex Constraints](https://github.com/vivien000/regex-constrained-decoding) by [Vivien Tran-Thien](https://github.com/vivien000)\n",
    "\n",
    "### Deterministic Finite Automata (DFA) {.nostretch}\n",
    "\n",
    "![](./assets/Structured-Generation-2.jpg \"Diagrams explaining\"){fig-align=\"center\" width=\"50%\"}\n",
    "\n",
    "[Fast, High-Fidelity LLM Decoding with Regex Constraints](https://github.com/vivien000/regex-constrained-decoding) by [Vivien Tran-Thien](https://github.com/vivien000)\n",
    "\n",
    "### Deterministic Finite Automata (DFA) {.nostretch}\n",
    "\n",
    "![](./assets/Structured-Generation-3.jpg \"Diagrams explaining\"){fig-align=\"center\" width=\"60%\"}\n",
    "\n",
    "[Fast, High-Fidelity LLM Decoding with Regex Constraints](https://github.com/vivien000/regex-constrained-decoding) by [Vivien Tran-Thien](https://github.com/vivien000)\n",
    "\n",
    "### Back to the problem\n",
    "\n",
    "![scikit-llm prompts: [https://github.com/iryna-kondr/scikit-llm/blob/main/skllm/prompts/templates.py](https://github.com/iryna-kondr/scikit-llm/blob/main/skllm/prompts/templates.py)](./assets/scikit-llm-prompt.jpg \"scikit-llm prompt\"){ width=25% }\n",
    "\n",
    "### From regular expression (regex) to deterministic finite automata (DFA)\n",
    "\n",
    "For example, for sentiment analysis:\n",
    "\n",
    "![](./assets/fsm-simple.jpg){ width=25% }\n",
    "\n",
    "### Life is hard\n",
    "\n",
    "![](./assets/fsm-full.jpg){ width=25% }\n",
    "\n",
    "### What's in a \"label\"?\n",
    "\n",
    "![](./assets/what-is-in-a-label.jpg){ width=25% }\n",
    "\n",
    "### Structured Generation in Code"
   ]
  },
  {
   "cell_type": "code",
   "execution_count": 51,
   "id": "95f4eea3-d2eb-4595-a868-defc0c9b052d",
   "metadata": {
    "execution": {
     "iopub.execute_input": "2024-12-08T09:25:42.694526Z",
     "iopub.status.busy": "2024-12-08T09:25:42.694400Z",
     "iopub.status.idle": "2024-12-08T09:25:43.410869Z",
     "shell.execute_reply": "2024-12-08T09:25:43.410056Z",
     "shell.execute_reply.started": "2024-12-08T09:25:42.694514Z"
    }
   },
   "outputs": [],
   "source": [
    "#| echo: true\n",
    "#| code-line-numbers: 1-13|12\n",
    "import outlines\n",
    "\n",
    "import transformers\n",
    "\n",
    "outlines_tokenizer = outlines.models.TransformerTokenizer(\n",
    "    transformers.AutoTokenizer.from_pretrained(model_id)\n",
    ")\n",
    "\n",
    "outlines_logits_processor = outlines.processors.JSONLogitsProcessor(\n",
    "    Sentiment,\n",
    "    outlines_tokenizer,\n",
    "    whitespace_pattern=r\"[\\n\\t ]*\"  # <1>\n",
    ")"
   ]
  },
  {
   "cell_type": "markdown",
   "id": "7ca0a946-a95f-4447-8728-ea570f7d4b95",
   "metadata": {},
   "source": [
    "1. I like to give the language model some structure but also some leeway.\n",
    "\n",
    "### Structured Generation in Code"
   ]
  },
  {
   "cell_type": "code",
   "execution_count": 52,
   "id": "cb79677b-e037-4f30-86ad-ed6f6852a32f",
   "metadata": {
    "execution": {
     "iopub.execute_input": "2024-12-08T09:25:43.411708Z",
     "iopub.status.busy": "2024-12-08T09:25:43.411548Z",
     "iopub.status.idle": "2024-12-08T09:25:43.604396Z",
     "shell.execute_reply": "2024-12-08T09:25:43.603610Z",
     "shell.execute_reply.started": "2024-12-08T09:25:43.411695Z"
    }
   },
   "outputs": [
    {
     "data": {
      "text/plain": [
       "'{ \"label\": \"Positive\" }'"
      ]
     },
     "execution_count": 52,
     "metadata": {},
     "output_type": "execute_result"
    }
   ],
   "source": [
    "#| echo: true\n",
    "#| code-line-numbers: '1-18|1|1,8-9|1,8-9,13-15'\n",
    "user_input = \"You are great\"\n",
    "\n",
    "output = llm.create_chat_completion(\n",
    "    messages=[\n",
    "        {\n",
    "            \"role\": \"user\",\n",
    "            \"content\": (\n",
    "                \"What is the sentiment conveyed in the following text: \"\n",
    "                f\"{user_input}.\"\n",
    "            ),\n",
    "        },\n",
    "    ],\n",
    "    logits_processor=transformers.LogitsProcessorList(\n",
    "        [outlines_logits_processor]\n",
    "    ),\n",
    ")\n",
    "\n",
    "output[\"choices\"][0][\"message\"][\"content\"]"
   ]
  },
  {
   "cell_type": "markdown",
   "id": "3c6b5bcc-c7c6-49c8-9f5d-099a45ee906b",
   "metadata": {},
   "source": [
    "## Structured Outputs + Structured Generation\n",
    "\n",
    "###"
   ]
  },
  {
   "cell_type": "code",
   "execution_count": 53,
   "id": "3ef56618-a372-41f1-a918-52d29bb452be",
   "metadata": {
    "execution": {
     "iopub.execute_input": "2024-12-08T09:25:43.605209Z",
     "iopub.status.busy": "2024-12-08T09:25:43.605060Z",
     "iopub.status.idle": "2024-12-08T09:25:43.738629Z",
     "shell.execute_reply": "2024-12-08T09:25:43.737911Z",
     "shell.execute_reply.started": "2024-12-08T09:25:43.605196Z"
    }
   },
   "outputs": [],
   "source": [
    "outlines_logits_processor = outlines.processors.JSONLogitsProcessor(\n",
    "    Sentiment,\n",
    "    outlines_tokenizer,\n",
    "    whitespace_pattern=r\"[\\n\\t ]*\"\n",
    ")"
   ]
  },
  {
   "cell_type": "code",
   "execution_count": 54,
   "id": "36d9920b-c46a-43ae-b7e6-eb5fa819df2e",
   "metadata": {
    "execution": {
     "iopub.execute_input": "2024-12-08T09:25:43.739499Z",
     "iopub.status.busy": "2024-12-08T09:25:43.739267Z",
     "iopub.status.idle": "2024-12-08T09:25:44.112619Z",
     "shell.execute_reply": "2024-12-08T09:25:44.112144Z",
     "shell.execute_reply.started": "2024-12-08T09:25:43.739484Z"
    }
   },
   "outputs": [
    {
     "data": {
      "text/plain": [
       "'{ \"label\": \"Positive\"}'"
      ]
     },
     "execution_count": 54,
     "metadata": {},
     "output_type": "execute_result"
    }
   ],
   "source": [
    "#| echo: true\n",
    "#| code-line-numbers: 1-18|12-13|14-16|1-18\n",
    "user_input = \"You are great\"\n",
    "output = llm.create_chat_completion(\n",
    "    messages=[\n",
    "        {\n",
    "            \"role\": \"user\",\n",
    "            \"content\": (\n",
    "                \"What is the sentiment conveyed in the following text: \"\n",
    "                f\"{user_input}.\"\n",
    "            ),\n",
    "        },\n",
    "    ],\n",
    "    tools=tools,  # <1>\n",
    "    tool_choice={\"type\": \"function\", \"function\": {\"name\": \"Sentiment\"}}, # <1>\n",
    "    logits_processor=transformers.LogitsProcessorList(  # <2>\n",
    "        [outlines_logits_processor]  # <2>\n",
    "    ),  # <2>\n",
    ")\n",
    "output[\"choices\"][0][\"message\"][\"tool_calls\"][0][\"function\"][\"arguments\"]"
   ]
  },
  {
   "cell_type": "markdown",
   "id": "92ea4c6c-1ec2-4256-a417-5bf54ecbe854",
   "metadata": {},
   "source": [
    "1. Structured Outputs\n",
    "2. Structured Generation\n",
    "\n",
    "# Knowledge Graph Generation\n",
    "\n",
    "### Consider a text"
   ]
  },
  {
   "cell_type": "code",
   "execution_count": 55,
   "id": "8b2cfc57-b730-4c50-b52d-c73404e2dcf2",
   "metadata": {
    "execution": {
     "iopub.execute_input": "2024-12-08T09:25:44.113255Z",
     "iopub.status.busy": "2024-12-08T09:25:44.113102Z",
     "iopub.status.idle": "2024-12-08T09:25:44.116234Z",
     "shell.execute_reply": "2024-12-08T09:25:44.115847Z",
     "shell.execute_reply.started": "2024-12-08T09:25:44.113242Z"
    }
   },
   "outputs": [
    {
     "name": "stdout",
     "output_type": "stream",
     "text": [
      "When Marie Curie came to the United States for the first time, in May 1921, she had already discovered the elements radium and polonium, coined the term “radio-active” and won the Nobel Prize—twice. But the Polish-born scientist, almost pathologically shy and accustomed to spending most of her time in her Paris laboratory, was stunned by the fanfare that greeted her. In 1898 she indeed identified one of the substances and named it polonium, after her homeland. Five months later, she identified a second element, which the world came to know as radium. Curie described the elements she studied as “radio-active.”\n",
      "\n",
      "In 1894, she met Pierre Curie, a 35-year-old physicist at a French technical college who had been studying crystals and magnetism. More than a decade before, he and his brother Jacques had discovered piezoelectricity, the electric charge produced in solid materials under pressure. Pierre was taken by Marie’s uncommon intellect and drive, and he proposed to her. They were married in 1895 in a civil service attended by family and a few friends.\n",
      "\n",
      "Both Curies shared the Nobel Prize in physics with Becquerel in 1903. It was the first Nobel to be awarded to a woman. In 1911, rumors spread that Curie was having an affair with the prominent physicist Paul Langevin, a man five years her junior who had been Pierre’s student and had worked closely with Albert Einstein. The front-page coverage of the scandal threatened to overshadow another news story later that year: her second Nobel Prize.\n",
      "\n",
      "This one, in chemistry, was for the discovery of polonium and radium. In her acceptance speech in Stockholm, she paid tribute to her husband but also made clear that her work was independent from his, spelling out their separate contributions and describing the discoveries she had made after his death.\n",
      "\n"
     ]
    }
   ],
   "source": [
    "#| echo: true\n",
    "with open('./assets/curie.txt', \"r\") as f:\n",
    "    curie_text = f.read()\n",
    "print(curie_text)"
   ]
  },
  {
   "cell_type": "markdown",
   "id": "ec55a805-670d-45c0-86d3-42e72c4b9e3e",
   "metadata": {},
   "source": [
    "### Chunk the text"
   ]
  },
  {
   "cell_type": "code",
   "execution_count": 56,
   "id": "77096b83-b94f-4ec1-98bc-6c4412d77f23",
   "metadata": {
    "execution": {
     "iopub.execute_input": "2024-12-08T09:25:44.116771Z",
     "iopub.status.busy": "2024-12-08T09:25:44.116641Z",
     "iopub.status.idle": "2024-12-08T09:25:44.137259Z",
     "shell.execute_reply": "2024-12-08T09:25:44.136558Z",
     "shell.execute_reply.started": "2024-12-08T09:25:44.116759Z"
    }
   },
   "outputs": [
    {
     "data": {
      "text/plain": [
       "['When Marie Curie came to the United States for the first time, in May 1921, she had already discovered the elements radium and polonium, coined the term “radio-active” and won the Nobel Prize—twice. But the Polish-born scientist, almost pathologically shy and accustomed to spending most of her time in her Paris laboratory, was stunned by the fanfare that greeted her. In 1898 she indeed identified one of the substances and named it polonium, after her homeland. Five months later, she identified a second element, which the world came to know as radium. Curie described the elements she studied as “radio-active.”',\n",
       " 'In 1894, she met Pierre Curie, a 35-year-old physicist at a French technical college who had been studying crystals and magnetism. More than a decade before, he and his brother Jacques had discovered piezoelectricity, the electric charge produced in solid materials under pressure. Pierre was taken by Marie’s uncommon intellect and drive, and he proposed to her. They were married in 1895 in a civil service attended by family and a few friends.',\n",
       " 'Both Curies shared the Nobel Prize in physics with Becquerel in 1903. It was the first Nobel to be awarded to a woman. In 1911, rumors spread that Curie was having an affair with the prominent physicist Paul Langevin, a man five years her junior who had been Pierre’s student and had worked closely with Albert Einstein. The front-page coverage of the scandal threatened to overshadow another news story later that year: her second Nobel Prize.',\n",
       " 'This one, in chemistry, was for the discovery of polonium and radium. In her acceptance speech in Stockholm, she paid tribute to her husband but also made clear that her work was independent from his, spelling out their separate contributions and describing the discoveries she had made after his death.\\n']"
      ]
     },
     "execution_count": 56,
     "metadata": {},
     "output_type": "execute_result"
    }
   ],
   "source": [
    "#| echo: true\n",
    "texts = curie_text.split(\"\\n\\n\")\n",
    "texts"
   ]
  },
  {
   "cell_type": "markdown",
   "id": "dcd3864c-7460-4cb7-8ce3-7071edb4ec00",
   "metadata": {},
   "source": [
    "###"
   ]
  },
  {
   "cell_type": "code",
   "execution_count": 57,
   "id": "c05af2cc-dcd0-4c6a-95c9-4d1435389ab7",
   "metadata": {
    "execution": {
     "iopub.execute_input": "2024-12-08T09:25:44.138727Z",
     "iopub.status.busy": "2024-12-08T09:25:44.138243Z",
     "iopub.status.idle": "2024-12-08T09:25:44.153042Z",
     "shell.execute_reply": "2024-12-08T09:25:44.152106Z",
     "shell.execute_reply.started": "2024-12-08T09:25:44.138689Z"
    }
   },
   "outputs": [],
   "source": [
    "#| echo: true\n",
    "from pydantic import BaseModel, Field\n",
    "from typing import Optional\n",
    "\n",
    "class Node(BaseModel):\n",
    "    \"\"\"Node of the Knowledge Graph\"\"\"\n",
    "    id: int = Field(\n",
    "        ..., description=\"Unique identifier of the node starting at zero\"\n",
    "    )\n",
    "    type: str = Field(..., description=\"Type of the node\")\n",
    "    label: str = Field(..., description=\"Label of the node\")\n",
    "\n",
    "class Edge(BaseModel):\n",
    "    \"\"\"Edge of the Knowledge Graph\"\"\"\n",
    "    source: int = Field(..., description=\"Unique source of the edge\")\n",
    "    target: int = Field(..., description=\"Unique target of the edge\")\n",
    "    type: str = Field(..., description=\"Type of the edge\")\n",
    "    label: str = Field(..., description=\"Label of the edge\")"
   ]
  },
  {
   "cell_type": "code",
   "execution_count": 58,
   "id": "df919b26-1876-461b-9ab7-14b464c3dcbd",
   "metadata": {
    "execution": {
     "iopub.execute_input": "2024-12-08T09:25:44.154571Z",
     "iopub.status.busy": "2024-12-08T09:25:44.154086Z",
     "iopub.status.idle": "2024-12-08T09:25:44.165255Z",
     "shell.execute_reply": "2024-12-08T09:25:44.164092Z",
     "shell.execute_reply.started": "2024-12-08T09:25:44.154532Z"
    }
   },
   "outputs": [],
   "source": [
    "#| output: false\n",
    "# from pydantic import BaseModel, Field\n",
    "# from typing import Optional\n",
    "\n",
    "# class Node(BaseModel):\n",
    "#     \"\"\"Node of the Knowledge Graph\"\"\"\n",
    "#     id: int = Field(..., description=\"Unique identifier of the node\")\n",
    "#     type: str = Field(..., description=\"Type of the node\")\n",
    "#     label: str = Field(..., description=\"Label of the node\")\n",
    "#     property: Optional[str] = Field(\n",
    "#         default=None, description=\"Property of the node\")\n",
    "# class Edge(BaseModel):\n",
    "#     \"\"\"Edge of the Knowledge Graph\"\"\"\n",
    "#     source: int = Field(..., description=\"Unique source of the edge\")\n",
    "#     target: int = Field(..., description=\"Unique target of the edge\")\n",
    "#     type: str = Field(..., description=\"Type of the edge\")\n",
    "#     label: str = Field(..., description=\"Label of the edge\")\n",
    "#     property: Optional[str] = Field(\n",
    "#         default=None, description=\"Property of the edge\")"
   ]
  },
  {
   "cell_type": "markdown",
   "id": "feb0a861-6e0b-4738-887e-d5bc13b7498e",
   "metadata": {},
   "source": [
    "###"
   ]
  },
  {
   "cell_type": "code",
   "execution_count": 59,
   "id": "f496e731-b887-482c-ae15-03a70b217844",
   "metadata": {
    "execution": {
     "iopub.execute_input": "2024-12-08T09:25:44.166850Z",
     "iopub.status.busy": "2024-12-08T09:25:44.166365Z",
     "iopub.status.idle": "2024-12-08T09:25:44.188466Z",
     "shell.execute_reply": "2024-12-08T09:25:44.187289Z",
     "shell.execute_reply.started": "2024-12-08T09:25:44.166810Z"
    }
   },
   "outputs": [],
   "source": [
    "#| echo: true\n",
    "from typing import List\n",
    "from langchain_core.utils.function_calling import convert_to_openai_tool\n",
    "\n",
    "class KnowledgeGraph(BaseModel):\n",
    "    \"\"\"Generated Knowledge Graph\"\"\"\n",
    "    nodes: List[Node] = Field(\n",
    "        ..., description=\"List of nodes of the knowledge graph\")\n",
    "    edges: List[Edge] = Field(\n",
    "        ..., description=\"List of edges of the knowledge graph\")\n",
    "\n",
    "tools = [convert_to_openai_tool(KnowledgeGraph)]"
   ]
  },
  {
   "cell_type": "markdown",
   "id": "a0874977-8cb6-4093-918c-e53c3e8c9453",
   "metadata": {},
   "source": [
    "###"
   ]
  },
  {
   "cell_type": "code",
   "execution_count": 60,
   "id": "7441237a-43a3-4b6e-b5e2-d02e3d79b291",
   "metadata": {
    "execution": {
     "iopub.execute_input": "2024-12-08T09:25:44.190292Z",
     "iopub.status.busy": "2024-12-08T09:25:44.189565Z",
     "iopub.status.idle": "2024-12-08T09:25:44.200950Z",
     "shell.execute_reply": "2024-12-08T09:25:44.199968Z",
     "shell.execute_reply.started": "2024-12-08T09:25:44.190254Z"
    }
   },
   "outputs": [],
   "source": [
    "#| echo: true\n",
    "#| code-line-numbers: '6-9,14-15|1-18'\n",
    "def build_messages(text: str):\n",
    "    messages = [\n",
    "        {\n",
    "            \"role\": \"system\",\n",
    "            \"content\": (\n",
    "                \"You are a world class AI model who answers questions \" \n",
    "                \"in JSON with correct Pydantic schema. \"\n",
    "                \"Here's the json schema you must adhere to:\\n<schema>\\n\"\n",
    "                f\"{KnowledgeGraph.schema_json()}\\n</schema>\"\n",
    "            )\n",
    "        },{\n",
    "            \"role\": \"user\",\n",
    "            \"content\": (\n",
    "                \"Describe the following text as a detailed \" \n",
    "                f\"knowledge graph:\\n{text}\"\n",
    "            )\n",
    "        }]\n",
    "    return messages"
   ]
  },
  {
   "cell_type": "code",
   "execution_count": 61,
   "id": "682d2d9f-652f-43e6-9037-447b84bb5fe7",
   "metadata": {
    "execution": {
     "iopub.execute_input": "2024-12-08T09:25:44.202565Z",
     "iopub.status.busy": "2024-12-08T09:25:44.202182Z",
     "iopub.status.idle": "2024-12-08T09:25:44.226462Z",
     "shell.execute_reply": "2024-12-08T09:25:44.225339Z",
     "shell.execute_reply.started": "2024-12-08T09:25:44.202526Z"
    }
   },
   "outputs": [
    {
     "name": "stderr",
     "output_type": "stream",
     "text": [
      "/tmp/ipykernel_74963/656122413.py:11: PydanticDeprecatedSince20: The `schema_json` method is deprecated; use `model_json_schema` and json.dumps instead. Deprecated in Pydantic V2.0 to be removed in V3.0. See Pydantic V2 Migration Guide at https://errors.pydantic.dev/2.10/migration/\n",
      "  f\"{KnowledgeGraph.schema_json()}\\n</schema>\"\n"
     ]
    },
    {
     "data": {
      "text/plain": [
       "[{'role': 'system',\n",
       "  'content': 'You are a world class AI model who answers questions in JSON with correct Pydantic schema. Here\\'s the json schema you must adhere to:\\n<schema>\\n{\"$defs\": {\"Edge\": {\"description\": \"Edge of the Knowledge Graph\", \"properties\": {\"source\": {\"description\": \"Unique source of the edge\", \"title\": \"Source\", \"type\": \"integer\"}, \"target\": {\"description\": \"Unique target of the edge\", \"title\": \"Target\", \"type\": \"integer\"}, \"type\": {\"description\": \"Type of the edge\", \"title\": \"Type\", \"type\": \"string\"}, \"label\": {\"description\": \"Label of the edge\", \"title\": \"Label\", \"type\": \"string\"}}, \"required\": [\"source\", \"target\", \"type\", \"label\"], \"title\": \"Edge\", \"type\": \"object\"}, \"Node\": {\"description\": \"Node of the Knowledge Graph\", \"properties\": {\"id\": {\"description\": \"Unique identifier of the node starting at zero\", \"title\": \"Id\", \"type\": \"integer\"}, \"type\": {\"description\": \"Type of the node\", \"title\": \"Type\", \"type\": \"string\"}, \"label\": {\"description\": \"Label of the node\", \"title\": \"Label\", \"type\": \"string\"}}, \"required\": [\"id\", \"type\", \"label\"], \"title\": \"Node\", \"type\": \"object\"}}, \"description\": \"Generated Knowledge Graph\", \"properties\": {\"nodes\": {\"description\": \"List of nodes of the knowledge graph\", \"items\": {\"$ref\": \"#/$defs/Node\"}, \"title\": \"Nodes\", \"type\": \"array\"}, \"edges\": {\"description\": \"List of edges of the knowledge graph\", \"items\": {\"$ref\": \"#/$defs/Edge\"}, \"title\": \"Edges\", \"type\": \"array\"}}, \"required\": [\"nodes\", \"edges\"], \"title\": \"KnowledgeGraph\", \"type\": \"object\"}\\n</schema>'},\n",
       " {'role': 'user',\n",
       "  'content': 'Describe the following text as a detailed knowledge graph:\\nAlice loves Bob'}]"
      ]
     },
     "execution_count": 61,
     "metadata": {},
     "output_type": "execute_result"
    }
   ],
   "source": [
    "#| output: false\n",
    "build_messages(\"Alice loves Bob\")"
   ]
  },
  {
   "cell_type": "markdown",
   "id": "3ca50721-b084-459b-9ac0-b321cb7fb860",
   "metadata": {},
   "source": [
    "###"
   ]
  },
  {
   "cell_type": "code",
   "execution_count": 62,
   "id": "f7f3f89e-3984-409d-8293-ba91210fb714",
   "metadata": {
    "execution": {
     "iopub.execute_input": "2024-12-08T09:25:44.227709Z",
     "iopub.status.busy": "2024-12-08T09:25:44.227374Z",
     "iopub.status.idle": "2024-12-08T09:25:44.233933Z",
     "shell.execute_reply": "2024-12-08T09:25:44.233052Z",
     "shell.execute_reply.started": "2024-12-08T09:25:44.227676Z"
    }
   },
   "outputs": [],
   "source": [
    "#| echo: true\n",
    "#| code-line-numbers: 9-13|1-18\n",
    "def generate_assistant_message(messages):\n",
    "    outlines_logits_processor = outlines.processors.JSONLogitsProcessor(\n",
    "        KnowledgeGraph,\n",
    "        outlines_tokenizer,\n",
    "        whitespace_pattern=r\"[\\n\\t ]*\"\n",
    "    )\n",
    "    output = llm.create_chat_completion(\n",
    "        messages=messages,\n",
    "        tools=tools, # <1>\n",
    "        tool_choice={\"type\": \"function\", \n",
    "                     \"function\": {\"name\": \"KnowledgeGraph\"}},\n",
    "        logits_processor=transformers.LogitsProcessorList( # <2>\n",
    "            [outlines_logits_processor]),\n",
    "        temperature=0,\n",
    "        seed=42,\n",
    "        max_tokens=5000,\n",
    "    )\n",
    "    return output[\"choices\"][0][\"message\"]"
   ]
  },
  {
   "cell_type": "markdown",
   "id": "90900292-d968-4f78-8349-a7de324a2c82",
   "metadata": {},
   "source": [
    "1. Structured Outputs\n",
    "2. Structured Generation"
   ]
  },
  {
   "cell_type": "code",
   "execution_count": 63,
   "id": "66d6986e-596b-44a5-b0f4-f4055ae25b9e",
   "metadata": {
    "execution": {
     "iopub.execute_input": "2024-12-08T09:25:44.235480Z",
     "iopub.status.busy": "2024-12-08T09:25:44.234939Z",
     "iopub.status.idle": "2024-12-08T09:25:48.459396Z",
     "shell.execute_reply": "2024-12-08T09:25:48.458954Z",
     "shell.execute_reply.started": "2024-12-08T09:25:44.235447Z"
    }
   },
   "outputs": [
    {
     "name": "stderr",
     "output_type": "stream",
     "text": [
      "/tmp/ipykernel_74963/656122413.py:11: PydanticDeprecatedSince20: The `schema_json` method is deprecated; use `model_json_schema` and json.dumps instead. Deprecated in Pydantic V2.0 to be removed in V3.0. See Pydantic V2 Migration Guide at https://errors.pydantic.dev/2.10/migration/\n",
      "  f\"{KnowledgeGraph.schema_json()}\\n</schema>\"\n"
     ]
    },
    {
     "data": {
      "text/plain": [
       "{'role': 'assistant',\n",
       " 'content': None,\n",
       " 'function_call': {'name': 'KnowledgeGraph',\n",
       "  'arguments': '{\"nodes\": [{\"id\": 0, \"type\": \"Person\", \"label\": \"Alice\"}, {\"id\": 1, \"type\": \"Person\", \"label\": \"Bob\"}], \"edges\": [{\"source\": 0, \"target\": 1, \"type\": \"LOVES\", \"label\": \"loves\"}]}'},\n",
       " 'tool_calls': [{'id': 'call__0_KnowledgeGraph_cmpl-12cfe912-4c76-462b-9465-f80b6048df8e',\n",
       "   'type': 'function',\n",
       "   'function': {'name': 'KnowledgeGraph',\n",
       "    'arguments': '{\"nodes\": [{\"id\": 0, \"type\": \"Person\", \"label\": \"Alice\"}, {\"id\": 1, \"type\": \"Person\", \"label\": \"Bob\"}], \"edges\": [{\"source\": 0, \"target\": 1, \"type\": \"LOVES\", \"label\": \"loves\"}]}'}}]}"
      ]
     },
     "execution_count": 63,
     "metadata": {},
     "output_type": "execute_result"
    }
   ],
   "source": [
    "#| output: false\n",
    "messages = build_messages(\"Alice loves Bob\")\n",
    "generate_assistant_message(messages)"
   ]
  },
  {
   "cell_type": "markdown",
   "id": "d533fde8-6b38-43df-b65e-3e1dff32c29c",
   "metadata": {},
   "source": [
    "##"
   ]
  },
  {
   "cell_type": "code",
   "execution_count": 64,
   "id": "b4dfcf8c-46d8-40f1-9e23-7ab31febf9cb",
   "metadata": {
    "execution": {
     "iopub.execute_input": "2024-12-08T09:25:48.460061Z",
     "iopub.status.busy": "2024-12-08T09:25:48.459909Z",
     "iopub.status.idle": "2024-12-08T09:25:52.170982Z",
     "shell.execute_reply": "2024-12-08T09:25:52.170550Z",
     "shell.execute_reply.started": "2024-12-08T09:25:48.460048Z"
    }
   },
   "outputs": [
    {
     "name": "stderr",
     "output_type": "stream",
     "text": [
      "/tmp/ipykernel_74963/656122413.py:11: PydanticDeprecatedSince20: The `schema_json` method is deprecated; use `model_json_schema` and json.dumps instead. Deprecated in Pydantic V2.0 to be removed in V3.0. See Pydantic V2 Migration Guide at https://errors.pydantic.dev/2.10/migration/\n",
      "  f\"{KnowledgeGraph.schema_json()}\\n</schema>\"\n"
     ]
    },
    {
     "data": {
      "text/plain": [
       "'{\"nodes\": [{\"id\": 0, \"type\": \"Person\", \"label\": \"Alice\"}, {\"id\": 1, \"type\": \"Person\", \"label\": \"Bob\"}], \"edges\": [{\"source\": 0, \"target\": 1, \"type\": \"LOVES\", \"label\": \"loves\"}]}'"
      ]
     },
     "execution_count": 64,
     "metadata": {},
     "output_type": "execute_result"
    }
   ],
   "source": [
    "#| echo: true\n",
    "def generate_kg(text):\n",
    "    messages = build_messages(text)\n",
    "    assistant_message = generate_assistant_message(messages)\n",
    "    return assistant_message[\"tool_calls\"][0][\"function\"][\"arguments\"]\n",
    "    \n",
    "generate_kg(\"Alice loves Bob\")"
   ]
  },
  {
   "cell_type": "code",
   "execution_count": 65,
   "id": "5785782c-2a91-4473-a321-e6c784766fec",
   "metadata": {
    "execution": {
     "iopub.execute_input": "2024-12-08T09:25:52.171624Z",
     "iopub.status.busy": "2024-12-08T09:25:52.171471Z",
     "iopub.status.idle": "2024-12-08T09:25:55.895446Z",
     "shell.execute_reply": "2024-12-08T09:25:55.895004Z",
     "shell.execute_reply.started": "2024-12-08T09:25:52.171611Z"
    }
   },
   "outputs": [
    {
     "name": "stderr",
     "output_type": "stream",
     "text": [
      "/tmp/ipykernel_74963/656122413.py:11: PydanticDeprecatedSince20: The `schema_json` method is deprecated; use `model_json_schema` and json.dumps instead. Deprecated in Pydantic V2.0 to be removed in V3.0. See Pydantic V2 Migration Guide at https://errors.pydantic.dev/2.10/migration/\n",
      "  f\"{KnowledgeGraph.schema_json()}\\n</schema>\"\n"
     ]
    },
    {
     "data": {
      "text/plain": [
       "'{\"nodes\": [{\"id\": 0, \"type\": \"Person\", \"label\": \"Alice\"}, {\"id\": 1, \"type\": \"Person\", \"label\": \"Bob\"}], \"edges\": [{\"source\": 0, \"target\": 1, \"type\": \"LOVES\", \"label\": \"loves\"}]}'"
      ]
     },
     "execution_count": 65,
     "metadata": {},
     "output_type": "execute_result"
    }
   ],
   "source": [
    "#| output: false\n",
    "kg = generate_kg(\"Alice loves Bob\")\n",
    "kg"
   ]
  },
  {
   "cell_type": "markdown",
   "id": "20544d75-d63d-4aa4-bfda-7cf0da1c4ab9",
   "metadata": {},
   "source": [
    "##"
   ]
  },
  {
   "cell_type": "code",
   "execution_count": 66,
   "id": "e2a213e3-1264-4622-be22-356cfc93f6dd",
   "metadata": {
    "execution": {
     "iopub.execute_input": "2024-12-08T09:25:55.899502Z",
     "iopub.status.busy": "2024-12-08T09:25:55.899345Z",
     "iopub.status.idle": "2024-12-08T09:27:11.026048Z",
     "shell.execute_reply": "2024-12-08T09:27:11.025538Z",
     "shell.execute_reply.started": "2024-12-08T09:25:55.899489Z"
    }
   },
   "outputs": [
    {
     "name": "stderr",
     "output_type": "stream",
     "text": [
      "/tmp/ipykernel_74963/656122413.py:11: PydanticDeprecatedSince20: The `schema_json` method is deprecated; use `model_json_schema` and json.dumps instead. Deprecated in Pydantic V2.0 to be removed in V3.0. See Pydantic V2 Migration Guide at https://errors.pydantic.dev/2.10/migration/\n",
      "  f\"{KnowledgeGraph.schema_json()}\\n</schema>\"\n"
     ]
    }
   ],
   "source": [
    "#| echo: true\n",
    "import json\n",
    "\n",
    "nodes, edges = [], []\n",
    "for text in texts:\n",
    "    kg = generate_kg(text)\n",
    "    nodes.append(json.loads(kg)[\"nodes\"])\n",
    "    edges.append(json.loads(kg)[\"edges\"])"
   ]
  },
  {
   "cell_type": "markdown",
   "id": "36c10870-e653-4ef8-8909-f24a22266b49",
   "metadata": {},
   "source": [
    "### Node and Edge Type Candidates"
   ]
  },
  {
   "cell_type": "code",
   "execution_count": 67,
   "id": "8bb6b338-f55f-48be-8be0-d8ce1b881559",
   "metadata": {
    "execution": {
     "iopub.execute_input": "2024-12-08T09:27:11.026736Z",
     "iopub.status.busy": "2024-12-08T09:27:11.026561Z",
     "iopub.status.idle": "2024-12-08T09:27:11.030955Z",
     "shell.execute_reply": "2024-12-08T09:27:11.030213Z",
     "shell.execute_reply.started": "2024-12-08T09:27:11.026721Z"
    }
   },
   "outputs": [
    {
     "name": "stdout",
     "output_type": "stream",
     "text": [
      "Counter({'PERSON': 11, 'CONCEPT': 3, 'ELEMENT': 2, 'COUNTRY': 2, 'AWARD': 2, 'EVENT': 2, 'CHEMICALELEMENT': 2})\n",
      "Counter({'DISCOVERED': 4, 'STUDIES': 3, 'AWARDED': 2, 'DESCRIBED_AS': 2, 'PARTICIPATES_IN': 2, 'AWARD': 2, 'RECEIVED': 2, 'POSTHUMOUS': 2, 'VISITED': 1, 'ORIGIN': 1, 'NAMED_AFTER': 1, 'MEETS': 1, 'PROPOSES': 1, 'MARRIED_TO': 1, 'RELATIVE': 1, 'DISCOVERS': 1, 'MARRIAGE': 1, 'AFFAIR': 1, 'COLLABORATION': 1, 'MARRIED': 1})\n"
     ]
    }
   ],
   "source": [
    "#| echo: true\n",
    "from collections import Counter\n",
    "\n",
    "print(\n",
    "    Counter([node[\"type\"].upper() for i in range(len(texts)) \n",
    "             for node in nodes[i]])\n",
    ")\n",
    "print(\n",
    "    Counter([edge[\"type\"].upper() for i in range(len(texts)) \n",
    "             for edge in edges[i]])\n",
    ")"
   ]
  },
  {
   "cell_type": "markdown",
   "id": "4329843a-1f33-4ed3-bf36-e4ee5cef481b",
   "metadata": {},
   "source": [
    "### {auto-animate=true}"
   ]
  },
  {
   "cell_type": "code",
   "execution_count": 68,
   "id": "3b02acea-9e86-4ea9-8407-a178ad14cab6",
   "metadata": {
    "execution": {
     "iopub.execute_input": "2024-12-08T09:27:11.032621Z",
     "iopub.status.busy": "2024-12-08T09:27:11.031993Z",
     "iopub.status.idle": "2024-12-08T09:27:11.055310Z",
     "shell.execute_reply": "2024-12-08T09:27:11.054540Z",
     "shell.execute_reply.started": "2024-12-08T09:27:11.032581Z"
    }
   },
   "outputs": [],
   "source": [
    "#| echo: true\n",
    "#| code-line-numbers: '8,14'\n",
    "from typing import Literal, Optional\n",
    "from pydantic import BaseModel, Field\n",
    "\n",
    "class Node(BaseModel):\n",
    "    \"\"\"Node of the Knowledge Graph\"\"\"\n",
    "    id: int = Field(\n",
    "        ..., description=\"Unique identifier of the node starting at zero\")\n",
    "    type: str = Field(..., description=\"Type of the node\")\n",
    "    label: str = Field(..., description=\"Label of the node\")\n",
    "\n",
    "class Edge(BaseModel):\n",
    "    \"\"\"Edge of the Knowledge Graph\"\"\"\n",
    "    source: int = Field(..., description=\"Unique source of the edge\")\n",
    "    target: int = Field(..., description=\"Unique target of the edge\")\n",
    "    type: str = Field(..., description=\"Type of the edge\")\n",
    "    label: str = Field(..., description=\"Label of the edge\")"
   ]
  },
  {
   "cell_type": "markdown",
   "id": "3810226b-32e3-4007-8040-4cb1cc9403b0",
   "metadata": {},
   "source": [
    "### {auto-animate=true}"
   ]
  },
  {
   "cell_type": "code",
   "execution_count": 69,
   "id": "22790ddc-7a28-48a5-81ef-e20e5dde1fdb",
   "metadata": {
    "execution": {
     "iopub.execute_input": "2024-12-08T09:27:11.057204Z",
     "iopub.status.busy": "2024-12-08T09:27:11.056410Z",
     "iopub.status.idle": "2024-12-08T09:27:11.078035Z",
     "shell.execute_reply": "2024-12-08T09:27:11.076873Z",
     "shell.execute_reply.started": "2024-12-08T09:27:11.057164Z"
    }
   },
   "outputs": [],
   "source": [
    "#| echo: true\n",
    "#| code-line-numbers: '7-9,15-17'\n",
    "from typing import Literal, Optional\n",
    "from pydantic import BaseModel, Field\n",
    "class Node(BaseModel):\n",
    "    \"\"\"Node of the Knowledge Graph\"\"\"\n",
    "    id: int = Field(\n",
    "        ..., description=\"Unique identifier of the node starting at zero\")\n",
    "    type: Literal[\n",
    "    \"PERSON\", \"AWARD\", \"DISCOVERY\", \"LOCATION\", \"OTHER\"\n",
    "    ] = Field(..., description=\"Type of the node\")\n",
    "    label: str = Field(..., description=\"Label of the node\")\n",
    "class Edge(BaseModel):\n",
    "    \"\"\"Edge of the Knowledge Graph\"\"\"\n",
    "    source: int = Field(..., description=\"Unique source of the edge\")\n",
    "    target: int = Field(..., description=\"Unique target of the edge\")\n",
    "    type: Literal[\n",
    "    \"DISCOVERED\", \"AWARDED\", \"INTERPERSONALRELATIONSHIP\", \"VISITED\", \"OTHER\"\n",
    "    ] = Field(..., description=\"Type of the edge\")\n",
    "    label: str = Field(..., description=\"Label of the edge\")"
   ]
  },
  {
   "cell_type": "code",
   "execution_count": 70,
   "id": "766e004d-4417-4921-9447-d8d06310d249",
   "metadata": {
    "execution": {
     "iopub.execute_input": "2024-12-08T09:27:11.079709Z",
     "iopub.status.busy": "2024-12-08T09:27:11.079309Z",
     "iopub.status.idle": "2024-12-08T09:27:11.092428Z",
     "shell.execute_reply": "2024-12-08T09:27:11.091184Z",
     "shell.execute_reply.started": "2024-12-08T09:27:11.079671Z"
    }
   },
   "outputs": [],
   "source": [
    "#| echo: false\n",
    "from typing import List\n",
    "\n",
    "class KnowledgeGraph(BaseModel):\n",
    "    \"\"\"Generated Knowledge Graph\"\"\"\n",
    "    nodes: List[Node] = Field(..., description=\"List of nodes of the knowledge graph\")\n",
    "    edges: List[Edge] = Field(..., description=\"List of edges of the knowledge graph\")"
   ]
  },
  {
   "cell_type": "code",
   "execution_count": 71,
   "id": "058c9abb-06c4-41e0-b4c7-f2b231d8ebcb",
   "metadata": {
    "execution": {
     "iopub.execute_input": "2024-12-08T09:27:11.093938Z",
     "iopub.status.busy": "2024-12-08T09:27:11.093541Z",
     "iopub.status.idle": "2024-12-08T09:27:11.107500Z",
     "shell.execute_reply": "2024-12-08T09:27:11.106353Z",
     "shell.execute_reply.started": "2024-12-08T09:27:11.093899Z"
    }
   },
   "outputs": [],
   "source": [
    "#| echo: false\n",
    "from langchain_core.utils.function_calling import convert_to_openai_tool\n",
    "\n",
    "tools = [convert_to_openai_tool(KnowledgeGraph)]"
   ]
  },
  {
   "cell_type": "code",
   "execution_count": 72,
   "id": "885f7c58-2750-4bec-b590-507375ddee8a",
   "metadata": {
    "execution": {
     "iopub.execute_input": "2024-12-08T09:27:11.109471Z",
     "iopub.status.busy": "2024-12-08T09:27:11.108623Z",
     "iopub.status.idle": "2024-12-08T09:28:12.886397Z",
     "shell.execute_reply": "2024-12-08T09:28:12.885882Z",
     "shell.execute_reply.started": "2024-12-08T09:27:11.109432Z"
    }
   },
   "outputs": [
    {
     "name": "stderr",
     "output_type": "stream",
     "text": [
      "/tmp/ipykernel_74963/656122413.py:11: PydanticDeprecatedSince20: The `schema_json` method is deprecated; use `model_json_schema` and json.dumps instead. Deprecated in Pydantic V2.0 to be removed in V3.0. See Pydantic V2 Migration Guide at https://errors.pydantic.dev/2.10/migration/\n",
      "  f\"{KnowledgeGraph.schema_json()}\\n</schema>\"\n"
     ]
    }
   ],
   "source": [
    "#| echo: false\n",
    "import json\n",
    "\n",
    "nodes, edges = [], []\n",
    "for text in texts:\n",
    "    kg = generate_kg(text)\n",
    "    nodes.append(json.loads(kg)[\"nodes\"])\n",
    "    edges.append(json.loads(kg)[\"edges\"])"
   ]
  },
  {
   "attachments": {},
   "cell_type": "markdown",
   "id": "4eed5cc6-5ec9-41b9-a104-dbf58460e183",
   "metadata": {},
   "source": [
    "###\n",
    "\n",
    "::: {.panel-tabset}\n",
    "\n",
    "## Chunk 1"
   ]
  },
  {
   "cell_type": "code",
   "execution_count": 73,
   "id": "26b720e8-981a-488e-8ed4-340ab24524bc",
   "metadata": {
    "execution": {
     "iopub.execute_input": "2024-12-08T09:28:12.887112Z",
     "iopub.status.busy": "2024-12-08T09:28:12.886952Z",
     "iopub.status.idle": "2024-12-08T09:28:12.950398Z",
     "shell.execute_reply": "2024-12-08T09:28:12.949820Z",
     "shell.execute_reply.started": "2024-12-08T09:28:12.887097Z"
    }
   },
   "outputs": [
    {
     "name": "stdout",
     "output_type": "stream",
     "text": [
      "When Marie Curie came to the United States for the first time, in May 1921, she had already discovered the elements radium and polonium, coined the term “radio-active” and won the Nobel Prize—twice. But the Polish-born scientist, almost pathologically shy and accustomed to spending most of her time in her Paris laboratory, was stunned by the fanfare that greeted her. In 1898 she indeed identified one of the substances and named it polonium, after her homeland. Five months later, she identified a second element, which the world came to know as radium. Curie described the elements she studied as “radio-active.”\n"
     ]
    },
    {
     "data": {
      "image/svg+xml": [
       "<?xml version=\"1.0\" encoding=\"UTF-8\" standalone=\"no\"?>\n",
       "<!DOCTYPE svg PUBLIC \"-//W3C//DTD SVG 1.1//EN\"\n",
       " \"http://www.w3.org/Graphics/SVG/1.1/DTD/svg11.dtd\">\n",
       "<!-- Generated by graphviz version 2.43.0 (0)\n",
       " -->\n",
       "<!-- Title: %3 Pages: 1 -->\n",
       "<svg width=\"809pt\" height=\"331pt\"\n",
       " viewBox=\"0.00 0.00 808.87 330.66\" xmlns=\"http://www.w3.org/2000/svg\" xmlns:xlink=\"http://www.w3.org/1999/xlink\">\n",
       "<g id=\"graph0\" class=\"graph\" transform=\"scale(1 1) rotate(0) translate(4 326.66)\">\n",
       "<title>%3</title>\n",
       "<polygon fill=\"white\" stroke=\"transparent\" points=\"-4,4 -4,-326.66 804.87,-326.66 804.87,4 -4,4\"/>\n",
       "<!-- 0 -->\n",
       "<g id=\"node1\" class=\"node\">\n",
       "<title>0</title>\n",
       "<ellipse fill=\"none\" stroke=\"black\" cx=\"336.87\" cy=\"-262.61\" rx=\"60.09\" ry=\"60.09\"/>\n",
       "<text text-anchor=\"middle\" x=\"336.87\" y=\"-266.41\" font-family=\"Times,serif\" font-size=\"14.00\">PERSON</text>\n",
       "<text text-anchor=\"middle\" x=\"336.87\" y=\"-251.41\" font-family=\"Times,serif\" font-size=\"14.00\">Marie Curie</text>\n",
       "</g>\n",
       "<!-- 1 -->\n",
       "<g id=\"node2\" class=\"node\">\n",
       "<title>1</title>\n",
       "<ellipse fill=\"none\" stroke=\"black\" cx=\"58.87\" cy=\"-68.28\" rx=\"58.73\" ry=\"58.73\"/>\n",
       "<text text-anchor=\"middle\" x=\"58.87\" y=\"-72.08\" font-family=\"Times,serif\" font-size=\"14.00\">AWARD</text>\n",
       "<text text-anchor=\"middle\" x=\"58.87\" y=\"-57.08\" font-family=\"Times,serif\" font-size=\"14.00\">Nobel Prize</text>\n",
       "</g>\n",
       "<!-- 0&#45;&gt;1 -->\n",
       "<g id=\"edge1\" class=\"edge\">\n",
       "<title>0&#45;&gt;1</title>\n",
       "<path fill=\"none\" stroke=\"black\" d=\"M277.91,-249.21C235.04,-237.91 177.48,-217.81 135.87,-184.57 117.44,-169.85 101.83,-149.51 89.59,-130\"/>\n",
       "<polygon fill=\"black\" stroke=\"black\" points=\"92.56,-128.15 84.38,-121.42 86.58,-131.78 92.56,-128.15\"/>\n",
       "<text text-anchor=\"middle\" x=\"174.37\" y=\"-173.37\" font-family=\"Times,serif\" font-size=\"14.00\">AWARDED</text>\n",
       "<text text-anchor=\"middle\" x=\"174.37\" y=\"-158.37\" font-family=\"Times,serif\" font-size=\"14.00\">won</text>\n",
       "</g>\n",
       "<!-- 2 -->\n",
       "<g id=\"node3\" class=\"node\">\n",
       "<title>2</title>\n",
       "<ellipse fill=\"none\" stroke=\"black\" cx=\"196.87\" cy=\"-68.28\" rx=\"61.44\" ry=\"61.44\"/>\n",
       "<text text-anchor=\"middle\" x=\"196.87\" y=\"-72.08\" font-family=\"Times,serif\" font-size=\"14.00\">DISCOVERY</text>\n",
       "<text text-anchor=\"middle\" x=\"196.87\" y=\"-57.08\" font-family=\"Times,serif\" font-size=\"14.00\">Radium</text>\n",
       "</g>\n",
       "<!-- 0&#45;&gt;2 -->\n",
       "<g id=\"edge2\" class=\"edge\">\n",
       "<title>0&#45;&gt;2</title>\n",
       "<path fill=\"none\" stroke=\"black\" d=\"M284.42,-232.86C265.53,-220.23 245.52,-203.85 231.87,-184.57 222.25,-171 215.24,-154.74 210.13,-138.77\"/>\n",
       "<polygon fill=\"black\" stroke=\"black\" points=\"213.4,-137.48 207.19,-128.89 206.69,-139.47 213.4,-137.48\"/>\n",
       "<text text-anchor=\"middle\" x=\"282.37\" y=\"-173.37\" font-family=\"Times,serif\" font-size=\"14.00\">DISCOVERED</text>\n",
       "<text text-anchor=\"middle\" x=\"282.37\" y=\"-158.37\" font-family=\"Times,serif\" font-size=\"14.00\">discovered</text>\n",
       "</g>\n",
       "<!-- 3 -->\n",
       "<g id=\"node4\" class=\"node\">\n",
       "<title>3</title>\n",
       "<ellipse fill=\"none\" stroke=\"black\" cx=\"336.87\" cy=\"-68.28\" rx=\"61.44\" ry=\"61.44\"/>\n",
       "<text text-anchor=\"middle\" x=\"336.87\" y=\"-72.08\" font-family=\"Times,serif\" font-size=\"14.00\">DISCOVERY</text>\n",
       "<text text-anchor=\"middle\" x=\"336.87\" y=\"-57.08\" font-family=\"Times,serif\" font-size=\"14.00\">Polonium</text>\n",
       "</g>\n",
       "<!-- 0&#45;&gt;3 -->\n",
       "<g id=\"edge3\" class=\"edge\">\n",
       "<title>0&#45;&gt;3</title>\n",
       "<path fill=\"none\" stroke=\"black\" d=\"M336.87,-202.34C336.87,-182.61 336.87,-160.43 336.87,-139.92\"/>\n",
       "<polygon fill=\"black\" stroke=\"black\" points=\"340.37,-139.69 336.87,-129.69 333.37,-139.69 340.37,-139.69\"/>\n",
       "<text text-anchor=\"middle\" x=\"387.37\" y=\"-173.37\" font-family=\"Times,serif\" font-size=\"14.00\">DISCOVERED</text>\n",
       "<text text-anchor=\"middle\" x=\"387.37\" y=\"-158.37\" font-family=\"Times,serif\" font-size=\"14.00\">discovered</text>\n",
       "</g>\n",
       "<!-- 4 -->\n",
       "<g id=\"node5\" class=\"node\">\n",
       "<title>4</title>\n",
       "<ellipse fill=\"none\" stroke=\"black\" cx=\"484.87\" cy=\"-68.28\" rx=\"68.07\" ry=\"68.07\"/>\n",
       "<text text-anchor=\"middle\" x=\"484.87\" y=\"-72.08\" font-family=\"Times,serif\" font-size=\"14.00\">LOCATION</text>\n",
       "<text text-anchor=\"middle\" x=\"484.87\" y=\"-57.08\" font-family=\"Times,serif\" font-size=\"14.00\">United States</text>\n",
       "</g>\n",
       "<!-- 0&#45;&gt;4 -->\n",
       "<g id=\"edge4\" class=\"edge\">\n",
       "<title>0&#45;&gt;4</title>\n",
       "<path fill=\"none\" stroke=\"black\" d=\"M388.96,-232.22C407.7,-219.56 427.68,-203.33 441.87,-184.57 451.01,-172.48 458.39,-158.23 464.27,-143.96\"/>\n",
       "<polygon fill=\"black\" stroke=\"black\" points=\"467.55,-145.18 467.93,-134.59 461.03,-142.63 467.55,-145.18\"/>\n",
       "<text text-anchor=\"middle\" x=\"490.37\" y=\"-173.37\" font-family=\"Times,serif\" font-size=\"14.00\">VISITED</text>\n",
       "<text text-anchor=\"middle\" x=\"490.37\" y=\"-158.37\" font-family=\"Times,serif\" font-size=\"14.00\">visited</text>\n",
       "</g>\n",
       "<!-- 5 -->\n",
       "<g id=\"node6\" class=\"node\">\n",
       "<title>5</title>\n",
       "<ellipse fill=\"none\" stroke=\"black\" cx=\"626.87\" cy=\"-68.28\" rx=\"55.17\" ry=\"55.17\"/>\n",
       "<text text-anchor=\"middle\" x=\"626.87\" y=\"-72.08\" font-family=\"Times,serif\" font-size=\"14.00\">LOCATION</text>\n",
       "<text text-anchor=\"middle\" x=\"626.87\" y=\"-57.08\" font-family=\"Times,serif\" font-size=\"14.00\">Paris</text>\n",
       "</g>\n",
       "<!-- 0&#45;&gt;5 -->\n",
       "<g id=\"edge5\" class=\"edge\">\n",
       "<title>0&#45;&gt;5</title>\n",
       "<path fill=\"none\" stroke=\"black\" d=\"M394.58,-245.57C433.65,-232.95 485.18,-212.76 524.87,-184.57 549.02,-167.41 571.39,-143.48 588.98,-121.88\"/>\n",
       "<polygon fill=\"black\" stroke=\"black\" points=\"591.74,-124.04 595.25,-114.04 586.27,-119.67 591.74,-124.04\"/>\n",
       "<text text-anchor=\"middle\" x=\"678.87\" y=\"-173.37\" font-family=\"Times,serif\" font-size=\"14.00\">INTERPERSONALRELATIONSHIP</text>\n",
       "<text text-anchor=\"middle\" x=\"678.87\" y=\"-158.37\" font-family=\"Times,serif\" font-size=\"14.00\">spent most of her time</text>\n",
       "</g>\n",
       "</g>\n",
       "</svg>\n"
      ],
      "text/plain": [
       "<graphviz.graphs.Digraph at 0x722f6717ce90>"
      ]
     },
     "execution_count": 73,
     "metadata": {},
     "output_type": "execute_result"
    }
   ],
   "source": [
    "#| echo: true\n",
    "#| code-fold: true\n",
    "from graphviz import Digraph\n",
    "\n",
    "dot = Digraph()\n",
    "i = 0\n",
    "for node in nodes[i]:\n",
    "    if node['type'] != \"OTHER\":\n",
    "        dot.node(str(node['id']), node['type']+\"\\n\"+node['label'], shape='circle', width='1', height='1')\n",
    "for edge in edges[i]:\n",
    "    if edge[\"type\"] != \"OTHER\": #and nodes[i][edge[\"source\"]][\"type\"]!= \"OTHER\" and nodes[i][edge[\"target\"]][\"type\"]!= \"OTHER\":\n",
    "        dot.edge(str(edge['source']), str(edge['target']), label=edge['type']+\"\\n\"+ edge['label'])\n",
    "print(texts[i])\n",
    "dot"
   ]
  },
  {
   "cell_type": "markdown",
   "id": "7f6f2e1d-eea8-49be-a986-c23124a67cf1",
   "metadata": {},
   "source": [
    "## Chunk 2"
   ]
  },
  {
   "cell_type": "code",
   "execution_count": 74,
   "id": "708cae0a-2caa-444b-a75f-4a5398651c21",
   "metadata": {
    "execution": {
     "iopub.execute_input": "2024-12-08T09:28:12.951334Z",
     "iopub.status.busy": "2024-12-08T09:28:12.951069Z",
     "iopub.status.idle": "2024-12-08T09:28:13.023059Z",
     "shell.execute_reply": "2024-12-08T09:28:13.021901Z",
     "shell.execute_reply.started": "2024-12-08T09:28:12.951309Z"
    }
   },
   "outputs": [
    {
     "name": "stdout",
     "output_type": "stream",
     "text": [
      "In 1894, she met Pierre Curie, a 35-year-old physicist at a French technical college who had been studying crystals and magnetism. More than a decade before, he and his brother Jacques had discovered piezoelectricity, the electric charge produced in solid materials under pressure. Pierre was taken by Marie’s uncommon intellect and drive, and he proposed to her. They were married in 1895 in a civil service attended by family and a few friends.\n"
     ]
    },
    {
     "data": {
      "image/svg+xml": [
       "<?xml version=\"1.0\" encoding=\"UTF-8\" standalone=\"no\"?>\n",
       "<!DOCTYPE svg PUBLIC \"-//W3C//DTD SVG 1.1//EN\"\n",
       " \"http://www.w3.org/Graphics/SVG/1.1/DTD/svg11.dtd\">\n",
       "<!-- Generated by graphviz version 2.43.0 (0)\n",
       " -->\n",
       "<!-- Title: %3 Pages: 1 -->\n",
       "<svg width=\"478pt\" height=\"532pt\"\n",
       " viewBox=\"0.00 0.00 478.09 532.05\" xmlns=\"http://www.w3.org/2000/svg\" xmlns:xlink=\"http://www.w3.org/1999/xlink\">\n",
       "<g id=\"graph0\" class=\"graph\" transform=\"scale(1 1) rotate(0) translate(4 528.05)\">\n",
       "<title>%3</title>\n",
       "<polygon fill=\"white\" stroke=\"transparent\" points=\"-4,4 -4,-528.05 474.09,-528.05 474.09,4 -4,4\"/>\n",
       "<!-- 0 -->\n",
       "<g id=\"node1\" class=\"node\">\n",
       "<title>0</title>\n",
       "<ellipse fill=\"none\" stroke=\"black\" cx=\"277.76\" cy=\"-464.01\" rx=\"60.09\" ry=\"60.09\"/>\n",
       "<text text-anchor=\"middle\" x=\"277.76\" y=\"-467.81\" font-family=\"Times,serif\" font-size=\"14.00\">PERSON</text>\n",
       "<text text-anchor=\"middle\" x=\"277.76\" y=\"-452.81\" font-family=\"Times,serif\" font-size=\"14.00\">Marie Curie</text>\n",
       "</g>\n",
       "<!-- 1 -->\n",
       "<g id=\"node2\" class=\"node\">\n",
       "<title>1</title>\n",
       "<ellipse fill=\"none\" stroke=\"black\" cx=\"180.76\" cy=\"-276.74\" rx=\"61.44\" ry=\"61.44\"/>\n",
       "<text text-anchor=\"middle\" x=\"180.76\" y=\"-280.54\" font-family=\"Times,serif\" font-size=\"14.00\">PERSON</text>\n",
       "<text text-anchor=\"middle\" x=\"180.76\" y=\"-265.54\" font-family=\"Times,serif\" font-size=\"14.00\">Pierre Curie</text>\n",
       "</g>\n",
       "<!-- 0&#45;&gt;1 -->\n",
       "<g id=\"edge1\" class=\"edge\">\n",
       "<title>0&#45;&gt;1</title>\n",
       "<path fill=\"none\" stroke=\"black\" d=\"M226.89,-431.94C211.25,-419.67 195.8,-404.12 186.76,-385.96 180.95,-374.28 177.84,-360.99 176.41,-347.82\"/>\n",
       "<polygon fill=\"black\" stroke=\"black\" points=\"179.89,-347.49 175.62,-337.8 172.91,-348.04 179.89,-347.49\"/>\n",
       "<text text-anchor=\"middle\" x=\"225.26\" y=\"-374.76\" font-family=\"Times,serif\" font-size=\"14.00\">AWARDED</text>\n",
       "<text text-anchor=\"middle\" x=\"225.26\" y=\"-359.76\" font-family=\"Times,serif\" font-size=\"14.00\">Met</text>\n",
       "</g>\n",
       "<!-- 2 -->\n",
       "<g id=\"node3\" class=\"node\">\n",
       "<title>2</title>\n",
       "<ellipse fill=\"none\" stroke=\"black\" cx=\"251.76\" cy=\"-74.76\" rx=\"58.73\" ry=\"58.73\"/>\n",
       "<text text-anchor=\"middle\" x=\"251.76\" y=\"-78.56\" font-family=\"Times,serif\" font-size=\"14.00\">AWARD</text>\n",
       "<text text-anchor=\"middle\" x=\"251.76\" y=\"-63.56\" font-family=\"Times,serif\" font-size=\"14.00\">Nobel Prize</text>\n",
       "</g>\n",
       "<!-- 0&#45;&gt;2 -->\n",
       "<g id=\"edge3\" class=\"edge\">\n",
       "<title>0&#45;&gt;2</title>\n",
       "<path fill=\"none\" stroke=\"black\" d=\"M276.39,-403.76C274.68,-344.03 271.03,-249.24 263.76,-167.52 263.07,-159.76 262.21,-151.64 261.27,-143.58\"/>\n",
       "<polygon fill=\"black\" stroke=\"black\" points=\"264.72,-142.95 260.04,-133.44 257.77,-143.79 264.72,-142.95\"/>\n",
       "<text text-anchor=\"middle\" x=\"306.76\" y=\"-280.54\" font-family=\"Times,serif\" font-size=\"14.00\">VISITED</text>\n",
       "<text text-anchor=\"middle\" x=\"306.76\" y=\"-265.54\" font-family=\"Times,serif\" font-size=\"14.00\">Awarded</text>\n",
       "</g>\n",
       "<!-- 4 -->\n",
       "<g id=\"node5\" class=\"node\">\n",
       "<title>4</title>\n",
       "<ellipse fill=\"none\" stroke=\"black\" cx=\"414.76\" cy=\"-276.74\" rx=\"55.17\" ry=\"55.17\"/>\n",
       "<text text-anchor=\"middle\" x=\"414.76\" y=\"-280.54\" font-family=\"Times,serif\" font-size=\"14.00\">LOCATION</text>\n",
       "<text text-anchor=\"middle\" x=\"414.76\" y=\"-265.54\" font-family=\"Times,serif\" font-size=\"14.00\">France</text>\n",
       "</g>\n",
       "<!-- 0&#45;&gt;4 -->\n",
       "<g id=\"edge5\" class=\"edge\">\n",
       "<title>0&#45;&gt;4</title>\n",
       "<path fill=\"none\" stroke=\"black\" d=\"M313.04,-415.3C332.37,-389.16 356.35,-356.73 376.17,-329.92\"/>\n",
       "<polygon fill=\"black\" stroke=\"black\" points=\"379.05,-331.92 382.18,-321.8 373.42,-327.75 379.05,-331.92\"/>\n",
       "<text text-anchor=\"middle\" x=\"384.26\" y=\"-374.76\" font-family=\"Times,serif\" font-size=\"14.00\">VISITED</text>\n",
       "<text text-anchor=\"middle\" x=\"384.26\" y=\"-359.76\" font-family=\"Times,serif\" font-size=\"14.00\">Lived in</text>\n",
       "</g>\n",
       "<!-- 1&#45;&gt;2 -->\n",
       "<g id=\"edge4\" class=\"edge\">\n",
       "<title>1&#45;&gt;2</title>\n",
       "<path fill=\"none\" stroke=\"black\" d=\"M187.53,-215.82C190.35,-199.84 194.28,-182.78 199.76,-167.52 203.82,-156.21 209.22,-144.67 215,-133.76\"/>\n",
       "<polygon fill=\"black\" stroke=\"black\" points=\"218.19,-135.21 219.92,-124.76 212.05,-131.85 218.19,-135.21\"/>\n",
       "<text text-anchor=\"middle\" x=\"231.76\" y=\"-186.32\" font-family=\"Times,serif\" font-size=\"14.00\">VISITED</text>\n",
       "<text text-anchor=\"middle\" x=\"231.76\" y=\"-171.32\" font-family=\"Times,serif\" font-size=\"14.00\">Awarded</text>\n",
       "</g>\n",
       "<!-- 3 -->\n",
       "<g id=\"node4\" class=\"node\">\n",
       "<title>3</title>\n",
       "<ellipse fill=\"none\" stroke=\"black\" cx=\"74.76\" cy=\"-74.76\" rx=\"74.52\" ry=\"74.52\"/>\n",
       "<text text-anchor=\"middle\" x=\"74.76\" y=\"-78.56\" font-family=\"Times,serif\" font-size=\"14.00\">DISCOVERY</text>\n",
       "<text text-anchor=\"middle\" x=\"74.76\" y=\"-63.56\" font-family=\"Times,serif\" font-size=\"14.00\">Piezoelectricity</text>\n",
       "</g>\n",
       "<!-- 1&#45;&gt;3 -->\n",
       "<g id=\"edge2\" class=\"edge\">\n",
       "<title>1&#45;&gt;3</title>\n",
       "<path fill=\"none\" stroke=\"black\" d=\"M128.68,-244.14C112.57,-231.67 96.51,-215.9 86.76,-197.52 80.62,-185.93 76.74,-172.85 74.39,-159.66\"/>\n",
       "<polygon fill=\"black\" stroke=\"black\" points=\"77.82,-158.96 72.88,-149.59 70.9,-159.99 77.82,-158.96\"/>\n",
       "<text text-anchor=\"middle\" x=\"137.26\" y=\"-186.32\" font-family=\"Times,serif\" font-size=\"14.00\">DISCOVERED</text>\n",
       "<text text-anchor=\"middle\" x=\"137.26\" y=\"-171.32\" font-family=\"Times,serif\" font-size=\"14.00\">Studied</text>\n",
       "</g>\n",
       "</g>\n",
       "</svg>\n"
      ],
      "text/plain": [
       "<graphviz.graphs.Digraph at 0x722efc253110>"
      ]
     },
     "execution_count": 74,
     "metadata": {},
     "output_type": "execute_result"
    }
   ],
   "source": [
    "#| echo: true\n",
    "#| code-fold: true\n",
    "from graphviz import Digraph\n",
    "\n",
    "dot = Digraph()\n",
    "i = 1\n",
    "for node in nodes[i]:\n",
    "    if node['type'] != \"OTHER\":\n",
    "        dot.node(str(node['id']), node['type']+\"\\n\"+node['label'], shape='circle', width='1', height='1')\n",
    "for edge in edges[i]:\n",
    "    if edge[\"type\"] != \"OTHER\": #and nodes[i][edge[\"source\"]][\"type\"]!= \"OTHER\" and nodes[i][edge[\"target\"]][\"type\"]!= \"OTHER\":\n",
    "        dot.edge(str(edge['source']), str(edge['target']), label=edge['type']+\"\\n\"+ edge['label'])\n",
    "print(texts[i])\n",
    "dot"
   ]
  },
  {
   "cell_type": "markdown",
   "id": "67233f67-6413-4592-9445-9a6e283458f7",
   "metadata": {},
   "source": [
    "## Chunk 3"
   ]
  },
  {
   "cell_type": "code",
   "execution_count": 75,
   "id": "e87f2416-5fe9-4acc-868b-0c5f00bb34c6",
   "metadata": {
    "execution": {
     "iopub.execute_input": "2024-12-08T09:28:13.024957Z",
     "iopub.status.busy": "2024-12-08T09:28:13.024425Z",
     "iopub.status.idle": "2024-12-08T09:28:13.107276Z",
     "shell.execute_reply": "2024-12-08T09:28:13.105955Z",
     "shell.execute_reply.started": "2024-12-08T09:28:13.024916Z"
    }
   },
   "outputs": [
    {
     "name": "stdout",
     "output_type": "stream",
     "text": [
      "Both Curies shared the Nobel Prize in physics with Becquerel in 1903. It was the first Nobel to be awarded to a woman. In 1911, rumors spread that Curie was having an affair with the prominent physicist Paul Langevin, a man five years her junior who had been Pierre’s student and had worked closely with Albert Einstein. The front-page coverage of the scandal threatened to overshadow another news story later that year: her second Nobel Prize.\n"
     ]
    },
    {
     "data": {
      "image/svg+xml": [
       "<?xml version=\"1.0\" encoding=\"UTF-8\" standalone=\"no\"?>\n",
       "<!DOCTYPE svg PUBLIC \"-//W3C//DTD SVG 1.1//EN\"\n",
       " \"http://www.w3.org/Graphics/SVG/1.1/DTD/svg11.dtd\">\n",
       "<!-- Generated by graphviz version 2.43.0 (0)\n",
       " -->\n",
       "<!-- Title: %3 Pages: 1 -->\n",
       "<svg width=\"901pt\" height=\"625pt\"\n",
       " viewBox=\"0.00 0.00 901.10 625.06\" xmlns=\"http://www.w3.org/2000/svg\" xmlns:xlink=\"http://www.w3.org/1999/xlink\">\n",
       "<g id=\"graph0\" class=\"graph\" transform=\"scale(1 1) rotate(0) translate(4 621.06)\">\n",
       "<title>%3</title>\n",
       "<polygon fill=\"white\" stroke=\"transparent\" points=\"-4,4 -4,-621.06 897.1,-621.06 897.1,4 -4,4\"/>\n",
       "<!-- 0 -->\n",
       "<g id=\"node1\" class=\"node\">\n",
       "<title>0</title>\n",
       "<ellipse fill=\"none\" stroke=\"black\" cx=\"397.22\" cy=\"-557.01\" rx=\"60.09\" ry=\"60.09\"/>\n",
       "<text text-anchor=\"middle\" x=\"397.22\" y=\"-560.81\" font-family=\"Times,serif\" font-size=\"14.00\">PERSON</text>\n",
       "<text text-anchor=\"middle\" x=\"397.22\" y=\"-545.81\" font-family=\"Times,serif\" font-size=\"14.00\">Marie Curie</text>\n",
       "</g>\n",
       "<!-- 1 -->\n",
       "<g id=\"node2\" class=\"node\">\n",
       "<title>1</title>\n",
       "<ellipse fill=\"none\" stroke=\"black\" cx=\"61.22\" cy=\"-352.09\" rx=\"61.44\" ry=\"61.44\"/>\n",
       "<text text-anchor=\"middle\" x=\"61.22\" y=\"-355.89\" font-family=\"Times,serif\" font-size=\"14.00\">PERSON</text>\n",
       "<text text-anchor=\"middle\" x=\"61.22\" y=\"-340.89\" font-family=\"Times,serif\" font-size=\"14.00\">Pierre Curie</text>\n",
       "</g>\n",
       "<!-- 0&#45;&gt;1 -->\n",
       "<g id=\"edge5\" class=\"edge\">\n",
       "<title>0&#45;&gt;1</title>\n",
       "<path fill=\"none\" stroke=\"black\" d=\"M337.04,-553.01C239.03,-546.71 51.74,-528.37 11.22,-478.97 -5.71,-458.32 2.21,-431.23 16.28,-407.46\"/>\n",
       "<polygon fill=\"black\" stroke=\"black\" points=\"19.32,-409.2 21.7,-398.88 13.4,-405.46 19.32,-409.2\"/>\n",
       "<text text-anchor=\"middle\" x=\"133.22\" y=\"-467.77\" font-family=\"Times,serif\" font-size=\"14.00\">INTERPERSONALRELATIONSHIP</text>\n",
       "<text text-anchor=\"middle\" x=\"133.22\" y=\"-452.77\" font-family=\"Times,serif\" font-size=\"14.00\">Married To</text>\n",
       "</g>\n",
       "<!-- 3 -->\n",
       "<g id=\"node4\" class=\"node\">\n",
       "<title>3</title>\n",
       "<ellipse fill=\"none\" stroke=\"black\" cx=\"268.22\" cy=\"-352.09\" rx=\"68.75\" ry=\"68.75\"/>\n",
       "<text text-anchor=\"middle\" x=\"268.22\" y=\"-355.89\" font-family=\"Times,serif\" font-size=\"14.00\">PERSON</text>\n",
       "<text text-anchor=\"middle\" x=\"268.22\" y=\"-340.89\" font-family=\"Times,serif\" font-size=\"14.00\">Paul Langevin</text>\n",
       "</g>\n",
       "<!-- 0&#45;&gt;3 -->\n",
       "<g id=\"edge6\" class=\"edge\">\n",
       "<title>0&#45;&gt;3</title>\n",
       "<path fill=\"none\" stroke=\"black\" d=\"M340.62,-536.93C313.98,-524.78 284.71,-506.12 269.22,-478.97 260.92,-464.43 257.5,-447.32 256.78,-430.48\"/>\n",
       "<polygon fill=\"black\" stroke=\"black\" points=\"260.28,-430.02 256.66,-420.06 253.28,-430.1 260.28,-430.02\"/>\n",
       "<text text-anchor=\"middle\" x=\"391.22\" y=\"-467.77\" font-family=\"Times,serif\" font-size=\"14.00\">INTERPERSONALRELATIONSHIP</text>\n",
       "<text text-anchor=\"middle\" x=\"391.22\" y=\"-452.77\" font-family=\"Times,serif\" font-size=\"14.00\">Affair Rumors With</text>\n",
       "</g>\n",
       "<!-- 4 -->\n",
       "<g id=\"node5\" class=\"node\">\n",
       "<title>4</title>\n",
       "<ellipse fill=\"none\" stroke=\"black\" cx=\"583.22\" cy=\"-103.6\" rx=\"103.71\" ry=\"103.71\"/>\n",
       "<text text-anchor=\"middle\" x=\"583.22\" y=\"-107.4\" font-family=\"Times,serif\" font-size=\"14.00\">AWARD</text>\n",
       "<text text-anchor=\"middle\" x=\"583.22\" y=\"-92.4\" font-family=\"Times,serif\" font-size=\"14.00\">Nobel Prize in Physics</text>\n",
       "</g>\n",
       "<!-- 0&#45;&gt;4 -->\n",
       "<g id=\"edge1\" class=\"edge\">\n",
       "<title>0&#45;&gt;4</title>\n",
       "<path fill=\"none\" stroke=\"black\" d=\"M452.09,-532.25C474.63,-519.69 498.78,-502.02 513.22,-478.97 562.24,-400.77 523.82,-363.85 541.22,-273.21 544.92,-253.95 549.45,-233.6 554.15,-213.95\"/>\n",
       "<polygon fill=\"black\" stroke=\"black\" points=\"557.59,-214.6 556.54,-204.06 550.79,-212.96 557.59,-214.6\"/>\n",
       "<text text-anchor=\"middle\" x=\"579.72\" y=\"-355.89\" font-family=\"Times,serif\" font-size=\"14.00\">AWARDED</text>\n",
       "<text text-anchor=\"middle\" x=\"579.72\" y=\"-340.89\" font-family=\"Times,serif\" font-size=\"14.00\">Received</text>\n",
       "</g>\n",
       "<!-- 0&#45;&gt;4 -->\n",
       "<g id=\"edge4\" class=\"edge\">\n",
       "<title>0&#45;&gt;4</title>\n",
       "<path fill=\"none\" stroke=\"black\" d=\"M455.22,-541.23C508.23,-524.3 583.48,-490.83 618.22,-430.97 656.86,-364.38 644.97,-277.18 625.12,-209.66\"/>\n",
       "<polygon fill=\"black\" stroke=\"black\" points=\"628.39,-208.4 622.14,-199.85 621.7,-210.43 628.39,-208.4\"/>\n",
       "<text text-anchor=\"middle\" x=\"681.72\" y=\"-355.89\" font-family=\"Times,serif\" font-size=\"14.00\">AWARDED</text>\n",
       "<text text-anchor=\"middle\" x=\"681.72\" y=\"-340.89\" font-family=\"Times,serif\" font-size=\"14.00\">Received</text>\n",
       "</g>\n",
       "<!-- 1&#45;&gt;4 -->\n",
       "<g id=\"edge2\" class=\"edge\">\n",
       "<title>1&#45;&gt;4</title>\n",
       "<path fill=\"none\" stroke=\"black\" d=\"M112.39,-317.97C135.7,-303.46 163.92,-286.71 190.22,-273.21 284.95,-224.59 396.89,-177.53 477.02,-145.54\"/>\n",
       "<polygon fill=\"black\" stroke=\"black\" points=\"478.63,-148.66 486.63,-141.71 476.04,-142.16 478.63,-148.66\"/>\n",
       "<text text-anchor=\"middle\" x=\"323.72\" y=\"-244.01\" font-family=\"Times,serif\" font-size=\"14.00\">AWARDED</text>\n",
       "<text text-anchor=\"middle\" x=\"323.72\" y=\"-229.01\" font-family=\"Times,serif\" font-size=\"14.00\">Received</text>\n",
       "</g>\n",
       "<!-- 2 -->\n",
       "<g id=\"node3\" class=\"node\">\n",
       "<title>2</title>\n",
       "<ellipse fill=\"none\" stroke=\"black\" cx=\"814.22\" cy=\"-352.09\" rx=\"78.76\" ry=\"78.76\"/>\n",
       "<text text-anchor=\"middle\" x=\"814.22\" y=\"-355.89\" font-family=\"Times,serif\" font-size=\"14.00\">PERSON</text>\n",
       "<text text-anchor=\"middle\" x=\"814.22\" y=\"-340.89\" font-family=\"Times,serif\" font-size=\"14.00\">Henri Becquerel</text>\n",
       "</g>\n",
       "<!-- 2&#45;&gt;4 -->\n",
       "<g id=\"edge3\" class=\"edge\">\n",
       "<title>2&#45;&gt;4</title>\n",
       "<path fill=\"none\" stroke=\"black\" d=\"M760.64,-293.92C730.91,-262.19 693.39,-222.16 660.53,-187.09\"/>\n",
       "<polygon fill=\"black\" stroke=\"black\" points=\"662.98,-184.59 653.59,-179.69 657.87,-189.38 662.98,-184.59\"/>\n",
       "<text text-anchor=\"middle\" x=\"757.72\" y=\"-244.01\" font-family=\"Times,serif\" font-size=\"14.00\">AWARDED</text>\n",
       "<text text-anchor=\"middle\" x=\"757.72\" y=\"-229.01\" font-family=\"Times,serif\" font-size=\"14.00\">Received</text>\n",
       "</g>\n",
       "</g>\n",
       "</svg>\n"
      ],
      "text/plain": [
       "<graphviz.graphs.Digraph at 0x722ec05abef0>"
      ]
     },
     "execution_count": 75,
     "metadata": {},
     "output_type": "execute_result"
    }
   ],
   "source": [
    "#| echo: true\n",
    "#| code-fold: true\n",
    "from graphviz import Digraph\n",
    "\n",
    "dot = Digraph()\n",
    "i = 2\n",
    "for node in nodes[i]:\n",
    "    if node['type'] != \"OTHER\":\n",
    "        dot.node(str(node['id']), node['type']+\"\\n\"+node['label'], shape='circle', width='1', height='1')\n",
    "for edge in edges[i]:\n",
    "    if edge[\"type\"] != \"OTHER\": #and nodes[i][edge[\"source\"]][\"type\"]!= \"OTHER\" and nodes[i][edge[\"target\"]][\"type\"]!= \"OTHER\":\n",
    "        dot.edge(str(edge['source']), str(edge['target']), label=edge['type']+\"\\n\"+ edge['label'])\n",
    "print(texts[i])\n",
    "dot"
   ]
  },
  {
   "cell_type": "markdown",
   "id": "cbcb54af-68d2-4f84-a360-8a2d4b4b49de",
   "metadata": {},
   "source": [
    "## Chunk 4"
   ]
  },
  {
   "cell_type": "code",
   "execution_count": 76,
   "id": "57a9f50c-73fd-4ffb-b8ac-064e78188996",
   "metadata": {
    "execution": {
     "iopub.execute_input": "2024-12-08T09:28:13.109241Z",
     "iopub.status.busy": "2024-12-08T09:28:13.108609Z",
     "iopub.status.idle": "2024-12-08T09:28:13.191104Z",
     "shell.execute_reply": "2024-12-08T09:28:13.190054Z",
     "shell.execute_reply.started": "2024-12-08T09:28:13.109195Z"
    }
   },
   "outputs": [
    {
     "name": "stdout",
     "output_type": "stream",
     "text": [
      "This one, in chemistry, was for the discovery of polonium and radium. In her acceptance speech in Stockholm, she paid tribute to her husband but also made clear that her work was independent from his, spelling out their separate contributions and describing the discoveries she had made after his death.\n",
      "\n"
     ]
    },
    {
     "data": {
      "image/svg+xml": [
       "<?xml version=\"1.0\" encoding=\"UTF-8\" standalone=\"no\"?>\n",
       "<!DOCTYPE svg PUBLIC \"-//W3C//DTD SVG 1.1//EN\"\n",
       " \"http://www.w3.org/Graphics/SVG/1.1/DTD/svg11.dtd\">\n",
       "<!-- Generated by graphviz version 2.43.0 (0)\n",
       " -->\n",
       "<!-- Title: %3 Pages: 1 -->\n",
       "<svg width=\"614pt\" height=\"693pt\"\n",
       " viewBox=\"0.00 0.00 614.22 693.41\" xmlns=\"http://www.w3.org/2000/svg\" xmlns:xlink=\"http://www.w3.org/1999/xlink\">\n",
       "<g id=\"graph0\" class=\"graph\" transform=\"scale(1 1) rotate(0) translate(4 689.41)\">\n",
       "<title>%3</title>\n",
       "<polygon fill=\"white\" stroke=\"transparent\" points=\"-4,4 -4,-689.41 610.22,-689.41 610.22,4 -4,4\"/>\n",
       "<!-- 0 -->\n",
       "<g id=\"node1\" class=\"node\">\n",
       "<title>0</title>\n",
       "<ellipse fill=\"none\" stroke=\"black\" cx=\"340.22\" cy=\"-624.19\" rx=\"61.44\" ry=\"61.44\"/>\n",
       "<text text-anchor=\"middle\" x=\"340.22\" y=\"-627.99\" font-family=\"Times,serif\" font-size=\"14.00\">DISCOVERY</text>\n",
       "<text text-anchor=\"middle\" x=\"340.22\" y=\"-612.99\" font-family=\"Times,serif\" font-size=\"14.00\">Polonium</text>\n",
       "</g>\n",
       "<!-- 2 -->\n",
       "<g id=\"node3\" class=\"node\">\n",
       "<title>2</title>\n",
       "<ellipse fill=\"none\" stroke=\"black\" cx=\"221.22\" cy=\"-436.93\" rx=\"60.09\" ry=\"60.09\"/>\n",
       "<text text-anchor=\"middle\" x=\"221.22\" y=\"-440.73\" font-family=\"Times,serif\" font-size=\"14.00\">PERSON</text>\n",
       "<text text-anchor=\"middle\" x=\"221.22\" y=\"-425.73\" font-family=\"Times,serif\" font-size=\"14.00\">Marie Curie</text>\n",
       "</g>\n",
       "<!-- 0&#45;&gt;2 -->\n",
       "<g id=\"edge1\" class=\"edge\">\n",
       "<title>0&#45;&gt;2</title>\n",
       "<path fill=\"none\" stroke=\"black\" d=\"M307.39,-572.08C292.31,-548.6 274.35,-520.65 258.74,-496.34\"/>\n",
       "<polygon fill=\"black\" stroke=\"black\" points=\"261.68,-494.44 253.33,-487.91 255.79,-498.22 261.68,-494.44\"/>\n",
       "<text text-anchor=\"middle\" x=\"337.72\" y=\"-533.77\" font-family=\"Times,serif\" font-size=\"14.00\">DISCOVERED</text>\n",
       "<text text-anchor=\"middle\" x=\"337.72\" y=\"-518.77\" font-family=\"Times,serif\" font-size=\"14.00\">discovered</text>\n",
       "</g>\n",
       "<!-- 1 -->\n",
       "<g id=\"node2\" class=\"node\">\n",
       "<title>1</title>\n",
       "<ellipse fill=\"none\" stroke=\"black\" cx=\"61.22\" cy=\"-61.22\" rx=\"61.44\" ry=\"61.44\"/>\n",
       "<text text-anchor=\"middle\" x=\"61.22\" y=\"-65.02\" font-family=\"Times,serif\" font-size=\"14.00\">DISCOVERY</text>\n",
       "<text text-anchor=\"middle\" x=\"61.22\" y=\"-50.02\" font-family=\"Times,serif\" font-size=\"14.00\">Radium</text>\n",
       "</g>\n",
       "<!-- 1&#45;&gt;2 -->\n",
       "<g id=\"edge2\" class=\"edge\">\n",
       "<title>1&#45;&gt;2</title>\n",
       "<path fill=\"none\" stroke=\"black\" d=\"M44.71,-120.35C33.09,-173 24.36,-251.21 54.22,-310.88 75.76,-353.91 119.91,-385.96 157.42,-406.83\"/>\n",
       "<polygon fill=\"black\" stroke=\"black\" points=\"155.83,-409.95 166.29,-411.63 159.16,-403.8 155.83,-409.95\"/>\n",
       "<text text-anchor=\"middle\" x=\"104.72\" y=\"-253.46\" font-family=\"Times,serif\" font-size=\"14.00\">DISCOVERED</text>\n",
       "<text text-anchor=\"middle\" x=\"104.72\" y=\"-238.46\" font-family=\"Times,serif\" font-size=\"14.00\">discovered</text>\n",
       "</g>\n",
       "<!-- 3 -->\n",
       "<g id=\"node4\" class=\"node\">\n",
       "<title>3</title>\n",
       "<ellipse fill=\"none\" stroke=\"black\" cx=\"225.22\" cy=\"-249.66\" rx=\"61.44\" ry=\"61.44\"/>\n",
       "<text text-anchor=\"middle\" x=\"225.22\" y=\"-253.46\" font-family=\"Times,serif\" font-size=\"14.00\">PERSON</text>\n",
       "<text text-anchor=\"middle\" x=\"225.22\" y=\"-238.46\" font-family=\"Times,serif\" font-size=\"14.00\">Pierre Curie</text>\n",
       "</g>\n",
       "<!-- 2&#45;&gt;3 -->\n",
       "<g id=\"edge4\" class=\"edge\">\n",
       "<title>2&#45;&gt;3</title>\n",
       "<path fill=\"none\" stroke=\"black\" d=\"M178.59,-394.52C163.96,-375.28 153.09,-351.66 161.22,-328.88 164.66,-319.24 169.86,-309.93 175.84,-301.3\"/>\n",
       "<polygon fill=\"black\" stroke=\"black\" points=\"178.66,-303.37 181.77,-293.25 173.02,-299.22 178.66,-303.37\"/>\n",
       "<text text-anchor=\"middle\" x=\"283.22\" y=\"-347.68\" font-family=\"Times,serif\" font-size=\"14.00\">INTERPERSONALRELATIONSHIP</text>\n",
       "<text text-anchor=\"middle\" x=\"283.22\" y=\"-332.68\" font-family=\"Times,serif\" font-size=\"14.00\">married to</text>\n",
       "</g>\n",
       "<!-- 4 -->\n",
       "<g id=\"node5\" class=\"node\">\n",
       "<title>4</title>\n",
       "<ellipse fill=\"none\" stroke=\"black\" cx=\"427.22\" cy=\"-249.66\" rx=\"58.73\" ry=\"58.73\"/>\n",
       "<text text-anchor=\"middle\" x=\"427.22\" y=\"-253.46\" font-family=\"Times,serif\" font-size=\"14.00\">AWARD</text>\n",
       "<text text-anchor=\"middle\" x=\"427.22\" y=\"-238.46\" font-family=\"Times,serif\" font-size=\"14.00\">Nobel Prize</text>\n",
       "</g>\n",
       "<!-- 2&#45;&gt;4 -->\n",
       "<g id=\"edge3\" class=\"edge\">\n",
       "<title>2&#45;&gt;4</title>\n",
       "<path fill=\"none\" stroke=\"black\" d=\"M280.5,-426.1C321.56,-416.16 374.24,-396.62 405.22,-358.88 414.61,-347.45 420.34,-333.07 423.76,-318.56\"/>\n",
       "<polygon fill=\"black\" stroke=\"black\" points=\"427.24,-319.02 425.78,-308.53 420.37,-317.65 427.24,-319.02\"/>\n",
       "<text text-anchor=\"middle\" x=\"458.72\" y=\"-347.68\" font-family=\"Times,serif\" font-size=\"14.00\">AWARDED</text>\n",
       "<text text-anchor=\"middle\" x=\"458.72\" y=\"-332.68\" font-family=\"Times,serif\" font-size=\"14.00\">awarded</text>\n",
       "</g>\n",
       "<!-- 4&#45;&gt;0 -->\n",
       "<g id=\"edge5\" class=\"edge\">\n",
       "<title>4&#45;&gt;0</title>\n",
       "<path fill=\"none\" stroke=\"black\" d=\"M472.75,-287.36C484.25,-299.26 495.07,-313.43 501.22,-328.88 506.15,-341.27 504.71,-346.02 501.22,-358.88 479.52,-438.87 425.52,-518.42 386.02,-569.03\"/>\n",
       "<polygon fill=\"black\" stroke=\"black\" points=\"383.26,-566.88 379.81,-576.9 388.76,-571.21 383.26,-566.88\"/>\n",
       "<text text-anchor=\"middle\" x=\"550.22\" y=\"-440.73\" font-family=\"Times,serif\" font-size=\"14.00\">AWARDED</text>\n",
       "<text text-anchor=\"middle\" x=\"550.22\" y=\"-425.73\" font-family=\"Times,serif\" font-size=\"14.00\">for discovery of</text>\n",
       "</g>\n",
       "<!-- 4&#45;&gt;1 -->\n",
       "<g id=\"edge6\" class=\"edge\">\n",
       "<title>4&#45;&gt;1</title>\n",
       "<path fill=\"none\" stroke=\"black\" d=\"M375.17,-222.15C309.25,-188.57 195.73,-130.74 124.77,-94.59\"/>\n",
       "<polygon fill=\"black\" stroke=\"black\" points=\"125.98,-91.28 115.48,-89.86 122.8,-97.52 125.98,-91.28\"/>\n",
       "<text text-anchor=\"middle\" x=\"321.22\" y=\"-159.24\" font-family=\"Times,serif\" font-size=\"14.00\">AWARDED</text>\n",
       "<text text-anchor=\"middle\" x=\"321.22\" y=\"-144.24\" font-family=\"Times,serif\" font-size=\"14.00\">for discovery of</text>\n",
       "</g>\n",
       "</g>\n",
       "</svg>\n"
      ],
      "text/plain": [
       "<graphviz.graphs.Digraph at 0x722efc3f0ef0>"
      ]
     },
     "execution_count": 76,
     "metadata": {},
     "output_type": "execute_result"
    }
   ],
   "source": [
    "#| echo: true\n",
    "#| code-fold: true\n",
    "from graphviz import Digraph\n",
    "\n",
    "dot = Digraph()\n",
    "i = 3\n",
    "for node in nodes[i]:\n",
    "    if node['type'] != \"OTHER\":\n",
    "        dot.node(str(node['id']), node['type']+\"\\n\"+node['label'], shape='circle', width='1', height='1')\n",
    "for edge in edges[i]:\n",
    "    if edge[\"type\"] != \"OTHER\":\n",
    "        dot.edge(str(edge['source']), str(edge['target']), label=edge['type']+\"\\n\"+ edge['label'])\n",
    "print(texts[i])\n",
    "dot"
   ]
  },
  {
   "cell_type": "markdown",
   "id": "28bc53c3-5d08-45a5-9903-dd48a5825eec",
   "metadata": {},
   "source": [
    ":::\n",
    "\n",
    "###"
   ]
  },
  {
   "cell_type": "code",
   "execution_count": 77,
   "id": "afe3c6c0-ba3c-4410-a0a0-75a58626d744",
   "metadata": {
    "execution": {
     "iopub.execute_input": "2024-12-08T09:28:13.192862Z",
     "iopub.status.busy": "2024-12-08T09:28:13.192340Z",
     "iopub.status.idle": "2024-12-08T09:28:13.214712Z",
     "shell.execute_reply": "2024-12-08T09:28:13.213728Z",
     "shell.execute_reply.started": "2024-12-08T09:28:13.192824Z"
    }
   },
   "outputs": [],
   "source": [
    "#| echo: true\n",
    "import pandas as pd\n",
    "\n",
    "df_nodes = pd.DataFrame(nodes[0])\n",
    "df_edges = pd.DataFrame({\n",
    "    'source': [nodes[0][edge['source']]['label'] for edge in edges[0]],\n",
    "    'target': [nodes[0][edge['target']]['label'] for edge in edges[0]],\n",
    "    'type': [edge['type'] for edge in edges[0]],\n",
    "    'label': [edge['label'] for edge in edges[0]]\n",
    "})\n",
    "for i in range(1,len(texts)):\n",
    "    df_nodes_aux = pd.DataFrame({\n",
    "        'id': [node['id']+len(df_nodes) for node in nodes[i]],\n",
    "        'label': [node['label'] for node in nodes[i]],\n",
    "        'type': [node['type'] for node in nodes[i]]\n",
    "    })\n",
    "    df_edges_aux = pd.DataFrame({\n",
    "        'source': [nodes[i][edge['source']]['label'] for edge in edges[i]],\n",
    "        'target': [nodes[i][edge['target']]['label'] for edge in edges[i]],\n",
    "        'type': [edge['type'] for edge in edges[i]],\n",
    "        'label': [edge['label'] for edge in edges[i]]\n",
    "    })\n",
    "    df_nodes = pd.concat([df_nodes, df_nodes_aux])\n",
    "    df_edges = pd.concat([df_edges, df_edges_aux])\n",
    "\n",
    "df_nodes=df_nodes[df_nodes[\"type\"]!=\"OTHER\"].drop_duplicates(subset=\"label\")\n",
    "df_edges=df_edges[df_edges[\"type\"]!=\"OTHER\"]"
   ]
  },
  {
   "cell_type": "markdown",
   "id": "03bfd740-a618-4d68-8854-ae88f4321d9b",
   "metadata": {},
   "source": [
    "### Insert nodes to the graph db"
   ]
  },
  {
   "cell_type": "code",
   "execution_count": 78,
   "id": "4ad0957f-e50f-49ab-9a59-e8ab00ffdd3c",
   "metadata": {
    "execution": {
     "iopub.execute_input": "2024-12-08T09:28:13.215967Z",
     "iopub.status.busy": "2024-12-08T09:28:13.215566Z",
     "iopub.status.idle": "2024-12-08T09:28:13.473264Z",
     "shell.execute_reply": "2024-12-08T09:28:13.471992Z",
     "shell.execute_reply.started": "2024-12-08T09:28:13.215940Z"
    }
   },
   "outputs": [],
   "source": [
    "#| echo: true\n",
    "import kuzu\n",
    "\n",
    "db = kuzu.Database()\n",
    "conn = kuzu.Connection(db)\n",
    "# create schema\n",
    "conn.execute(\"CREATE NODE TABLE Person(name STRING, PRIMARY KEY (name))\");\n",
    "conn.execute(\"CREATE NODE TABLE Award(name STRING, PRIMARY KEY (name))\");\n",
    "conn.execute(\"CREATE NODE TABLE Discovery(name STRING, PRIMARY KEY (name))\");\n",
    "conn.execute(\"CREATE NODE TABLE Location(name STRING, PRIMARY KEY (name))\");\n",
    "# copy from dataframes\n",
    "df_nodes_person = df_nodes[df_nodes[\"type\"] == \"PERSON\"][[\"label\"]]\n",
    "df_nodes_award = df_nodes[df_nodes[\"type\"] == \"AWARD\"][[\"label\"]]\n",
    "df_nodes_discovery = df_nodes[df_nodes[\"type\"] == \"DISCOVERY\"][[\"label\"]]\n",
    "df_nodes_location = df_nodes[df_nodes[\"type\"] == \"LOCATION\"][[\"label\"]]\n",
    "conn.execute(\"COPY Person FROM df_nodes_person\");\n",
    "conn.execute(\"COPY Award FROM df_nodes_award\");\n",
    "conn.execute(\"COPY Discovery FROM df_nodes_discovery\");\n",
    "conn.execute(\"COPY Location FROM df_nodes_location\");"
   ]
  },
  {
   "cell_type": "markdown",
   "id": "4c49998c-51f0-4d58-9c07-91692709466d",
   "metadata": {},
   "source": [
    "### Check for nodes"
   ]
  },
  {
   "cell_type": "code",
   "execution_count": 79,
   "id": "3caa6640-daac-4a6c-8ea0-d6fe6d39104e",
   "metadata": {
    "execution": {
     "iopub.execute_input": "2024-12-08T09:28:13.474875Z",
     "iopub.status.busy": "2024-12-08T09:28:13.474464Z",
     "iopub.status.idle": "2024-12-08T09:28:13.481525Z",
     "shell.execute_reply": "2024-12-08T09:28:13.480540Z",
     "shell.execute_reply.started": "2024-12-08T09:28:13.474836Z"
    }
   },
   "outputs": [
    {
     "name": "stdout",
     "output_type": "stream",
     "text": [
      "['Marie Curie']\n",
      "['Pierre Curie']\n",
      "['Henri Becquerel']\n",
      "['Paul Langevin']\n"
     ]
    }
   ],
   "source": [
    "#| echo: true\n",
    "result = conn.execute(\"MATCH (person:Person) RETURN person.name;\")\n",
    "while result.has_next():\n",
    "    print(result.get_next())"
   ]
  },
  {
   "cell_type": "markdown",
   "id": "cfc13063-20e0-4217-8ea0-61b3cb67e0f2",
   "metadata": {},
   "source": [
    "### Insert edges to the graph db"
   ]
  },
  {
   "cell_type": "code",
   "execution_count": 80,
   "id": "3f26535a-7ce4-4f72-86df-e9d633818a56",
   "metadata": {
    "execution": {
     "iopub.execute_input": "2024-12-08T09:28:13.483557Z",
     "iopub.status.busy": "2024-12-08T09:28:13.482614Z",
     "iopub.status.idle": "2024-12-08T09:28:13.530775Z",
     "shell.execute_reply": "2024-12-08T09:28:13.529862Z",
     "shell.execute_reply.started": "2024-12-08T09:28:13.483518Z"
    },
    "scrolled": true
   },
   "outputs": [],
   "source": [
    "#| echo: true\n",
    "conn.execute(\"CREATE REL TABLE Awarded(FROM Person TO Award)\"); # create schema\n",
    "conn.execute(\"CREATE REL TABLE Discovered(FROM Person TO Discovery)\");\n",
    "conn.execute(\"CREATE REL TABLE Interpersonal_Relationship(FROM Person TO Person)\");\n",
    "conn.execute(\"CREATE REL TABLE Visited(FROM Person TO Location)\");\n",
    "def my_func(edge_type: str, source: str, target: str):\n",
    "    mask1 = [a in list(df_nodes[df_nodes[\"type\"] == source]['label']) for a in df_edges[df_edges[\"type\"] == edge_type][\"source\"]]\n",
    "    mask2 = [a in list(df_nodes[df_nodes[\"type\"] == target]['label']) for a in df_edges[df_edges[\"type\"] == edge_type][\"target\"]]\n",
    "    mask = [a & b for a,b in zip(mask1,mask2)]\n",
    "    return df_edges[df_edges[\"type\"] == edge_type][mask]\n",
    "df_edges_awarded = my_func(\"AWARDED\", \"PERSON\", \"AWARD\")[[\"source\", \"target\"]]\n",
    "df_edges_discovered = my_func(\"DISCOVERED\", \"PERSON\", \"DISCOVERY\")[[\"source\", \"target\"]]\n",
    "df_edges_visited = my_func(\"VISITED\", \"PERSON\", \"LOCATION\")[[\"source\", \"target\"]]\n",
    "df_edges_interpersonal_relationship = my_func(\"INTERPERSONALRELATIONSHIP\", \"PERSON\", \"PERSON\")[[\"source\", \"target\"]]\n",
    "conn.execute(\"COPY Discovered FROM df_edges_discovered\"); # copy from dataframes\n",
    "conn.execute(\"COPY Awarded FROM df_edges_awarded\");\n",
    "conn.execute(\"COPY Visited FROM df_edges_visited\");\n",
    "conn.execute(\"COPY Interpersonal_Relationship FROM df_edges_interpersonal_relationship\");"
   ]
  },
  {
   "cell_type": "markdown",
   "id": "8dfe02c0-6f09-42b3-ab41-0ba73a03ca81",
   "metadata": {},
   "source": [
    "### Check for edges"
   ]
  },
  {
   "cell_type": "code",
   "execution_count": 81,
   "id": "0b73ebae-6b90-41ba-953d-b7005a5384fb",
   "metadata": {
    "execution": {
     "iopub.execute_input": "2024-12-08T09:28:13.531546Z",
     "iopub.status.busy": "2024-12-08T09:28:13.531354Z",
     "iopub.status.idle": "2024-12-08T09:28:13.539757Z",
     "shell.execute_reply": "2024-12-08T09:28:13.538821Z",
     "shell.execute_reply.started": "2024-12-08T09:28:13.531525Z"
    }
   },
   "outputs": [
    {
     "name": "stdout",
     "output_type": "stream",
     "text": [
      "['Marie Curie', 'Polonium']\n",
      "['Marie Curie', 'Radium']\n",
      "['Pierre Curie', 'Piezoelectricity']\n"
     ]
    }
   ],
   "source": [
    "#| echo: true\n",
    "result = conn.execute(\"MATCH (a)-[:DISCOVERED]->(c) RETURN a.name, c.name;\")\n",
    "while result.has_next():\n",
    "    print(result.get_next())"
   ]
  },
  {
   "cell_type": "markdown",
   "id": "b72c6704-b7e0-4c18-8f24-2c52ff78c9c3",
   "metadata": {},
   "source": [
    "# KG-based Agents\n",
    "\n",
    "### {.nostretch}\n",
    "\n",
    "![](./assets/KG-Agent.jpg \"Knowledge Graph Based Agent\"){fig-align=\"center\" width=\"80%\"}\n",
    "\n",
    "## Tools\n",
    "\n",
    "### Tool: Query Checker"
   ]
  },
  {
   "cell_type": "code",
   "execution_count": 82,
   "id": "d2435b60-205e-478c-93f7-8c6112147dc7",
   "metadata": {
    "execution": {
     "iopub.execute_input": "2024-12-08T09:28:13.540805Z",
     "iopub.status.busy": "2024-12-08T09:28:13.540505Z",
     "iopub.status.idle": "2024-12-08T09:28:13.546789Z",
     "shell.execute_reply": "2024-12-08T09:28:13.545705Z",
     "shell.execute_reply.started": "2024-12-08T09:28:13.540773Z"
    }
   },
   "outputs": [],
   "source": [
    "#| echo: true\n",
    "def build_kuzu_query_checker_prompt(cypher_query):\n",
    "    return (\n",
    "    f\"\\n{cypher_query}\\n\"\n",
    "    \"Double check the Kùzu dialect of Cypher for the query above \"\n",
    "    \"for common mistakes, including:\\n\"\n",
    "    \"- Using the correct number of arguments for functions\\n\"\n",
    "    \"- Casting to the correct data type\\n\"\n",
    "    \"- Do not omit the relationship pattern.\\n\" \n",
    "    \"- Always use `()-[]->()` instead of `()->()`.\\n\\n\"\n",
    "    \"If there are any of the above mistakes, rewrite the query. \"\n",
    "    \"If there are no mistakes, just reproduce the original query.\\n\\n\"\n",
    "    \"Output the final Kùzu Cypher query only.\\n\\n\"\n",
    "    \"Kùzu Cypher Query: \"\n",
    "    )"
   ]
  },
  {
   "cell_type": "markdown",
   "id": "1ed75bcd-e0f5-4f07-b7aa-48acf3fd4568",
   "metadata": {},
   "source": [
    "### Tool: Query Checker"
   ]
  },
  {
   "cell_type": "code",
   "execution_count": 83,
   "id": "fa2b31ae-eaea-48c3-a0ca-256b3d124ec1",
   "metadata": {
    "execution": {
     "iopub.execute_input": "2024-12-08T09:28:13.547661Z",
     "iopub.status.busy": "2024-12-08T09:28:13.547438Z",
     "iopub.status.idle": "2024-12-08T09:28:14.126651Z",
     "shell.execute_reply": "2024-12-08T09:28:14.126295Z",
     "shell.execute_reply.started": "2024-12-08T09:28:13.547641Z"
    }
   },
   "outputs": [
    {
     "data": {
      "text/plain": [
       "\"MATCH (p:Person)-[:Discovered]->(d:Discovery {name: 'Polonium'})\\nRETURN *\""
      ]
     },
     "execution_count": 83,
     "metadata": {},
     "output_type": "execute_result"
    }
   ],
   "source": [
    "#| echo: true\n",
    "def query_checker_tool(cypher_query):\n",
    "    user_prompt = build_kuzu_query_checker_prompt(cypher_query)\n",
    "    response = llm.create_chat_completion(\n",
    "        messages=[{\"role\": \"user\", \"content\": user_prompt}]\n",
    "    )\n",
    "    return response[\"choices\"][0][\"message\"][\"content\"]\n",
    "\n",
    "\n",
    "query_checker_tool(\n",
    "\"MATCH (p:Person)-[:Discovered]-<(:Discovery {name: 'Polonium'})\\nRETURN *\"\n",
    ")"
   ]
  },
  {
   "cell_type": "code",
   "execution_count": 84,
   "id": "402eab42-643a-4ab2-af2b-dd35559fad77",
   "metadata": {
    "execution": {
     "iopub.execute_input": "2024-12-08T09:28:14.127242Z",
     "iopub.status.busy": "2024-12-08T09:28:14.127075Z",
     "iopub.status.idle": "2024-12-08T09:28:14.888439Z",
     "shell.execute_reply": "2024-12-08T09:28:14.888051Z",
     "shell.execute_reply.started": "2024-12-08T09:28:14.127229Z"
    }
   },
   "outputs": [
    {
     "data": {
      "text/plain": [
       "\"MATCH (s:SONG)-[r:IN_ALBUM]->(a:ALBUM)\\nWHERE a.name = 'The Black Album'\\nRETURN COUNT(s)\""
      ]
     },
     "execution_count": 84,
     "metadata": {},
     "output_type": "execute_result"
    }
   ],
   "source": [
    "#| output: false\n",
    "query_checker_tool(\"\"\"MATCH (s:SONG)-[:IN_ALBUM]-<(:ALBUM {name: 'The Black Album'})\\nRETURN COUNT(s)\"\"\")"
   ]
  },
  {
   "cell_type": "markdown",
   "id": "2541953d-e581-4103-87c4-20519c704286",
   "metadata": {},
   "source": [
    "### Tool: Query Generator + Executor"
   ]
  },
  {
   "cell_type": "code",
   "execution_count": 85,
   "id": "abbf8a5f-9c19-4f79-bc73-cca923ce5278",
   "metadata": {
    "execution": {
     "iopub.execute_input": "2024-12-08T09:28:14.888976Z",
     "iopub.status.busy": "2024-12-08T09:28:14.888845Z",
     "iopub.status.idle": "2024-12-08T09:28:14.902029Z",
     "shell.execute_reply": "2024-12-08T09:28:14.901365Z",
     "shell.execute_reply.started": "2024-12-08T09:28:14.888964Z"
    }
   },
   "outputs": [
    {
     "name": "stdout",
     "output_type": "stream",
     "text": [
      "Node properties: [{'properties': [('name', 'STRING')], 'label': 'Person'}, {'properties': [('name', 'STRING')], 'label': 'Discovery'}, {'properties': [('name', 'STRING')], 'label': 'Award'}, {'properties': [('name', 'STRING')], 'label': 'Location'}]\n",
      "Relationships properties: [{'properties': [], 'label': 'Awarded'}, {'properties': [], 'label': 'Discovered'}, {'properties': [], 'label': 'Interpersonal_Relationship'}, {'properties': [], 'label': 'Visited'}]\n",
      "Relationships: ['(:Person)-[:Awarded]->(:Award)', '(:Person)-[:Discovered]->(:Discovery)', '(:Person)-[:Interpersonal_Relationship]->(:Person)', '(:Person)-[:Visited]->(:Location)']\n",
      "\n"
     ]
    }
   ],
   "source": [
    "#| echo: true\n",
    "from langchain_community.graphs import KuzuGraph\n",
    "\n",
    "graph_db_schema = KuzuGraph(db).get_schema\n",
    "print(graph_db_schema)"
   ]
  },
  {
   "cell_type": "markdown",
   "id": "12dbfbb1-6ecd-4653-ad3a-14899fda1b0c",
   "metadata": {},
   "source": [
    "### Tool: Query Generator + Executor"
   ]
  },
  {
   "cell_type": "code",
   "execution_count": 86,
   "id": "185e930b-2ff3-4d59-90d2-43da580a266f",
   "metadata": {
    "execution": {
     "iopub.execute_input": "2024-12-08T09:28:14.902712Z",
     "iopub.status.busy": "2024-12-08T09:28:14.902566Z",
     "iopub.status.idle": "2024-12-08T09:28:14.912054Z",
     "shell.execute_reply": "2024-12-08T09:28:14.910908Z",
     "shell.execute_reply.started": "2024-12-08T09:28:14.902698Z"
    }
   },
   "outputs": [],
   "source": [
    "#| echo: true\n",
    "def build_kuzu_prompt(query, graph_db_schema=graph_db_schema):\n",
    "    return \"\"\"Task: Generate Kùzu Cypher statement to query a graph database.\n",
    "\n",
    "Instructions:\n",
    "Generate the Kùzu dialect of Cypher with the following rules in mind:\n",
    "1. Do not omit the relationship pattern. Always use `()-[]->()` instead of `()->()`.\n",
    "2. Do not include triple backticks ``` in your response. Return only Cypher.\n",
    "3. Do not return any notes or comments in your response.\n",
    "\n",
    "Use only the provided relationship types and properties in the schema.\n",
    "Do not use any other relationship types or properties that are not provided.\n",
    "Schema:\\n\"\"\" + graph_db_schema + \"\"\"\n",
    "\\nExample:\n",
    "The question is:\\n\"Which songs does the load album have?\"\n",
    "MATCH (a:ALBUM {name: 'Load'})<-[:IN_ALBUM]-(s:SONG) RETURN s.name\n",
    "Note: Do not include any explanations or apologies in your responses.\n",
    "Do not respond to any questions that might ask anything else than for you to construct a Cypher statement.\n",
    "Do not include any text except the generated Cypher statement.\n",
    "\n",
    "The question is:\\n\"\"\" + query"
   ]
  },
  {
   "cell_type": "markdown",
   "id": "d2cc6d76-fa48-441d-b8b2-7224f250f4b8",
   "metadata": {},
   "source": [
    "### Tool: Query Generator + Executor"
   ]
  },
  {
   "cell_type": "code",
   "execution_count": 87,
   "id": "37dfc608-8bc4-4c95-a381-bd116f620b2d",
   "metadata": {
    "execution": {
     "iopub.execute_input": "2024-12-08T09:28:14.913283Z",
     "iopub.status.busy": "2024-12-08T09:28:14.912849Z",
     "iopub.status.idle": "2024-12-08T09:28:16.456333Z",
     "shell.execute_reply": "2024-12-08T09:28:16.455562Z",
     "shell.execute_reply.started": "2024-12-08T09:28:14.913263Z"
    }
   },
   "outputs": [
    {
     "name": "stdout",
     "output_type": "stream",
     "text": [
      "\u001b[33m Cypher query: MATCH (p:Person {name: 'Marie Curie'})-[:Discovered]->(d:Discovery) RETURN d.name \u001b[0m\n"
     ]
    },
    {
     "data": {
      "text/plain": [
       "\"[d.name: ['Radium', 'Polonium']]\""
      ]
     },
     "execution_count": 87,
     "metadata": {},
     "output_type": "execute_result"
    }
   ],
   "source": [
    "#| echo: true\n",
    "def query_generator_tool(query):\n",
    "    user_prompt = build_kuzu_prompt(query)\n",
    "    output = llm.create_chat_completion(\n",
    "        messages = [{\"role\": \"user\", \"content\": user_prompt}]\n",
    "    )\n",
    "    cypher_query = output['choices'][0]['message']['content']\n",
    "    cypher_query = query_checker_tool(cypher_query)\n",
    "    print(f\"\\x1b[33m Cypher query: {cypher_query} \\x1b[0m\")\n",
    "    response = conn.execute(f\"{cypher_query}\");\n",
    "    df = response.get_as_pl()\n",
    "    col_name = df.columns[0]\n",
    "    _values = df[col_name].to_list()\n",
    "    return f\"[{col_name}: {_values}]\"\n",
    "    \n",
    "query_generator_tool(\"What discovery is Marie Curie famous for?\")"
   ]
  },
  {
   "cell_type": "code",
   "execution_count": 88,
   "id": "cdef5708-361f-40f1-958d-9950ceb2c18c",
   "metadata": {
    "execution": {
     "iopub.execute_input": "2024-12-08T09:28:16.457928Z",
     "iopub.status.busy": "2024-12-08T09:28:16.457398Z",
     "iopub.status.idle": "2024-12-08T09:28:17.987225Z",
     "shell.execute_reply": "2024-12-08T09:28:17.986850Z",
     "shell.execute_reply.started": "2024-12-08T09:28:16.457889Z"
    }
   },
   "outputs": [
    {
     "name": "stdout",
     "output_type": "stream",
     "text": [
      "\u001b[33m Cypher query: MATCH (p:Person {name: 'Marie Curie'})-[:Discovered]->(d:Discovery) RETURN d.name \u001b[0m\n"
     ]
    },
    {
     "data": {
      "text/plain": [
       "\"[d.name: ['Radium', 'Polonium']]\""
      ]
     },
     "execution_count": 88,
     "metadata": {},
     "output_type": "execute_result"
    }
   ],
   "source": [
    "#| output: false\n",
    "query_generator_tool(\"What discovery is Marie Curie famous for?\")"
   ]
  },
  {
   "cell_type": "markdown",
   "id": "8434e874-abce-451c-a040-2ba36cfaa331",
   "metadata": {},
   "source": [
    "### Tool: Conversational Response"
   ]
  },
  {
   "cell_type": "code",
   "execution_count": 89,
   "id": "d642ad6a-872d-487c-9d33-07833e5fa25d",
   "metadata": {
    "execution": {
     "iopub.execute_input": "2024-12-08T09:28:17.987819Z",
     "iopub.status.busy": "2024-12-08T09:28:17.987683Z",
     "iopub.status.idle": "2024-12-08T09:28:17.990170Z",
     "shell.execute_reply": "2024-12-08T09:28:17.989811Z",
     "shell.execute_reply.started": "2024-12-08T09:28:17.987807Z"
    }
   },
   "outputs": [],
   "source": [
    "#| echo: true\n",
    "def conversational_response(text):\n",
    "    return text"
   ]
  },
  {
   "cell_type": "code",
   "execution_count": 90,
   "id": "7b75e869-0e3b-4be9-bd6c-b3cb8eccb8fe",
   "metadata": {
    "execution": {
     "iopub.execute_input": "2024-12-08T09:28:17.990688Z",
     "iopub.status.busy": "2024-12-08T09:28:17.990564Z",
     "iopub.status.idle": "2024-12-08T09:28:18.011286Z",
     "shell.execute_reply": "2024-12-08T09:28:18.010437Z",
     "shell.execute_reply.started": "2024-12-08T09:28:17.990677Z"
    }
   },
   "outputs": [
    {
     "data": {
      "text/plain": [
       "\"Respond to the user's greeting in a friendly manner.\""
      ]
     },
     "execution_count": 90,
     "metadata": {},
     "output_type": "execute_result"
    }
   ],
   "source": [
    "#| output: false\n",
    "conversational_response(\"\"\"Respond to the user's greeting in a friendly manner.\"\"\")"
   ]
  },
  {
   "cell_type": "markdown",
   "id": "dfe97110-8bd6-4013-80fd-c1b7d6ba47bb",
   "metadata": {},
   "source": [
    "## ReAct agent"
   ]
  },
  {
   "cell_type": "code",
   "execution_count": 91,
   "id": "27717ff4-7a0e-4e1f-a520-034bc61336fb",
   "metadata": {
    "execution": {
     "iopub.execute_input": "2024-12-08T09:28:18.012110Z",
     "iopub.status.busy": "2024-12-08T09:28:18.011899Z",
     "iopub.status.idle": "2024-12-08T09:28:18.023978Z",
     "shell.execute_reply": "2024-12-08T09:28:18.023222Z",
     "shell.execute_reply.started": "2024-12-08T09:28:18.012091Z"
    }
   },
   "outputs": [],
   "source": [
    "#| echo: true\n",
    "from pydantic import BaseModel, Field\n",
    "\n",
    "\n",
    "class Reason_and_Act(BaseModel):\n",
    "    Scratchpad: str = Field(\n",
    "        ...,\n",
    "        description=\"Information from the Observation useful to answer the question\",\n",
    "    )\n",
    "    Thought: str = Field(\n",
    "        ...,\n",
    "        description=\"It describes your thoughts about the question you have been asked\",\n",
    "    )\n",
    "    Action: Literal[\"conversational_response\", \"query_generator\", \"query_checker\"] = (\n",
    "        Field(..., description=\"The action to take\")\n",
    "    )\n",
    "    Action_Input: str = Field(..., description=\"The arguments of the Action.\")"
   ]
  },
  {
   "cell_type": "markdown",
   "id": "f64c6aaa-5061-4c97-9e8a-47c055e02ff7",
   "metadata": {},
   "source": [
    "### ReAct Agent"
   ]
  },
  {
   "cell_type": "code",
   "execution_count": 92,
   "id": "b1a533cf-d7da-4d06-9b79-0fd346c08715",
   "metadata": {
    "execution": {
     "iopub.execute_input": "2024-12-08T09:28:18.025203Z",
     "iopub.status.busy": "2024-12-08T09:28:18.024834Z",
     "iopub.status.idle": "2024-12-08T09:28:18.043021Z",
     "shell.execute_reply": "2024-12-08T09:28:18.041877Z",
     "shell.execute_reply.started": "2024-12-08T09:28:18.025177Z"
    }
   },
   "outputs": [],
   "source": [
    "#| echo: true\n",
    "class Final_Answer(BaseModel):\n",
    "    Scratchpad: str = Field(\n",
    "        ...,\n",
    "        description=\"Information from the Observation useful to answer the question\",\n",
    "    )\n",
    "    Final_Answer: str = Field(\n",
    "        ..., description=\"Answer to the question grounded on the Observation\"\n",
    "    )"
   ]
  },
  {
   "cell_type": "markdown",
   "id": "bc7168a2-977b-461c-a987-f79997ccde90",
   "metadata": {},
   "source": [
    "### ReAct Agent"
   ]
  },
  {
   "cell_type": "code",
   "execution_count": 93,
   "id": "dd910b2a-7e44-4d80-901a-703d53c1c139",
   "metadata": {
    "execution": {
     "iopub.execute_input": "2024-12-08T09:28:18.044808Z",
     "iopub.status.busy": "2024-12-08T09:28:18.044293Z",
     "iopub.status.idle": "2024-12-08T09:28:18.057048Z",
     "shell.execute_reply": "2024-12-08T09:28:18.055886Z",
     "shell.execute_reply.started": "2024-12-08T09:28:18.044768Z"
    }
   },
   "outputs": [],
   "source": [
    "#| echo: true\n",
    "class Decision(BaseModel):\n",
    "    Decision: Reason_and_Act | Final_Answer"
   ]
  },
  {
   "cell_type": "markdown",
   "id": "e0f11c99-c381-4cec-b264-482213869720",
   "metadata": {},
   "source": [
    "### ReAct Agent"
   ]
  },
  {
   "cell_type": "code",
   "execution_count": 94,
   "id": "689d319e-f4bc-4ece-b208-5500400137c6",
   "metadata": {
    "execution": {
     "iopub.execute_input": "2024-12-08T09:28:18.058722Z",
     "iopub.status.busy": "2024-12-08T09:28:18.058296Z",
     "iopub.status.idle": "2024-12-08T09:28:18.073271Z",
     "shell.execute_reply": "2024-12-08T09:28:18.072112Z",
     "shell.execute_reply.started": "2024-12-08T09:28:18.058683Z"
    }
   },
   "outputs": [
    {
     "name": "stderr",
     "output_type": "stream",
     "text": [
      "/tmp/ipykernel_74963/3535435738.py:6: PydanticDeprecatedSince20: The `schema_json` method is deprecated; use `model_json_schema` and json.dumps instead. Deprecated in Pydantic V2.0 to be removed in V3.0. See Pydantic V2 Migration Guide at https://errors.pydantic.dev/2.10/migration/\n",
      "  schema_str = convert_json_schema_to_str(json_schema=Decision.schema_json())\n"
     ]
    }
   ],
   "source": [
    "#| echo: true\n",
    "from outlines import generate, models\n",
    "from outlines.fsm.json_schema import build_regex_from_schema, convert_json_schema_to_str\n",
    "\n",
    "model = models.LlamaCpp(llm)\n",
    "schema_str = convert_json_schema_to_str(json_schema=Decision.schema_json())\n",
    "regex_str = build_regex_from_schema(schema_str)"
   ]
  },
  {
   "cell_type": "markdown",
   "id": "82c7b54b-b4ca-4605-8db2-cc1a3819cd13",
   "metadata": {},
   "source": [
    "### ReAct Agent"
   ]
  },
  {
   "cell_type": "code",
   "execution_count": 95,
   "id": "2e4efc83-ce6c-4cec-b5e3-c9ceb9acd169",
   "metadata": {
    "execution": {
     "iopub.execute_input": "2024-12-08T09:28:18.074971Z",
     "iopub.status.busy": "2024-12-08T09:28:18.074559Z",
     "iopub.status.idle": "2024-12-08T09:28:18.086266Z",
     "shell.execute_reply": "2024-12-08T09:28:18.085292Z",
     "shell.execute_reply.started": "2024-12-08T09:28:18.074932Z"
    }
   },
   "outputs": [],
   "source": [
    "#| echo: true\n",
    "#| code-line-numbers: 1-27|6-7\n",
    "def generate_hermes_prompt(question, schema=\"\"):\n",
    "    return (\n",
    "        \"<|im_start|>system\\n\"\n",
    "        \"You are a world class AI model who answers questions in JSON with correct Pydantic schema.\"\n",
    "        f\"\\nHere's the JSON schema you must adhere to:\\n<schema>\\n{schema}\\n</schema>\\n\"\n",
    "        \"You run in a loop of Scratchpad, Thought, Action, Action Input, PAUSE, Observation.\"\n",
    "        \"\\nAt the end of the loop you output a Final Answer. \"\n",
    "        \"\\n- Use Scratchpad to store the information from the observation useful to answer the question\"\n",
    "        \"\\n- Use Thought to describe your thoughts about the question you have been asked \"\n",
    "        \"and reflect carefully about the Observation if it exists. \"\n",
    "        \"\\n- Use Action to run one of the actions available to you. \"\n",
    "        \"\\n- Use Action Input to input the arguments of the selected action - then return PAUSE. \"\n",
    "        \"\\n- Observation will be the result of running those actions. \"\n",
    "        \"\\nYour available actions are:\\n\"\n",
    "        \"query_generator:\\n\" \n",
    "        \"e.g. query_generator: Who is Marie Curie related to?\\n\"\n",
    "        \"Returns a detailed and correct Kùzu Cypher query\\n\"\n",
    "        \"query_checker:\\n\"\n",
    "        \"e.g. query_checker: MATCH (a:ALBUM {name: 'The Black Album'})<-[:IN_ALBUM]-(s:SONG) RETURN COUNT(s)\\n\"\n",
    "        \"Returns a detailed and correct Kùzu Cypher query after double checking the query for common mistakes\\n\"\n",
    "        \"conversational_reponse:\"\n",
    "        \"e.g. conversational_response: Hi!\\n\"\n",
    "        \"Returns a conversational response to the user\\n\"\n",
    "        \"DO NOT TRY TO GUESS THE ANSWER. Begin! <|im_end|>\"\n",
    "        \"\\n<|im_start|>user\\n\" + question + \"<|im_end|>\"\n",
    "        \"\\n<|im_start|>assistant\\n\"\n",
    "    )"
   ]
  },
  {
   "cell_type": "markdown",
   "id": "8b1ea9fd-ee25-4d63-81be-55bfbdadeaa9",
   "metadata": {},
   "source": [
    "### ReAct Agent"
   ]
  },
  {
   "cell_type": "code",
   "execution_count": 96,
   "id": "db23580f-efd0-417e-8e1a-e12247342d80",
   "metadata": {
    "execution": {
     "iopub.execute_input": "2024-12-08T09:28:18.087787Z",
     "iopub.status.busy": "2024-12-08T09:28:18.087339Z",
     "iopub.status.idle": "2024-12-08T09:28:18.104129Z",
     "shell.execute_reply": "2024-12-08T09:28:18.102992Z",
     "shell.execute_reply.started": "2024-12-08T09:28:18.087753Z"
    }
   },
   "outputs": [],
   "source": [
    "#| echo: true\n",
    "class ChatBot:\n",
    "    def __init__(self, prompt=\"\"):\n",
    "        self.prompt = prompt\n",
    "\n",
    "    def __call__(self, user_prompt):\n",
    "        self.prompt += user_prompt\n",
    "        result = self.execute()\n",
    "        return result\n",
    "        \n",
    "    def execute(self):\n",
    "        generator = generate.regex(model, regex_str)\n",
    "        result = generator(self.prompt, max_tokens=1024, temperature=0, seed=42)\n",
    "        return result"
   ]
  },
  {
   "cell_type": "markdown",
   "id": "26ffbc43-8c41-42f9-9aac-1297daa62045",
   "metadata": {},
   "source": [
    "### ReAct Agent"
   ]
  },
  {
   "cell_type": "code",
   "execution_count": 97,
   "id": "fa683139-0d7a-4be8-a783-6b0362b4ad00",
   "metadata": {
    "execution": {
     "iopub.execute_input": "2024-12-08T09:28:18.106435Z",
     "iopub.status.busy": "2024-12-08T09:28:18.105562Z",
     "iopub.status.idle": "2024-12-08T09:28:18.125287Z",
     "shell.execute_reply": "2024-12-08T09:28:18.124120Z",
     "shell.execute_reply.started": "2024-12-08T09:28:18.106391Z"
    }
   },
   "outputs": [],
   "source": [
    "#| echo: true\n",
    "import json\n",
    "\n",
    "def query(question, max_turns=5):\n",
    "    i = 0\n",
    "    next_prompt = (\n",
    "        \"\\n<|im_start|>user\\n\" + question + \"<|im_end|>\"\n",
    "        \"\\n<|im_start|>assistant\\n\"\n",
    "    )\n",
    "    previous_actions = []\n",
    "    while i < max_turns:\n",
    "        i += 1\n",
    "        prompt = generate_hermes_prompt(question=question, schema=Decision.schema_json())\n",
    "        bot = ChatBot(prompt=prompt)\n",
    "        result = bot(next_prompt)\n",
    "        json_result = json.loads(result)['Decision']\n",
    "        if \"Final_Answer\" not in list(json_result.keys()):\n",
    "            scratchpad = json_result['Scratchpad'] if i == 0 else \"\"\n",
    "            thought = json_result['Thought']\n",
    "            action = json_result['Action']\n",
    "            action_input = json_result['Action_Input']\n",
    "            print(f\"\\x1b[34m Scratchpad: {scratchpad} \\x1b[0m\")\n",
    "            print(f\"\\x1b[34m Thought: {thought} \\x1b[0m\")\n",
    "            print(f\"\\x1b[36m  -- running {action}: {str(action_input)}\\x1b[0m\")\n",
    "            if action + \": \" + str(action_input) in previous_actions:\n",
    "                observation = \"You already run that action. **TRY A DIFFERENT ACTION INPUT.**\"\n",
    "            else:\n",
    "                if action==\"query_checker\":\n",
    "                    try:\n",
    "                        observation = query_checker_tool(str(action_input))\n",
    "                    except Exception as e:\n",
    "                        observation = f\"{e}\"\n",
    "                elif action==\"query_generator\":\n",
    "                    try:\n",
    "                        observation = query_generator_tool(str(action_input))\n",
    "                    except Exception as e:\n",
    "                        observation = f\"{e}\"\n",
    "                elif action==\"conversational_response\":\n",
    "                    try:\n",
    "                        observation = conversational_response(str(action_input))\n",
    "                        observation += \"\\nAnswer to the user.\"\n",
    "                    except Exception as e:\n",
    "                        observation = f\"{e}\"\n",
    "            print()\n",
    "            print(f\"\\x1b[33m Observation: {observation} \\x1b[0m\")\n",
    "            print()\n",
    "            previous_actions.append(action + \": \" + str(action_input))\n",
    "            next_prompt += (\n",
    "                \"\\nScratchpad: \" + scratchpad +\n",
    "                \"\\nThought: \" + thought +\n",
    "                \"\\nAction: \" + action  +\n",
    "                \"\\nAction Input: \" + action_input +\n",
    "                \"\\nObservation: \" + str(observation)\n",
    "            )\n",
    "        else:\n",
    "            scratchpad = json_result[\"Scratchpad\"]\n",
    "            final_answer = json_result[\"Final_Answer\"]\n",
    "            print(f\"\\x1b[34m Scratchpad: {scratchpad} \\x1b[0m\")\n",
    "            print(f\"\\x1b[34m Final Answer: {final_answer} \\x1b[0m\")\n",
    "            return final_answer\n",
    "    print(f\"\\nFinal Answer: I am sorry, but I am unable to answer your question. Please provide more information or a different question.\")\n",
    "    return \"No answer found\""
   ]
  },
  {
   "cell_type": "markdown",
   "id": "03d3de51-4036-4e95-bf03-9d058c41f82a",
   "metadata": {},
   "source": [
    "### ReAct Agent"
   ]
  },
  {
   "cell_type": "code",
   "execution_count": 98,
   "id": "3c53a402-9ab6-40de-aaef-7620c52fbc65",
   "metadata": {
    "execution": {
     "iopub.execute_input": "2024-12-08T09:28:18.126977Z",
     "iopub.status.busy": "2024-12-08T09:28:18.126560Z",
     "iopub.status.idle": "2024-12-08T09:28:24.506042Z",
     "shell.execute_reply": "2024-12-08T09:28:24.505585Z",
     "shell.execute_reply.started": "2024-12-08T09:28:18.126937Z"
    }
   },
   "outputs": [
    {
     "name": "stderr",
     "output_type": "stream",
     "text": [
      "/tmp/ipykernel_74963/318188114.py:13: PydanticDeprecatedSince20: The `schema_json` method is deprecated; use `model_json_schema` and json.dumps instead. Deprecated in Pydantic V2.0 to be removed in V3.0. See Pydantic V2 Migration Guide at https://errors.pydantic.dev/2.10/migration/\n",
      "  prompt = generate_hermes_prompt(question=question, schema=Decision.schema_json())\n"
     ]
    },
    {
     "name": "stdout",
     "output_type": "stream",
     "text": [
      "\u001b[34m Scratchpad:  \u001b[0m\n",
      "\u001b[34m Thought: To find out which discovery Pierre Curie is known for, I should query the database for information about his scientific contributions. \u001b[0m\n",
      "\u001b[36m  -- running query_generator: MATCH (p:PERSON {name: 'Pierre Curie'})-[:DISCOVERED]->(d:DISCOVERY) RETURN d.name\u001b[0m\n",
      "\u001b[33m Cypher query: MATCH (p:PERSON {name: 'Pierre Curie'})-[:DISCOVERED]->(d:DISCOVERY) RETURN d.name \u001b[0m\n",
      "\n",
      "\u001b[33m Observation: [d.name: ['Piezoelectricity']] \u001b[0m\n",
      "\n",
      "\u001b[34m Scratchpad: Pierre Curie is known for discovering piezoelectricity. \u001b[0m\n",
      "\u001b[34m Final Answer: Pierre Curie discovered piezoelectricity. \u001b[0m\n"
     ]
    },
    {
     "data": {
      "text/plain": [
       "'Pierre Curie discovered piezoelectricity.'"
      ]
     },
     "execution_count": 98,
     "metadata": {},
     "output_type": "execute_result"
    }
   ],
   "source": [
    "#| echo: true\n",
    "query(\"Query the database to see which discovery did Pierre Curie do?\")"
   ]
  },
  {
   "cell_type": "markdown",
   "id": "a011397e-33e7-4981-9e9a-c7bb06b1a7d7",
   "metadata": {},
   "source": [
    "### ReAct Agent"
   ]
  },
  {
   "cell_type": "code",
   "execution_count": 99,
   "id": "d97abeac-ce4f-4959-be90-9ad2b858d105",
   "metadata": {
    "execution": {
     "iopub.execute_input": "2024-12-08T09:28:24.506719Z",
     "iopub.status.busy": "2024-12-08T09:28:24.506551Z",
     "iopub.status.idle": "2024-12-08T09:28:30.892579Z",
     "shell.execute_reply": "2024-12-08T09:28:30.891888Z",
     "shell.execute_reply.started": "2024-12-08T09:28:24.506704Z"
    }
   },
   "outputs": [
    {
     "name": "stderr",
     "output_type": "stream",
     "text": [
      "/tmp/ipykernel_74963/318188114.py:13: PydanticDeprecatedSince20: The `schema_json` method is deprecated; use `model_json_schema` and json.dumps instead. Deprecated in Pydantic V2.0 to be removed in V3.0. See Pydantic V2 Migration Guide at https://errors.pydantic.dev/2.10/migration/\n",
      "  prompt = generate_hermes_prompt(question=question, schema=Decision.schema_json())\n"
     ]
    },
    {
     "name": "stdout",
     "output_type": "stream",
     "text": [
      "\u001b[34m Scratchpad:  \u001b[0m\n",
      "\u001b[34m Thought: To find out which discovery Marie Curie is known for, I will query the database to search for her discoveries. \u001b[0m\n",
      "\u001b[36m  -- running query_generator: MATCH (p:PERSON {name: 'Marie Curie'})-[:DISCOVERED]->(d:DISCOVERY) RETURN d.name\u001b[0m\n",
      "\u001b[33m Cypher query: MATCH (p:PERSON {name: 'Marie Curie'})-[:DISCOVERED]->(d:DISCOVERY) RETURN d.name \u001b[0m\n",
      "\n",
      "\u001b[33m Observation: [d.name: ['Radium', 'Polonium']] \u001b[0m\n",
      "\n",
      "\u001b[34m Scratchpad: Marie Curie is known for discovering Radium and Polonium. \u001b[0m\n",
      "\u001b[34m Final Answer: Marie Curie discovered Radium and Polonium. \u001b[0m\n"
     ]
    },
    {
     "data": {
      "text/plain": [
       "'Marie Curie discovered Radium and Polonium.'"
      ]
     },
     "execution_count": 99,
     "metadata": {},
     "output_type": "execute_result"
    }
   ],
   "source": [
    "#| echo: true\n",
    "query(\"Query the database to see which discovery did Marie Curie do?\")"
   ]
  },
  {
   "cell_type": "markdown",
   "id": "83b64053-1b4d-444f-934f-eeb86f9081fc",
   "metadata": {},
   "source": [
    "### ReAct Agent"
   ]
  },
  {
   "cell_type": "code",
   "execution_count": 100,
   "id": "7081b3ab-2cdb-4ec3-90f8-56db1f5d53f0",
   "metadata": {
    "execution": {
     "iopub.execute_input": "2024-12-08T09:28:30.893345Z",
     "iopub.status.busy": "2024-12-08T09:28:30.893181Z",
     "iopub.status.idle": "2024-12-08T09:28:34.889164Z",
     "shell.execute_reply": "2024-12-08T09:28:34.888358Z",
     "shell.execute_reply.started": "2024-12-08T09:28:30.893330Z"
    }
   },
   "outputs": [
    {
     "name": "stderr",
     "output_type": "stream",
     "text": [
      "/tmp/ipykernel_74963/318188114.py:13: PydanticDeprecatedSince20: The `schema_json` method is deprecated; use `model_json_schema` and json.dumps instead. Deprecated in Pydantic V2.0 to be removed in V3.0. See Pydantic V2 Migration Guide at https://errors.pydantic.dev/2.10/migration/\n",
      "  prompt = generate_hermes_prompt(question=question, schema=Decision.schema_json())\n"
     ]
    },
    {
     "name": "stdout",
     "output_type": "stream",
     "text": [
      "\u001b[34m Scratchpad:  \u001b[0m\n",
      "\u001b[34m Thought: To provide a joke, I will use my knowledge base to find a suitable joke that is appropriate for all ages. \u001b[0m\n",
      "\u001b[36m  -- running conversational_response: Tell a family-friendly joke.\u001b[0m\n",
      "\n",
      "\u001b[33m Observation: Tell a family-friendly joke.\n",
      "Answer to the user. \u001b[0m\n",
      "\n",
      "\u001b[34m Scratchpad: To provide a joke, I will use my knowledge base to find a suitable joke that is appropriate for all ages. \u001b[0m\n",
      "\u001b[34m Final Answer: Why don't scientists trust atoms? Because they make up everything! \u001b[0m\n"
     ]
    },
    {
     "data": {
      "text/plain": [
       "\"Why don't scientists trust atoms? Because they make up everything!\""
      ]
     },
     "execution_count": 100,
     "metadata": {},
     "output_type": "execute_result"
    }
   ],
   "source": [
    "#| echo: true\n",
    "query(\"Tell me a joke.\")"
   ]
  },
  {
   "cell_type": "markdown",
   "id": "3681a369-68cf-485f-9380-2eac356d6e0c",
   "metadata": {},
   "source": [
    "# Conclusions\n",
    "\n",
    "### Conclusions\n",
    "\n",
    "- The goal is to provide better context to the LLM prior to generating its response\n",
    "- Combining graph + vector retrieval help us to achieve this goal better than vector-only retrieval or graph-only retrieval\n",
    "- Structured Outputs + Structured Generation help us to generate Knowledge Graphs from unstructured data\n",
    "- Structured Outputs + Structured Generation help us create KG-based Agents that can query graph databases as well as calling other tools\n",
    "\n",
    "### References {visibility=\"uncounted\"}\n",
    "\n",
    "- [Enhancing the Accuracy of RAG Applications With Knowledge Graphs](https://neo4j.com/developer-blog/enhance-rag-knowledge-graph/) by Tomaž Bratanič\n",
    "- [A GenAI-Powered Song Finder in Four Lines of Code](https://neo4j.com/developer-blog/genai-powered-song-finder/) by Christoffer Bergman\n",
    "- [Graph RAG strategies using Kùzu](https://github.com/kuzudb/graph-rag) by Prashanth Rao\n",
    "- [Coalescence](https://blog.dottxt.co/coalescence.html) by [Will Kurt](https://twitter.com/willkurt)\n",
    "- [Fast, High-Fidelity LLM Decoding with Regex Constraints](https://github.com/vivien000/regex-constrained-decoding) by [Vivien Tran-Thien](https://github.com/vivien000)\n",
    "- [A simple Python implementation of the ReAct pattern for LLMs](https://til.simonwillison.net/llms/python-react-pattern) by [Simon Willison](https://simonwillison.net/)\n",
    "- [LanceDB](https://github.com/lancedb/lancedb) (vector DB) + [Kùzu](https://github.com/kuzudb/kuzu) (graph DB) + [Llama.cpp](https://github.com/abetlen/llama-cpp-python) (inference) + [Outlines](https://dottxt-ai.github.io/outlines/) (structured generation) + [LangChain](https://github.com/langchain-ai/langchain) (framework) + [Solara](https://github.com/widgetti/solara) (visualization)\n",
    "\n",
    "### How was my presentation? {visibility=\"uncounted\"}\n",
    "\n",
    "Please, leave me your anonymous feedback at [https://www.admonymous.co/alonsosilva](https://www.admonymous.co/alonsosilva)"
   ]
  }
 ],
 "metadata": {
  "jupytext": {
   "formats": "ipynb,qmd"
  },
  "kernelspec": {
   "display_name": "Python 3 (ipykernel)",
   "language": "python",
   "name": "python3"
  },
  "language_info": {
   "codemirror_mode": {
    "name": "ipython",
    "version": 3
   },
   "file_extension": ".py",
   "mimetype": "text/x-python",
   "name": "python",
   "nbconvert_exporter": "python",
   "pygments_lexer": "ipython3",
   "version": "3.12.4"
  }
 },
 "nbformat": 4,
 "nbformat_minor": 5
}
